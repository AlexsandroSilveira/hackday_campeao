{
 "cells": [
  {
   "cell_type": "markdown",
   "metadata": {},
   "source": [
    "# 0.0 Imports"
   ]
  },
  {
   "cell_type": "code",
   "execution_count": 1,
   "metadata": {
    "_cell_guid": "b1076dfc-b9ad-4769-8c92-a6c4dae69d19",
    "_uuid": "8f2839f25d086af736a60e9eeb907d3b93b6e0e5",
    "execution": {
     "iopub.execute_input": "2022-06-03T20:33:53.996120Z",
     "iopub.status.busy": "2022-06-03T20:33:53.995673Z",
     "iopub.status.idle": "2022-06-03T20:33:54.010281Z",
     "shell.execute_reply": "2022-06-03T20:33:54.009442Z",
     "shell.execute_reply.started": "2022-06-03T20:33:53.996083Z"
    }
   },
   "outputs": [],
   "source": [
    "import numpy as np\n",
    "import pandas as pd\n",
    "import scipy.stats as stats\n",
    "\n",
    "import xgboost as xgb\n",
    "from sklearn import model_selection as ms\n",
    "from sklearn import preprocessing   as pp\n",
    "from sklearn.ensemble import RandomForestClassifier\n",
    "from sklearn.model_selection import train_test_split\n",
    "from sklearn.preprocessing import LabelEncoder, OrdinalEncoder\n",
    "from sklearn.metrics import accuracy_score, f1_score, precision_score, recall_score, classification_report, confusion_matrix\n",
    "\n",
    "\n",
    "#Visualization\n",
    "import seaborn as sns\n",
    "from matplotlib import pyplot as plt\n",
    "from ydata_profiling import ProfileReport\n",
    "\n",
    "#Others\n",
    "import pickle\n",
    "import warnings\n",
    "\n",
    "from IPython.display       import Image\n",
    "from IPython.core.display  import HTML\n",
    "\n",
    "warnings.filterwarnings( 'ignore' )"
   ]
  },
  {
   "cell_type": "markdown",
   "metadata": {},
   "source": [
    "## 0.1. Helper Functions"
   ]
  },
  {
   "cell_type": "code",
   "execution_count": 2,
   "metadata": {
    "execution": {
     "iopub.execute_input": "2022-06-03T19:51:42.954191Z",
     "iopub.status.busy": "2022-06-03T19:51:42.952945Z",
     "iopub.status.idle": "2022-06-03T19:51:42.993702Z",
     "shell.execute_reply": "2022-06-03T19:51:42.992611Z",
     "shell.execute_reply.started": "2022-06-03T19:51:42.954137Z"
    }
   },
   "outputs": [
    {
     "data": {
      "text/html": [
       "<style>.container { width:100% !important; }</style>"
      ],
      "text/plain": [
       "<IPython.core.display.HTML object>"
      ]
     },
     "metadata": {},
     "output_type": "display_data"
    }
   ],
   "source": [
    "def jupyter_settings():\n",
    "    %matplotlib inline\n",
    "    plt.style.use( 'bmh' )\n",
    "    plt.rcParams['figure.figsize'] = [25, 12]\n",
    "    plt.rcParams['font.size'] = 24\n",
    "    display( HTML( '<style>.container { width:100% !important; }</style>') )\n",
    "    pd.options.display.max_columns = None\n",
    "    pd.options.display.max_rows = None\n",
    "    pd.set_option( 'display.expand_frame_repr', False )\n",
    "    sns.set()\n",
    "    \n",
    "# Plots the disribution of a variable colored by value of the target\n",
    "def kde_target(var_name, df):\n",
    "    \n",
    "    # Calculate the correlation coefficient between the new variable and the target\n",
    "    corr = df['TARGET'].corr(df[var_name])\n",
    "    \n",
    "    # Calculate medians for repaid vs not repaid\n",
    "    avg_repaid = df.ix[df['TARGET'] == 0, var_name].median()\n",
    "    avg_not_repaid = df.ix[df['TARGET'] == 1, var_name].median()\n",
    "    \n",
    "    plt.figure(figsize = (12, 6))\n",
    "    \n",
    "    # Plot the distribution for target == 0 and target == 1\n",
    "    sns.kdeplot(df.ix[df['TARGET'] == 0, var_name], label = 'TARGET == 0')\n",
    "    sns.kdeplot(df.ix[df['TARGET'] == 1, var_name], label = 'TARGET == 1')\n",
    "    \n",
    "    # label the plot\n",
    "    plt.xlabel(var_name); plt.ylabel('Density'); plt.title('%s Distribution' % var_name)\n",
    "    plt.legend();\n",
    "    \n",
    "    # print out the correlation\n",
    "    print('The correlation between %s and the TARGET is %0.4f' % (var_name, corr))\n",
    "    # Print out average values\n",
    "    print('Median value for loan that was not repaid = %0.4f' % avg_not_repaid)\n",
    "    print('Median value for loan that was repaid =     %0.4f' % avg_repaid)\n",
    "\n",
    "\n",
    "def diagnostic_plots(df, variable):\n",
    "    # plot the histograms to have a quick look at the distributions\n",
    "    # we can plot Q-Q plots to visualise if the variable is normally distributed\n",
    "    # function to plot a histogram and a Q-Q plot\n",
    "    # side by side, for a certain variable\n",
    "    \n",
    "    plt.figure(figsize=(15,6))\n",
    "    plt.subplot(1, 2, 1)\n",
    "    df[variable].hist()\n",
    "\n",
    "    plt.subplot(1, 2, 2)\n",
    "    stats.probplot(df[variable], dist=\"norm\", plot=pylab)\n",
    "\n",
    "    plt.show()\n",
    "    \n",
    "\n",
    "jupyter_settings()"
   ]
  },
  {
   "cell_type": "markdown",
   "metadata": {},
   "source": [
    "## 0.2 Loading Data"
   ]
  },
  {
   "cell_type": "code",
   "execution_count": 3,
   "metadata": {
    "execution": {
     "iopub.execute_input": "2022-06-03T19:51:45.920659Z",
     "iopub.status.busy": "2022-06-03T19:51:45.920258Z",
     "iopub.status.idle": "2022-06-03T19:51:46.051376Z",
     "shell.execute_reply": "2022-06-03T19:51:46.050366Z",
     "shell.execute_reply.started": "2022-06-03T19:51:45.920626Z"
    }
   },
   "outputs": [],
   "source": [
    "df_raw = pd.read_csv('csv/train.csv',low_memory=False)\n",
    "test_raw = pd.read_csv('csv/test.csv',low_memory=False)"
   ]
  },
  {
   "cell_type": "markdown",
   "metadata": {},
   "source": [
    "# 1.0. Descrição dos Dados"
   ]
  },
  {
   "cell_type": "code",
   "execution_count": 4,
   "metadata": {
    "execution": {
     "iopub.execute_input": "2022-06-03T19:54:21.544031Z",
     "iopub.status.busy": "2022-06-03T19:54:21.543618Z",
     "iopub.status.idle": "2022-06-03T19:54:21.550546Z",
     "shell.execute_reply": "2022-06-03T19:54:21.549483Z",
     "shell.execute_reply.started": "2022-06-03T19:54:21.544001Z"
    }
   },
   "outputs": [
    {
     "data": {
      "text/html": [
       "<div>\n",
       "<style scoped>\n",
       "    .dataframe tbody tr th:only-of-type {\n",
       "        vertical-align: middle;\n",
       "    }\n",
       "\n",
       "    .dataframe tbody tr th {\n",
       "        vertical-align: top;\n",
       "    }\n",
       "\n",
       "    .dataframe thead th {\n",
       "        text-align: right;\n",
       "    }\n",
       "</style>\n",
       "<table border=\"1\" class=\"dataframe\">\n",
       "  <thead>\n",
       "    <tr style=\"text-align: right;\">\n",
       "      <th></th>\n",
       "      <th>country</th>\n",
       "      <th>year</th>\n",
       "      <th>uniqueid</th>\n",
       "      <th>location_type</th>\n",
       "      <th>cellphone_access</th>\n",
       "      <th>household_size</th>\n",
       "      <th>age_of_respondent</th>\n",
       "      <th>gender_of_respondent</th>\n",
       "      <th>relationship_with_head</th>\n",
       "      <th>marital_status</th>\n",
       "      <th>education_level</th>\n",
       "      <th>job_type</th>\n",
       "      <th>uid</th>\n",
       "      <th>bank_account</th>\n",
       "    </tr>\n",
       "  </thead>\n",
       "  <tbody>\n",
       "    <tr>\n",
       "      <th>0</th>\n",
       "      <td>Rwanda</td>\n",
       "      <td>2016</td>\n",
       "      <td>uniqueid_4858</td>\n",
       "      <td>Rural</td>\n",
       "      <td>Yes</td>\n",
       "      <td>6</td>\n",
       "      <td>45</td>\n",
       "      <td>Male</td>\n",
       "      <td>Head of Household</td>\n",
       "      <td>Divorced/Seperated</td>\n",
       "      <td>Primary education</td>\n",
       "      <td>Farming and Fishing</td>\n",
       "      <td>Rwanda_uniqueid_4858</td>\n",
       "      <td>No</td>\n",
       "    </tr>\n",
       "    <tr>\n",
       "      <th>1</th>\n",
       "      <td>Tanzania</td>\n",
       "      <td>2017</td>\n",
       "      <td>uniqueid_3015</td>\n",
       "      <td>Urban</td>\n",
       "      <td>No</td>\n",
       "      <td>4</td>\n",
       "      <td>33</td>\n",
       "      <td>Female</td>\n",
       "      <td>Head of Household</td>\n",
       "      <td>Single/Never Married</td>\n",
       "      <td>Primary education</td>\n",
       "      <td>Self employed</td>\n",
       "      <td>Tanzania_uniqueid_3015</td>\n",
       "      <td>No</td>\n",
       "    </tr>\n",
       "    <tr>\n",
       "      <th>2</th>\n",
       "      <td>Rwanda</td>\n",
       "      <td>2016</td>\n",
       "      <td>uniqueid_103</td>\n",
       "      <td>Rural</td>\n",
       "      <td>Yes</td>\n",
       "      <td>7</td>\n",
       "      <td>43</td>\n",
       "      <td>Male</td>\n",
       "      <td>Head of Household</td>\n",
       "      <td>Married/Living together</td>\n",
       "      <td>Secondary education</td>\n",
       "      <td>Farming and Fishing</td>\n",
       "      <td>Rwanda_uniqueid_103</td>\n",
       "      <td>No</td>\n",
       "    </tr>\n",
       "    <tr>\n",
       "      <th>3</th>\n",
       "      <td>Rwanda</td>\n",
       "      <td>2016</td>\n",
       "      <td>uniqueid_4582</td>\n",
       "      <td>Rural</td>\n",
       "      <td>No</td>\n",
       "      <td>6</td>\n",
       "      <td>35</td>\n",
       "      <td>Female</td>\n",
       "      <td>Head of Household</td>\n",
       "      <td>Married/Living together</td>\n",
       "      <td>Primary education</td>\n",
       "      <td>Farming and Fishing</td>\n",
       "      <td>Rwanda_uniqueid_4582</td>\n",
       "      <td>No</td>\n",
       "    </tr>\n",
       "    <tr>\n",
       "      <th>4</th>\n",
       "      <td>Tanzania</td>\n",
       "      <td>2017</td>\n",
       "      <td>uniqueid_2854</td>\n",
       "      <td>Urban</td>\n",
       "      <td>Yes</td>\n",
       "      <td>2</td>\n",
       "      <td>30</td>\n",
       "      <td>Male</td>\n",
       "      <td>Head of Household</td>\n",
       "      <td>Single/Never Married</td>\n",
       "      <td>Primary education</td>\n",
       "      <td>Informally employed</td>\n",
       "      <td>Tanzania_uniqueid_2854</td>\n",
       "      <td>No</td>\n",
       "    </tr>\n",
       "  </tbody>\n",
       "</table>\n",
       "</div>"
      ],
      "text/plain": [
       "    country  year       uniqueid location_type cellphone_access  household_size  age_of_respondent gender_of_respondent relationship_with_head           marital_status      education_level             job_type                     uid bank_account\n",
       "0    Rwanda  2016  uniqueid_4858         Rural              Yes               6                 45                 Male      Head of Household       Divorced/Seperated    Primary education  Farming and Fishing    Rwanda_uniqueid_4858           No\n",
       "1  Tanzania  2017  uniqueid_3015         Urban               No               4                 33               Female      Head of Household     Single/Never Married    Primary education        Self employed  Tanzania_uniqueid_3015           No\n",
       "2    Rwanda  2016   uniqueid_103         Rural              Yes               7                 43                 Male      Head of Household  Married/Living together  Secondary education  Farming and Fishing     Rwanda_uniqueid_103           No\n",
       "3    Rwanda  2016  uniqueid_4582         Rural               No               6                 35               Female      Head of Household  Married/Living together    Primary education  Farming and Fishing    Rwanda_uniqueid_4582           No\n",
       "4  Tanzania  2017  uniqueid_2854         Urban              Yes               2                 30                 Male      Head of Household     Single/Never Married    Primary education  Informally employed  Tanzania_uniqueid_2854           No"
      ]
     },
     "execution_count": 4,
     "metadata": {},
     "output_type": "execute_result"
    }
   ],
   "source": [
    "df_raw.head()"
   ]
  },
  {
   "attachments": {},
   "cell_type": "markdown",
   "metadata": {},
   "source": [
    "## 1.1. Data Dimensions and Columns"
   ]
  },
  {
   "cell_type": "code",
   "execution_count": 5,
   "metadata": {
    "execution": {
     "iopub.execute_input": "2022-06-03T19:54:31.032469Z",
     "iopub.status.busy": "2022-06-03T19:54:31.031943Z",
     "iopub.status.idle": "2022-06-03T19:54:31.039400Z",
     "shell.execute_reply": "2022-06-03T19:54:31.038595Z",
     "shell.execute_reply.started": "2022-06-03T19:54:31.032438Z"
    }
   },
   "outputs": [
    {
     "name": "stdout",
     "output_type": "stream",
     "text": [
      "number of rows: 11762\n",
      "number of columns: 14\n"
     ]
    }
   ],
   "source": [
    "print(f'number of rows: {df_raw.shape[0]}')\n",
    "print(f'number of columns: {df_raw.shape[1]}')\n",
    "\n",
    "#df_raw.columns  # already in snake case! :)"
   ]
  },
  {
   "attachments": {},
   "cell_type": "markdown",
   "metadata": {},
   "source": [
    "## 1.2. Data Types"
   ]
  },
  {
   "cell_type": "code",
   "execution_count": 6,
   "metadata": {
    "execution": {
     "iopub.execute_input": "2022-06-03T19:54:37.994883Z",
     "iopub.status.busy": "2022-06-03T19:54:37.994125Z",
     "iopub.status.idle": "2022-06-03T19:54:38.036190Z",
     "shell.execute_reply": "2022-06-03T19:54:38.035146Z",
     "shell.execute_reply.started": "2022-06-03T19:54:37.994838Z"
    }
   },
   "outputs": [
    {
     "name": "stdout",
     "output_type": "stream",
     "text": [
      "<class 'pandas.core.frame.DataFrame'>\n",
      "RangeIndex: 11762 entries, 0 to 11761\n",
      "Data columns (total 14 columns):\n",
      " #   Column                  Non-Null Count  Dtype \n",
      "---  ------                  --------------  ----- \n",
      " 0   country                 11762 non-null  object\n",
      " 1   year                    11762 non-null  int64 \n",
      " 2   uniqueid                11762 non-null  object\n",
      " 3   location_type           11762 non-null  object\n",
      " 4   cellphone_access        11762 non-null  object\n",
      " 5   household_size          11762 non-null  int64 \n",
      " 6   age_of_respondent       11762 non-null  int64 \n",
      " 7   gender_of_respondent    11762 non-null  object\n",
      " 8   relationship_with_head  11762 non-null  object\n",
      " 9   marital_status          11762 non-null  object\n",
      " 10  education_level         11762 non-null  object\n",
      " 11  job_type                11762 non-null  object\n",
      " 12  uid                     11762 non-null  object\n",
      " 13  bank_account            11762 non-null  object\n",
      "dtypes: int64(3), object(11)\n",
      "memory usage: 1.3+ MB\n"
     ]
    }
   ],
   "source": [
    "df_raw.info()"
   ]
  },
  {
   "attachments": {},
   "cell_type": "markdown",
   "metadata": {},
   "source": [
    "## 1.3. Check NA"
   ]
  },
  {
   "cell_type": "code",
   "execution_count": 7,
   "metadata": {
    "execution": {
     "iopub.execute_input": "2022-06-03T19:54:54.344244Z",
     "iopub.status.busy": "2022-06-03T19:54:54.343483Z",
     "iopub.status.idle": "2022-06-03T19:54:54.369467Z",
     "shell.execute_reply": "2022-06-03T19:54:54.368346Z",
     "shell.execute_reply.started": "2022-06-03T19:54:54.344199Z"
    }
   },
   "outputs": [
    {
     "data": {
      "text/plain": [
       "country                   0\n",
       "year                      0\n",
       "uniqueid                  0\n",
       "location_type             0\n",
       "cellphone_access          0\n",
       "household_size            0\n",
       "age_of_respondent         0\n",
       "gender_of_respondent      0\n",
       "relationship_with_head    0\n",
       "marital_status            0\n",
       "education_level           0\n",
       "job_type                  0\n",
       "uid                       0\n",
       "bank_account              0\n",
       "dtype: int64"
      ]
     },
     "execution_count": 7,
     "metadata": {},
     "output_type": "execute_result"
    }
   ],
   "source": [
    "df_raw.isna().sum()"
   ]
  },
  {
   "attachments": {},
   "cell_type": "markdown",
   "metadata": {},
   "source": [
    "## 1.4 EDA"
   ]
  },
  {
   "cell_type": "code",
   "execution_count": 8,
   "metadata": {},
   "outputs": [
    {
     "data": {
      "application/vnd.jupyter.widget-view+json": {
       "model_id": "adca9ce0e34c462bbb1af70b772025db",
       "version_major": 2,
       "version_minor": 0
      },
      "text/plain": [
       "Summarize dataset:   0%|          | 0/5 [00:00<?, ?it/s]"
      ]
     },
     "metadata": {},
     "output_type": "display_data"
    },
    {
     "data": {
      "application/vnd.jupyter.widget-view+json": {
       "model_id": "8443771a40f54bc6a2965d76a47f8c4c",
       "version_major": 2,
       "version_minor": 0
      },
      "text/plain": [
       "Generate report structure:   0%|          | 0/1 [00:00<?, ?it/s]"
      ]
     },
     "metadata": {},
     "output_type": "display_data"
    },
    {
     "data": {
      "application/vnd.jupyter.widget-view+json": {
       "model_id": "ddcae04645854949b66861a4d12ef7d5",
       "version_major": 2,
       "version_minor": 0
      },
      "text/plain": [
       "Render HTML:   0%|          | 0/1 [00:00<?, ?it/s]"
      ]
     },
     "metadata": {},
     "output_type": "display_data"
    },
    {
     "data": {
      "application/vnd.jupyter.widget-view+json": {
       "model_id": "d1c00de25d0e45c09b73c00ba480e4ec",
       "version_major": 2,
       "version_minor": 0
      },
      "text/plain": [
       "Export report to file:   0%|          | 0/1 [00:00<?, ?it/s]"
      ]
     },
     "metadata": {},
     "output_type": "display_data"
    }
   ],
   "source": [
    "#EDA using pandas-profiling\n",
    "profile = ProfileReport(df_raw, explorative=True)\n",
    "\n",
    "#Saving results to a HTML file\n",
    "profile.to_file(\"output.html\")"
   ]
  },
  {
   "attachments": {},
   "cell_type": "markdown",
   "metadata": {},
   "source": [
    "# 2.0 FEATURE ENGINEERING"
   ]
  },
  {
   "cell_type": "code",
   "execution_count": 9,
   "metadata": {
    "execution": {
     "iopub.execute_input": "2022-06-03T20:27:33.581815Z",
     "iopub.status.busy": "2022-06-03T20:27:33.581290Z",
     "iopub.status.idle": "2022-06-03T20:27:33.598379Z",
     "shell.execute_reply": "2022-06-03T20:27:33.597623Z",
     "shell.execute_reply.started": "2022-06-03T20:27:33.581784Z"
    }
   },
   "outputs": [
    {
     "data": {
      "text/html": [
       "<div>\n",
       "<style scoped>\n",
       "    .dataframe tbody tr th:only-of-type {\n",
       "        vertical-align: middle;\n",
       "    }\n",
       "\n",
       "    .dataframe tbody tr th {\n",
       "        vertical-align: top;\n",
       "    }\n",
       "\n",
       "    .dataframe thead th {\n",
       "        text-align: right;\n",
       "    }\n",
       "</style>\n",
       "<table border=\"1\" class=\"dataframe\">\n",
       "  <thead>\n",
       "    <tr style=\"text-align: right;\">\n",
       "      <th></th>\n",
       "      <th>country</th>\n",
       "      <th>year</th>\n",
       "      <th>uniqueid</th>\n",
       "      <th>location_type</th>\n",
       "      <th>cellphone_access</th>\n",
       "      <th>household_size</th>\n",
       "      <th>age_of_respondent</th>\n",
       "      <th>gender_of_respondent</th>\n",
       "      <th>relationship_with_head</th>\n",
       "      <th>marital_status</th>\n",
       "      <th>education_level</th>\n",
       "      <th>job_type</th>\n",
       "      <th>uid</th>\n",
       "      <th>bank_account</th>\n",
       "    </tr>\n",
       "  </thead>\n",
       "  <tbody>\n",
       "    <tr>\n",
       "      <th>0</th>\n",
       "      <td>Rwanda</td>\n",
       "      <td>2016</td>\n",
       "      <td>uniqueid_4858</td>\n",
       "      <td>Rural</td>\n",
       "      <td>Yes</td>\n",
       "      <td>6</td>\n",
       "      <td>45</td>\n",
       "      <td>Male</td>\n",
       "      <td>Head of Household</td>\n",
       "      <td>Divorced/Seperated</td>\n",
       "      <td>Primary education</td>\n",
       "      <td>Farming and Fishing</td>\n",
       "      <td>Rwanda_uniqueid_4858</td>\n",
       "      <td>No</td>\n",
       "    </tr>\n",
       "    <tr>\n",
       "      <th>1</th>\n",
       "      <td>Tanzania</td>\n",
       "      <td>2017</td>\n",
       "      <td>uniqueid_3015</td>\n",
       "      <td>Urban</td>\n",
       "      <td>No</td>\n",
       "      <td>4</td>\n",
       "      <td>33</td>\n",
       "      <td>Female</td>\n",
       "      <td>Head of Household</td>\n",
       "      <td>Single/Never Married</td>\n",
       "      <td>Primary education</td>\n",
       "      <td>Self employed</td>\n",
       "      <td>Tanzania_uniqueid_3015</td>\n",
       "      <td>No</td>\n",
       "    </tr>\n",
       "    <tr>\n",
       "      <th>2</th>\n",
       "      <td>Rwanda</td>\n",
       "      <td>2016</td>\n",
       "      <td>uniqueid_103</td>\n",
       "      <td>Rural</td>\n",
       "      <td>Yes</td>\n",
       "      <td>7</td>\n",
       "      <td>43</td>\n",
       "      <td>Male</td>\n",
       "      <td>Head of Household</td>\n",
       "      <td>Married/Living together</td>\n",
       "      <td>Secondary education</td>\n",
       "      <td>Farming and Fishing</td>\n",
       "      <td>Rwanda_uniqueid_103</td>\n",
       "      <td>No</td>\n",
       "    </tr>\n",
       "    <tr>\n",
       "      <th>3</th>\n",
       "      <td>Rwanda</td>\n",
       "      <td>2016</td>\n",
       "      <td>uniqueid_4582</td>\n",
       "      <td>Rural</td>\n",
       "      <td>No</td>\n",
       "      <td>6</td>\n",
       "      <td>35</td>\n",
       "      <td>Female</td>\n",
       "      <td>Head of Household</td>\n",
       "      <td>Married/Living together</td>\n",
       "      <td>Primary education</td>\n",
       "      <td>Farming and Fishing</td>\n",
       "      <td>Rwanda_uniqueid_4582</td>\n",
       "      <td>No</td>\n",
       "    </tr>\n",
       "    <tr>\n",
       "      <th>4</th>\n",
       "      <td>Tanzania</td>\n",
       "      <td>2017</td>\n",
       "      <td>uniqueid_2854</td>\n",
       "      <td>Urban</td>\n",
       "      <td>Yes</td>\n",
       "      <td>2</td>\n",
       "      <td>30</td>\n",
       "      <td>Male</td>\n",
       "      <td>Head of Household</td>\n",
       "      <td>Single/Never Married</td>\n",
       "      <td>Primary education</td>\n",
       "      <td>Informally employed</td>\n",
       "      <td>Tanzania_uniqueid_2854</td>\n",
       "      <td>No</td>\n",
       "    </tr>\n",
       "  </tbody>\n",
       "</table>\n",
       "</div>"
      ],
      "text/plain": [
       "    country  year       uniqueid location_type cellphone_access  household_size  age_of_respondent gender_of_respondent relationship_with_head           marital_status      education_level             job_type                     uid bank_account\n",
       "0    Rwanda  2016  uniqueid_4858         Rural              Yes               6                 45                 Male      Head of Household       Divorced/Seperated    Primary education  Farming and Fishing    Rwanda_uniqueid_4858           No\n",
       "1  Tanzania  2017  uniqueid_3015         Urban               No               4                 33               Female      Head of Household     Single/Never Married    Primary education        Self employed  Tanzania_uniqueid_3015           No\n",
       "2    Rwanda  2016   uniqueid_103         Rural              Yes               7                 43                 Male      Head of Household  Married/Living together  Secondary education  Farming and Fishing     Rwanda_uniqueid_103           No\n",
       "3    Rwanda  2016  uniqueid_4582         Rural               No               6                 35               Female      Head of Household  Married/Living together    Primary education  Farming and Fishing    Rwanda_uniqueid_4582           No\n",
       "4  Tanzania  2017  uniqueid_2854         Urban              Yes               2                 30                 Male      Head of Household     Single/Never Married    Primary education  Informally employed  Tanzania_uniqueid_2854           No"
      ]
     },
     "execution_count": 9,
     "metadata": {},
     "output_type": "execute_result"
    }
   ],
   "source": [
    "df1 = df_raw.copy()\n",
    "df1.head()"
   ]
  },
  {
   "cell_type": "code",
   "execution_count": 10,
   "metadata": {
    "execution": {
     "iopub.execute_input": "2022-06-03T20:27:35.188405Z",
     "iopub.status.busy": "2022-06-03T20:27:35.188020Z",
     "iopub.status.idle": "2022-06-03T20:27:35.194495Z",
     "shell.execute_reply": "2022-06-03T20:27:35.193491Z",
     "shell.execute_reply.started": "2022-06-03T20:27:35.188374Z"
    }
   },
   "outputs": [],
   "source": [
    "def idade(coluna):\n",
    "    if coluna <= 26:\n",
    "        return \"Jovem\"\n",
    "    elif 26<coluna<=35:\n",
    "        return \"Jovem_Adulto\"\n",
    "    elif 35<coluna<=48:\n",
    "        return \"Adulto\"\n",
    "    else:\n",
    "        return \"Velho\""
   ]
  },
  {
   "cell_type": "code",
   "execution_count": 11,
   "metadata": {
    "execution": {
     "iopub.execute_input": "2022-06-03T20:27:36.407748Z",
     "iopub.status.busy": "2022-06-03T20:27:36.406877Z",
     "iopub.status.idle": "2022-06-03T20:27:36.417932Z",
     "shell.execute_reply": "2022-06-03T20:27:36.417028Z",
     "shell.execute_reply.started": "2022-06-03T20:27:36.407705Z"
    }
   },
   "outputs": [],
   "source": [
    "df1['age_of_respondent'] = df1['age_of_respondent'].map(idade)"
   ]
  },
  {
   "attachments": {},
   "cell_type": "markdown",
   "metadata": {},
   "source": [
    "## 2.1 Encoding Variables"
   ]
  },
  {
   "cell_type": "code",
   "execution_count": 12,
   "metadata": {
    "execution": {
     "iopub.execute_input": "2022-06-03T20:27:41.451953Z",
     "iopub.status.busy": "2022-06-03T20:27:41.451537Z",
     "iopub.status.idle": "2022-06-03T20:27:41.543904Z",
     "shell.execute_reply": "2022-06-03T20:27:41.542931Z",
     "shell.execute_reply.started": "2022-06-03T20:27:41.451916Z"
    }
   },
   "outputs": [],
   "source": [
    "df1['bank_account'] = df1['bank_account'].apply(lambda x: 1 if x=='Yes' else 0)\n",
    "df1['gender_of_respondent'] = df1['gender_of_respondent'].apply(lambda x: 1 if x=='Male' else 0)\n",
    "df1['location_type'] = df1['location_type'].apply(lambda x:1 if x=='Rural' else 0)\n",
    "df1['cellphone_access'] = df1['cellphone_access'].apply(lambda x:1 if x=='Yes' else 0)\n",
    "\n",
    "df1 = pd.get_dummies(df1, columns=['relationship_with_head'], prefix = ['rwh'])\n",
    "df1 = pd.get_dummies(df1, columns=['age_of_respondent'], prefix = ['aor'])\n",
    "df1 = pd.get_dummies(df1, columns=['marital_status'], prefix = ['ms'])\n",
    "df1 = pd.get_dummies(df1, columns=['job_type'], prefix = ['jt'])\n",
    "df1 = pd.get_dummies(df1, columns=['country'], prefix = ['c'])\n",
    "#Label Encoder\n",
    "df1['education_level'] = LabelEncoder().fit_transform(df1['education_level'].astype(str))\n"
   ]
  },
  {
   "cell_type": "code",
   "execution_count": 13,
   "metadata": {
    "execution": {
     "iopub.execute_input": "2022-06-03T20:27:43.657133Z",
     "iopub.status.busy": "2022-06-03T20:27:43.656250Z",
     "iopub.status.idle": "2022-06-03T20:27:43.662751Z",
     "shell.execute_reply": "2022-06-03T20:27:43.661662Z",
     "shell.execute_reply.started": "2022-06-03T20:27:43.657088Z"
    }
   },
   "outputs": [],
   "source": [
    "df1['household_size'] = np.log(df1.household_size)"
   ]
  },
  {
   "cell_type": "code",
   "execution_count": 14,
   "metadata": {
    "execution": {
     "iopub.execute_input": "2022-06-03T20:27:46.415883Z",
     "iopub.status.busy": "2022-06-03T20:27:46.414826Z",
     "iopub.status.idle": "2022-06-03T20:27:46.439779Z",
     "shell.execute_reply": "2022-06-03T20:27:46.438919Z",
     "shell.execute_reply.started": "2022-06-03T20:27:46.415834Z"
    }
   },
   "outputs": [
    {
     "data": {
      "text/html": [
       "<div>\n",
       "<style scoped>\n",
       "    .dataframe tbody tr th:only-of-type {\n",
       "        vertical-align: middle;\n",
       "    }\n",
       "\n",
       "    .dataframe tbody tr th {\n",
       "        vertical-align: top;\n",
       "    }\n",
       "\n",
       "    .dataframe thead th {\n",
       "        text-align: right;\n",
       "    }\n",
       "</style>\n",
       "<table border=\"1\" class=\"dataframe\">\n",
       "  <thead>\n",
       "    <tr style=\"text-align: right;\">\n",
       "      <th></th>\n",
       "      <th>year</th>\n",
       "      <th>uniqueid</th>\n",
       "      <th>location_type</th>\n",
       "      <th>cellphone_access</th>\n",
       "      <th>household_size</th>\n",
       "      <th>gender_of_respondent</th>\n",
       "      <th>education_level</th>\n",
       "      <th>uid</th>\n",
       "      <th>bank_account</th>\n",
       "      <th>rwh_Child</th>\n",
       "      <th>rwh_Head of Household</th>\n",
       "      <th>rwh_Other non-relatives</th>\n",
       "      <th>rwh_Other relative</th>\n",
       "      <th>rwh_Parent</th>\n",
       "      <th>rwh_Spouse</th>\n",
       "      <th>aor_Adulto</th>\n",
       "      <th>aor_Jovem</th>\n",
       "      <th>aor_Jovem_Adulto</th>\n",
       "      <th>aor_Velho</th>\n",
       "      <th>ms_Divorced/Seperated</th>\n",
       "      <th>ms_Dont know</th>\n",
       "      <th>ms_Married/Living together</th>\n",
       "      <th>ms_Single/Never Married</th>\n",
       "      <th>ms_Widowed</th>\n",
       "      <th>jt_Dont Know/Refuse to answer</th>\n",
       "      <th>jt_Farming and Fishing</th>\n",
       "      <th>jt_Formally employed Government</th>\n",
       "      <th>jt_Formally employed Private</th>\n",
       "      <th>jt_Government Dependent</th>\n",
       "      <th>jt_Informally employed</th>\n",
       "      <th>jt_No Income</th>\n",
       "      <th>jt_Other Income</th>\n",
       "      <th>jt_Remittance Dependent</th>\n",
       "      <th>jt_Self employed</th>\n",
       "      <th>c_Kenya</th>\n",
       "      <th>c_Rwanda</th>\n",
       "      <th>c_Tanzania</th>\n",
       "      <th>c_Uganda</th>\n",
       "    </tr>\n",
       "  </thead>\n",
       "  <tbody>\n",
       "    <tr>\n",
       "      <th>0</th>\n",
       "      <td>2016</td>\n",
       "      <td>uniqueid_4858</td>\n",
       "      <td>1</td>\n",
       "      <td>1</td>\n",
       "      <td>1.791759</td>\n",
       "      <td>1</td>\n",
       "      <td>2</td>\n",
       "      <td>Rwanda_uniqueid_4858</td>\n",
       "      <td>0</td>\n",
       "      <td>0</td>\n",
       "      <td>1</td>\n",
       "      <td>0</td>\n",
       "      <td>0</td>\n",
       "      <td>0</td>\n",
       "      <td>0</td>\n",
       "      <td>1</td>\n",
       "      <td>0</td>\n",
       "      <td>0</td>\n",
       "      <td>0</td>\n",
       "      <td>1</td>\n",
       "      <td>0</td>\n",
       "      <td>0</td>\n",
       "      <td>0</td>\n",
       "      <td>0</td>\n",
       "      <td>0</td>\n",
       "      <td>1</td>\n",
       "      <td>0</td>\n",
       "      <td>0</td>\n",
       "      <td>0</td>\n",
       "      <td>0</td>\n",
       "      <td>0</td>\n",
       "      <td>0</td>\n",
       "      <td>0</td>\n",
       "      <td>0</td>\n",
       "      <td>0</td>\n",
       "      <td>1</td>\n",
       "      <td>0</td>\n",
       "      <td>0</td>\n",
       "    </tr>\n",
       "    <tr>\n",
       "      <th>1</th>\n",
       "      <td>2017</td>\n",
       "      <td>uniqueid_3015</td>\n",
       "      <td>0</td>\n",
       "      <td>0</td>\n",
       "      <td>1.386294</td>\n",
       "      <td>0</td>\n",
       "      <td>2</td>\n",
       "      <td>Tanzania_uniqueid_3015</td>\n",
       "      <td>0</td>\n",
       "      <td>0</td>\n",
       "      <td>1</td>\n",
       "      <td>0</td>\n",
       "      <td>0</td>\n",
       "      <td>0</td>\n",
       "      <td>0</td>\n",
       "      <td>0</td>\n",
       "      <td>0</td>\n",
       "      <td>1</td>\n",
       "      <td>0</td>\n",
       "      <td>0</td>\n",
       "      <td>0</td>\n",
       "      <td>0</td>\n",
       "      <td>1</td>\n",
       "      <td>0</td>\n",
       "      <td>0</td>\n",
       "      <td>0</td>\n",
       "      <td>0</td>\n",
       "      <td>0</td>\n",
       "      <td>0</td>\n",
       "      <td>0</td>\n",
       "      <td>0</td>\n",
       "      <td>0</td>\n",
       "      <td>0</td>\n",
       "      <td>1</td>\n",
       "      <td>0</td>\n",
       "      <td>0</td>\n",
       "      <td>1</td>\n",
       "      <td>0</td>\n",
       "    </tr>\n",
       "    <tr>\n",
       "      <th>2</th>\n",
       "      <td>2016</td>\n",
       "      <td>uniqueid_103</td>\n",
       "      <td>1</td>\n",
       "      <td>1</td>\n",
       "      <td>1.945910</td>\n",
       "      <td>1</td>\n",
       "      <td>3</td>\n",
       "      <td>Rwanda_uniqueid_103</td>\n",
       "      <td>0</td>\n",
       "      <td>0</td>\n",
       "      <td>1</td>\n",
       "      <td>0</td>\n",
       "      <td>0</td>\n",
       "      <td>0</td>\n",
       "      <td>0</td>\n",
       "      <td>1</td>\n",
       "      <td>0</td>\n",
       "      <td>0</td>\n",
       "      <td>0</td>\n",
       "      <td>0</td>\n",
       "      <td>0</td>\n",
       "      <td>1</td>\n",
       "      <td>0</td>\n",
       "      <td>0</td>\n",
       "      <td>0</td>\n",
       "      <td>1</td>\n",
       "      <td>0</td>\n",
       "      <td>0</td>\n",
       "      <td>0</td>\n",
       "      <td>0</td>\n",
       "      <td>0</td>\n",
       "      <td>0</td>\n",
       "      <td>0</td>\n",
       "      <td>0</td>\n",
       "      <td>0</td>\n",
       "      <td>1</td>\n",
       "      <td>0</td>\n",
       "      <td>0</td>\n",
       "    </tr>\n",
       "    <tr>\n",
       "      <th>3</th>\n",
       "      <td>2016</td>\n",
       "      <td>uniqueid_4582</td>\n",
       "      <td>1</td>\n",
       "      <td>0</td>\n",
       "      <td>1.791759</td>\n",
       "      <td>0</td>\n",
       "      <td>2</td>\n",
       "      <td>Rwanda_uniqueid_4582</td>\n",
       "      <td>0</td>\n",
       "      <td>0</td>\n",
       "      <td>1</td>\n",
       "      <td>0</td>\n",
       "      <td>0</td>\n",
       "      <td>0</td>\n",
       "      <td>0</td>\n",
       "      <td>0</td>\n",
       "      <td>0</td>\n",
       "      <td>1</td>\n",
       "      <td>0</td>\n",
       "      <td>0</td>\n",
       "      <td>0</td>\n",
       "      <td>1</td>\n",
       "      <td>0</td>\n",
       "      <td>0</td>\n",
       "      <td>0</td>\n",
       "      <td>1</td>\n",
       "      <td>0</td>\n",
       "      <td>0</td>\n",
       "      <td>0</td>\n",
       "      <td>0</td>\n",
       "      <td>0</td>\n",
       "      <td>0</td>\n",
       "      <td>0</td>\n",
       "      <td>0</td>\n",
       "      <td>0</td>\n",
       "      <td>1</td>\n",
       "      <td>0</td>\n",
       "      <td>0</td>\n",
       "    </tr>\n",
       "    <tr>\n",
       "      <th>4</th>\n",
       "      <td>2017</td>\n",
       "      <td>uniqueid_2854</td>\n",
       "      <td>0</td>\n",
       "      <td>1</td>\n",
       "      <td>0.693147</td>\n",
       "      <td>1</td>\n",
       "      <td>2</td>\n",
       "      <td>Tanzania_uniqueid_2854</td>\n",
       "      <td>0</td>\n",
       "      <td>0</td>\n",
       "      <td>1</td>\n",
       "      <td>0</td>\n",
       "      <td>0</td>\n",
       "      <td>0</td>\n",
       "      <td>0</td>\n",
       "      <td>0</td>\n",
       "      <td>0</td>\n",
       "      <td>1</td>\n",
       "      <td>0</td>\n",
       "      <td>0</td>\n",
       "      <td>0</td>\n",
       "      <td>0</td>\n",
       "      <td>1</td>\n",
       "      <td>0</td>\n",
       "      <td>0</td>\n",
       "      <td>0</td>\n",
       "      <td>0</td>\n",
       "      <td>0</td>\n",
       "      <td>0</td>\n",
       "      <td>1</td>\n",
       "      <td>0</td>\n",
       "      <td>0</td>\n",
       "      <td>0</td>\n",
       "      <td>0</td>\n",
       "      <td>0</td>\n",
       "      <td>0</td>\n",
       "      <td>1</td>\n",
       "      <td>0</td>\n",
       "    </tr>\n",
       "  </tbody>\n",
       "</table>\n",
       "</div>"
      ],
      "text/plain": [
       "   year       uniqueid  location_type  cellphone_access  household_size  gender_of_respondent  education_level                     uid  bank_account  rwh_Child  rwh_Head of Household  rwh_Other non-relatives  rwh_Other relative  rwh_Parent  rwh_Spouse  aor_Adulto  aor_Jovem  aor_Jovem_Adulto  aor_Velho  ms_Divorced/Seperated  ms_Dont know  ms_Married/Living together  ms_Single/Never Married  ms_Widowed  jt_Dont Know/Refuse to answer  jt_Farming and Fishing  jt_Formally employed Government  jt_Formally employed Private  jt_Government Dependent  jt_Informally employed  jt_No Income  jt_Other Income  jt_Remittance Dependent  jt_Self employed  c_Kenya  c_Rwanda  c_Tanzania  c_Uganda\n",
       "0  2016  uniqueid_4858              1                 1        1.791759                     1                2    Rwanda_uniqueid_4858             0          0                      1                        0                   0           0           0           1          0                 0          0                      1             0                           0                        0           0                              0                       1                                0                             0                        0                       0             0                0                        0                 0        0         1           0         0\n",
       "1  2017  uniqueid_3015              0                 0        1.386294                     0                2  Tanzania_uniqueid_3015             0          0                      1                        0                   0           0           0           0          0                 1          0                      0             0                           0                        1           0                              0                       0                                0                             0                        0                       0             0                0                        0                 1        0         0           1         0\n",
       "2  2016   uniqueid_103              1                 1        1.945910                     1                3     Rwanda_uniqueid_103             0          0                      1                        0                   0           0           0           1          0                 0          0                      0             0                           1                        0           0                              0                       1                                0                             0                        0                       0             0                0                        0                 0        0         1           0         0\n",
       "3  2016  uniqueid_4582              1                 0        1.791759                     0                2    Rwanda_uniqueid_4582             0          0                      1                        0                   0           0           0           0          0                 1          0                      0             0                           1                        0           0                              0                       1                                0                             0                        0                       0             0                0                        0                 0        0         1           0         0\n",
       "4  2017  uniqueid_2854              0                 1        0.693147                     1                2  Tanzania_uniqueid_2854             0          0                      1                        0                   0           0           0           0          0                 1          0                      0             0                           0                        1           0                              0                       0                                0                             0                        0                       1             0                0                        0                 0        0         0           1         0"
      ]
     },
     "execution_count": 14,
     "metadata": {},
     "output_type": "execute_result"
    }
   ],
   "source": [
    "df1.head()"
   ]
  },
  {
   "cell_type": "code",
   "execution_count": 15,
   "metadata": {},
   "outputs": [
    {
     "data": {
      "text/plain": [
       "year                                 int64\n",
       "uniqueid                            object\n",
       "location_type                        int64\n",
       "cellphone_access                     int64\n",
       "household_size                     float64\n",
       "gender_of_respondent                 int64\n",
       "education_level                      int64\n",
       "uid                                 object\n",
       "bank_account                         int64\n",
       "rwh_Child                            uint8\n",
       "rwh_Head of Household                uint8\n",
       "rwh_Other non-relatives              uint8\n",
       "rwh_Other relative                   uint8\n",
       "rwh_Parent                           uint8\n",
       "rwh_Spouse                           uint8\n",
       "aor_Adulto                           uint8\n",
       "aor_Jovem                            uint8\n",
       "aor_Jovem_Adulto                     uint8\n",
       "aor_Velho                            uint8\n",
       "ms_Divorced/Seperated                uint8\n",
       "ms_Dont know                         uint8\n",
       "ms_Married/Living together           uint8\n",
       "ms_Single/Never Married              uint8\n",
       "ms_Widowed                           uint8\n",
       "jt_Dont Know/Refuse to answer        uint8\n",
       "jt_Farming and Fishing               uint8\n",
       "jt_Formally employed Government      uint8\n",
       "jt_Formally employed Private         uint8\n",
       "jt_Government Dependent              uint8\n",
       "jt_Informally employed               uint8\n",
       "jt_No Income                         uint8\n",
       "jt_Other Income                      uint8\n",
       "jt_Remittance Dependent              uint8\n",
       "jt_Self employed                     uint8\n",
       "c_Kenya                              uint8\n",
       "c_Rwanda                             uint8\n",
       "c_Tanzania                           uint8\n",
       "c_Uganda                             uint8\n",
       "dtype: object"
      ]
     },
     "execution_count": 15,
     "metadata": {},
     "output_type": "execute_result"
    }
   ],
   "source": [
    "df1.dtypes"
   ]
  },
  {
   "cell_type": "markdown",
   "metadata": {},
   "source": [
    "# 3.0 Data Preparation"
   ]
  },
  {
   "cell_type": "code",
   "execution_count": 17,
   "metadata": {},
   "outputs": [],
   "source": [
    "df2 = df1.copy()"
   ]
  },
  {
   "attachments": {},
   "cell_type": "markdown",
   "metadata": {},
   "source": [
    "## 3.1. Split dataframe  into training and testing"
   ]
  },
  {
   "cell_type": "code",
   "execution_count": 18,
   "metadata": {
    "execution": {
     "iopub.execute_input": "2022-06-03T20:27:54.374312Z",
     "iopub.status.busy": "2022-06-03T20:27:54.373914Z",
     "iopub.status.idle": "2022-06-03T20:27:54.382112Z",
     "shell.execute_reply": "2022-06-03T20:27:54.381129Z",
     "shell.execute_reply.started": "2022-06-03T20:27:54.374280Z"
    }
   },
   "outputs": [],
   "source": [
    "Y = df2['bank_account'].copy()\n",
    "X = df2.drop(['uniqueid', 'bank_account','uid'],axis=1)"
   ]
  },
  {
   "cell_type": "code",
   "execution_count": 19,
   "metadata": {
    "execution": {
     "iopub.execute_input": "2022-06-03T20:29:35.299689Z",
     "iopub.status.busy": "2022-06-03T20:29:35.298668Z",
     "iopub.status.idle": "2022-06-03T20:29:35.313937Z",
     "shell.execute_reply": "2022-06-03T20:29:35.312910Z",
     "shell.execute_reply.started": "2022-06-03T20:29:35.299653Z"
    }
   },
   "outputs": [],
   "source": [
    "X_train, X_test, y_train,y_test = train_test_split(X,Y,train_size=0.75,stratify=Y,random_state=123)"
   ]
  },
  {
   "attachments": {},
   "cell_type": "markdown",
   "metadata": {},
   "source": [
    "## 3.2 Seleção de Features"
   ]
  },
  {
   "cell_type": "code",
   "execution_count": 20,
   "metadata": {},
   "outputs": [
    {
     "data": {
      "text/plain": [
       "array([1.81059572e-02, 5.76606163e-02, 3.67038633e-02, 2.12904431e-01,\n",
       "       3.38488925e-02, 1.87796772e-01, 7.89678116e-03, 2.02672850e-02,\n",
       "       3.40716520e-03, 5.51392977e-03, 5.33400810e-03, 1.15554030e-02,\n",
       "       2.24611474e-02, 2.33584477e-02, 2.46371253e-02, 2.12526067e-02,\n",
       "       1.07738111e-02, 8.56214664e-05, 1.89144317e-02, 1.77110546e-02,\n",
       "       9.61500921e-03, 3.25741768e-03, 1.92140005e-02, 3.30789640e-02,\n",
       "       5.34035849e-02, 4.62330658e-03, 2.25539218e-02, 2.30278375e-03,\n",
       "       1.46753220e-02, 1.51380940e-02, 2.55715429e-02, 3.01615329e-02,\n",
       "       7.61495155e-03, 1.02326040e-02, 8.36761397e-03])"
      ]
     },
     "execution_count": 20,
     "metadata": {},
     "output_type": "execute_result"
    }
   ],
   "source": [
    "# Treinando modelo\n",
    "model  = RandomForestClassifier()\n",
    "model.fit(X_train, y_train)# Mostrando importância de cada feature\n",
    "model_feature_importances = model.feature_importances_\n",
    "model_feature_importances"
   ]
  },
  {
   "cell_type": "code",
   "execution_count": 21,
   "metadata": {},
   "outputs": [
    {
     "data": {
      "text/plain": [
       "Text(0.5, 1.0, 'Importância de cada feature')"
      ]
     },
     "execution_count": 21,
     "metadata": {},
     "output_type": "execute_result"
    },
    {
     "data": {
      "image/png": "[encoded data removed]",
      "text/plain": [
       "<Figure size 2500x1200 with 1 Axes>"
      ]
     },
     "metadata": {},
     "output_type": "display_data"
    }
   ],
   "source": [
    "df_feat = df1.drop(['uniqueid', 'bank_account','uid'],axis=1)\n",
    "importances = pd.Series(model_feature_importances, index=df_feat.columns)\n",
    "importances = importances.sort_values(ascending=False)\n",
    "sns.barplot(x=importances, y=importances.index, orient='h').set_title('Importância de cada feature')"
   ]
  },
  {
   "cell_type": "code",
   "execution_count": 22,
   "metadata": {},
   "outputs": [
    {
     "data": {
      "text/plain": [
       "household_size                     0.212904\n",
       "education_level                    0.187797\n",
       "location_type                      0.057661\n",
       "jt_Formally employed Private       0.053404\n",
       "cellphone_access                   0.036704\n",
       "gender_of_respondent               0.033849\n",
       "jt_Formally employed Government    0.033079\n",
       "c_Kenya                            0.030162\n",
       "jt_Self employed                   0.025572\n",
       "aor_Jovem_Adulto                   0.024637\n",
       "aor_Jovem                          0.023358\n",
       "jt_Informally employed             0.022554\n",
       "aor_Adulto                         0.022461\n",
       "aor_Velho                          0.021253\n",
       "rwh_Head of Household              0.020267\n",
       "jt_Farming and Fishing             0.019214\n",
       "ms_Married/Living together         0.018914\n",
       "year                               0.018106\n",
       "ms_Single/Never Married            0.017711\n",
       "jt_Remittance Dependent            0.015138\n",
       "jt_Other Income                    0.014675\n",
       "rwh_Spouse                         0.011555\n",
       "ms_Divorced/Seperated              0.010774\n",
       "c_Tanzania                         0.010233\n",
       "ms_Widowed                         0.009615\n",
       "c_Uganda                           0.008368\n",
       "rwh_Child                          0.007897\n",
       "c_Rwanda                           0.007615\n",
       "rwh_Other relative                 0.005514\n",
       "rwh_Parent                         0.005334\n",
       "jt_Government Dependent            0.004623\n",
       "rwh_Other non-relatives            0.003407\n",
       "jt_Dont Know/Refuse to answer      0.003257\n",
       "jt_No Income                       0.002303\n",
       "ms_Dont know                       0.000086\n",
       "dtype: float64"
      ]
     },
     "execution_count": 22,
     "metadata": {},
     "output_type": "execute_result"
    }
   ],
   "source": [
    "importances"
   ]
  },
  {
   "cell_type": "code",
   "execution_count": 23,
   "metadata": {},
   "outputs": [],
   "source": [
    "cols_selected = ['household_size', 'education_level', 'location_type', 'jt_Formally employed Private', 'cellphone_access', 'gender_of_respondent', 'jt_Formally employed Government',\n",
    "                 'c_Kenya', 'jt_Self employed', 'aor_Jovem_Adulto', 'aor_Jovem', 'aor_Adulto', 'rwh_Head of Household', 'jt_Informally employed','aor_Velho']"
   ]
  },
  {
   "cell_type": "code",
   "execution_count": 24,
   "metadata": {},
   "outputs": [],
   "source": [
    "X_train = X_train[cols_selected]\n",
    "X_test = X_test[cols_selected]"
   ]
  },
  {
   "cell_type": "code",
   "execution_count": 25,
   "metadata": {
    "execution": {
     "iopub.execute_input": "2022-06-03T20:39:40.422307Z",
     "iopub.status.busy": "2022-06-03T20:39:40.421657Z",
     "iopub.status.idle": "2022-06-03T20:39:40.430429Z",
     "shell.execute_reply": "2022-06-03T20:39:40.429480Z",
     "shell.execute_reply.started": "2022-06-03T20:39:40.422255Z"
    }
   },
   "outputs": [],
   "source": [
    "X_train.columns = ['household_size', 'education_level', 'location_type',\n",
    "       'jt_formally_employed_private', 'cellphone_access',\n",
    "       'gender_of_respondent', 'jt_formally_employed_government', 'c_kenya',\n",
    "       'jt_self_employed', 'aor_jovem_adulto', 'aor_jovem', 'aor_adulto',\n",
    "       'rwh_head_of_household', 'jt_informally_employed', 'aor_Velho']\n",
    "\n",
    "X_test.columns = ['household_size', 'education_level', 'location_type',\n",
    "       'jt_formally_employed_private', 'cellphone_access',\n",
    "       'gender_of_respondent', 'jt_formally_employed_government', 'c_kenya',\n",
    "       'jt_self_employed', 'aor_jovem_adulto', 'aor_jovem', 'aor_adulto',\n",
    "       'rwh_head_of_household', 'jt_informally_employed', 'aor_Velho']"
   ]
  },
  {
   "cell_type": "markdown",
   "metadata": {},
   "source": [
    "# 4.0 Machine Learning"
   ]
  },
  {
   "cell_type": "code",
   "execution_count": 26,
   "metadata": {
    "execution": {
     "iopub.execute_input": "2022-06-03T20:39:46.662642Z",
     "iopub.status.busy": "2022-06-03T20:39:46.662116Z",
     "iopub.status.idle": "2022-06-03T20:39:48.985516Z",
     "shell.execute_reply": "2022-06-03T20:39:48.984461Z",
     "shell.execute_reply.started": "2022-06-03T20:39:46.662609Z"
    }
   },
   "outputs": [
    {
     "data": {
      "text/html": [
       "<style>#sk-container-id-1 {color: black;background-color: white;}#sk-container-id-1 pre{padding: 0;}#sk-container-id-1 div.sk-toggleable {background-color: white;}#sk-container-id-1 label.sk-toggleable__label {cursor: pointer;display: block;width: 100%;margin-bottom: 0;padding: 0.3em;box-sizing: border-box;text-align: center;}#sk-container-id-1 label.sk-toggleable__label-arrow:before {content: \"▸\";float: left;margin-right: 0.25em;color: #696969;}#sk-container-id-1 label.sk-toggleable__label-arrow:hover:before {color: black;}#sk-container-id-1 div.sk-estimator:hover label.sk-toggleable__label-arrow:before {color: black;}#sk-container-id-1 div.sk-toggleable__content {max-height: 0;max-width: 0;overflow: hidden;text-align: left;background-color: #f0f8ff;}#sk-container-id-1 div.sk-toggleable__content pre {margin: 0.2em;color: black;border-radius: 0.25em;background-color: #f0f8ff;}#sk-container-id-1 input.sk-toggleable__control:checked~div.sk-toggleable__content {max-height: 200px;max-width: 100%;overflow: auto;}#sk-container-id-1 input.sk-toggleable__control:checked~label.sk-toggleable__label-arrow:before {content: \"▾\";}#sk-container-id-1 div.sk-estimator input.sk-toggleable__control:checked~label.sk-toggleable__label {background-color: #d4ebff;}#sk-container-id-1 div.sk-label input.sk-toggleable__control:checked~label.sk-toggleable__label {background-color: #d4ebff;}#sk-container-id-1 input.sk-hidden--visually {border: 0;clip: rect(1px 1px 1px 1px);clip: rect(1px, 1px, 1px, 1px);height: 1px;margin: -1px;overflow: hidden;padding: 0;position: absolute;width: 1px;}#sk-container-id-1 div.sk-estimator {font-family: monospace;background-color: #f0f8ff;border: 1px dotted black;border-radius: 0.25em;box-sizing: border-box;margin-bottom: 0.5em;}#sk-container-id-1 div.sk-estimator:hover {background-color: #d4ebff;}#sk-container-id-1 div.sk-parallel-item::after {content: \"\";width: 100%;border-bottom: 1px solid gray;flex-grow: 1;}#sk-container-id-1 div.sk-label:hover label.sk-toggleable__label {background-color: #d4ebff;}#sk-container-id-1 div.sk-serial::before {content: \"\";position: absolute;border-left: 1px solid gray;box-sizing: border-box;top: 0;bottom: 0;left: 50%;z-index: 0;}#sk-container-id-1 div.sk-serial {display: flex;flex-direction: column;align-items: center;background-color: white;padding-right: 0.2em;padding-left: 0.2em;position: relative;}#sk-container-id-1 div.sk-item {position: relative;z-index: 1;}#sk-container-id-1 div.sk-parallel {display: flex;align-items: stretch;justify-content: center;background-color: white;position: relative;}#sk-container-id-1 div.sk-item::before, #sk-container-id-1 div.sk-parallel-item::before {content: \"\";position: absolute;border-left: 1px solid gray;box-sizing: border-box;top: 0;bottom: 0;left: 50%;z-index: -1;}#sk-container-id-1 div.sk-parallel-item {display: flex;flex-direction: column;z-index: 1;position: relative;background-color: white;}#sk-container-id-1 div.sk-parallel-item:first-child::after {align-self: flex-end;width: 50%;}#sk-container-id-1 div.sk-parallel-item:last-child::after {align-self: flex-start;width: 50%;}#sk-container-id-1 div.sk-parallel-item:only-child::after {width: 0;}#sk-container-id-1 div.sk-dashed-wrapped {border: 1px dashed gray;margin: 0 0.4em 0.5em 0.4em;box-sizing: border-box;padding-bottom: 0.4em;background-color: white;}#sk-container-id-1 div.sk-label label {font-family: monospace;font-weight: bold;display: inline-block;line-height: 1.2em;}#sk-container-id-1 div.sk-label-container {text-align: center;}#sk-container-id-1 div.sk-container {/* jupyter's `normalize.less` sets `[hidden] { display: none; }` but bootstrap.min.css set `[hidden] { display: none !important; }` so we also need the `!important` here to be able to override the default hidden behavior on the sphinx rendered scikit-learn.org. See: https://github.com/scikit-learn/scikit-learn/issues/21755 */display: inline-block !important;position: relative;}#sk-container-id-1 div.sk-text-repr-fallback {display: none;}</style><div id=\"sk-container-id-1\" class=\"sk-top-container\"><div class=\"sk-text-repr-fallback\"><pre>RandomForestClassifier(bootstrap=False, criterion=&#x27;entropy&#x27;, max_features=0.55,\n",
       "                       min_samples_leaf=9, min_samples_split=12,\n",
       "                       n_estimators=200)</pre><b>In a Jupyter environment, please rerun this cell to show the HTML representation or trust the notebook. <br />On GitHub, the HTML representation is unable to render, please try loading this page with nbviewer.org.</b></div><div class=\"sk-container\" hidden><div class=\"sk-item\"><div class=\"sk-estimator sk-toggleable\"><input class=\"sk-toggleable__control sk-hidden--visually\" id=\"sk-estimator-id-1\" type=\"checkbox\" checked><label for=\"sk-estimator-id-1\" class=\"sk-toggleable__label sk-toggleable__label-arrow\">RandomForestClassifier</label><div class=\"sk-toggleable__content\"><pre>RandomForestClassifier(bootstrap=False, criterion=&#x27;entropy&#x27;, max_features=0.55,\n",
       "                       min_samples_leaf=9, min_samples_split=12,\n",
       "                       n_estimators=200)</pre></div></div></div></div></div>"
      ],
      "text/plain": [
       "RandomForestClassifier(bootstrap=False, criterion='entropy', max_features=0.55,\n",
       "                       min_samples_leaf=9, min_samples_split=12,\n",
       "                       n_estimators=200)"
      ]
     },
     "execution_count": 26,
     "metadata": {},
     "output_type": "execute_result"
    }
   ],
   "source": [
    "clf =  RandomForestClassifier(bootstrap=False, criterion=\"entropy\", max_features=0.55, min_samples_leaf=9, min_samples_split=12, n_estimators=200)\n",
    "clf.fit(X_train, y_train)"
   ]
  },
  {
   "cell_type": "code",
   "execution_count": 27,
   "metadata": {
    "execution": {
     "iopub.execute_input": "2022-06-03T20:40:01.681039Z",
     "iopub.status.busy": "2022-06-03T20:40:01.680004Z",
     "iopub.status.idle": "2022-06-03T20:40:01.822045Z",
     "shell.execute_reply": "2022-06-03T20:40:01.820936Z",
     "shell.execute_reply.started": "2022-06-03T20:40:01.680995Z"
    }
   },
   "outputs": [
    {
     "name": "stdout",
     "output_type": "stream",
     "text": [
      "Accuracy: 88.34%\n",
      "F1: 46.32%\n"
     ]
    }
   ],
   "source": [
    "y_pred=clf.predict(X_test)\n",
    "print(\"Accuracy: %.2f%%\" % (accuracy_score(y_test, y_pred)*100))\n",
    "print(\"F1: %.2f%%\" % (f1_score(y_test, y_pred)*100))"
   ]
  },
  {
   "cell_type": "code",
   "execution_count": 28,
   "metadata": {
    "execution": {
     "iopub.execute_input": "2022-06-03T20:40:11.317164Z",
     "iopub.status.busy": "2022-06-03T20:40:11.316717Z",
     "iopub.status.idle": "2022-06-03T20:40:11.323553Z",
     "shell.execute_reply": "2022-06-03T20:40:11.322742Z",
     "shell.execute_reply.started": "2022-06-03T20:40:11.317128Z"
    }
   },
   "outputs": [],
   "source": [
    "model1 = xgb.XGBClassifier()\n",
    "model2 = xgb.XGBClassifier(n_estimators=100, max_depth=8, learning_rate=0.1, subsample=0.5)\n",
    "model3 = xgb.XGBClassifier(learning_rate= 0.01,\n",
    "                            n_estimators=1500,\n",
    "                            max_depth= 4,\n",
    "                            subsample= 0.8,\n",
    "                            colsample_bytree= 1,\n",
    "                            gamma= 1)"
   ]
  },
  {
   "cell_type": "code",
   "execution_count": 29,
   "metadata": {},
   "outputs": [
    {
     "name": "stdout",
     "output_type": "stream",
     "text": [
      "Accuracy: 87.86%\n",
      "F1: 44.99%\n"
     ]
    }
   ],
   "source": [
    "model1.fit(X_train, y_train)\n",
    "y_pred=model1.predict(X_test)\n",
    "\n",
    "print(\"Accuracy: %.2f%%\" % (accuracy_score(y_test, y_pred)*100))\n",
    "print(\"F1: %.2f%%\" % (f1_score(y_test, y_pred)*100))"
   ]
  },
  {
   "cell_type": "code",
   "execution_count": 30,
   "metadata": {
    "execution": {
     "iopub.execute_input": "2022-06-03T20:40:14.375232Z",
     "iopub.status.busy": "2022-06-03T20:40:14.374599Z",
     "iopub.status.idle": "2022-06-03T20:40:15.245366Z",
     "shell.execute_reply": "2022-06-03T20:40:15.244585Z",
     "shell.execute_reply.started": "2022-06-03T20:40:14.375195Z"
    }
   },
   "outputs": [
    {
     "name": "stdout",
     "output_type": "stream",
     "text": [
      "Accuracy: 87.86%\n",
      "F1: 45.33%\n"
     ]
    }
   ],
   "source": [
    "model2.fit(X_train, y_train)\n",
    "y_pred=model2.predict(X_test)\n",
    "\n",
    "print(\"Accuracy: %.2f%%\" % (accuracy_score(y_test, y_pred)*100))\n",
    "print(\"F1: %.2f%%\" % (f1_score(y_test, y_pred)*100))"
   ]
  },
  {
   "cell_type": "code",
   "execution_count": 31,
   "metadata": {
    "execution": {
     "iopub.execute_input": "2022-06-03T20:40:19.668830Z",
     "iopub.status.busy": "2022-06-03T20:40:19.668408Z",
     "iopub.status.idle": "2022-06-03T20:40:30.815890Z",
     "shell.execute_reply": "2022-06-03T20:40:30.814797Z",
     "shell.execute_reply.started": "2022-06-03T20:40:19.668797Z"
    }
   },
   "outputs": [
    {
     "name": "stdout",
     "output_type": "stream",
     "text": [
      "Accuracy: 88.54%\n",
      "F1: 45.56%\n"
     ]
    }
   ],
   "source": [
    "model3.fit(X_train, y_train)\n",
    "y_pred=model3.predict(X_test)\n",
    "\n",
    "print(\"Accuracy: %.2f%%\" % (accuracy_score(y_test, y_pred)*100))\n",
    "print(\"F1: %.2f%%\" % (f1_score(y_test, y_pred)*100))"
   ]
  },
  {
   "attachments": {},
   "cell_type": "markdown",
   "metadata": {},
   "source": [
    "# 5.0 Test Submission"
   ]
  },
  {
   "cell_type": "code",
   "execution_count": 32,
   "metadata": {
    "execution": {
     "iopub.execute_input": "2022-06-03T20:44:00.682957Z",
     "iopub.status.busy": "2022-06-03T20:44:00.682532Z",
     "iopub.status.idle": "2022-06-03T20:44:00.689081Z",
     "shell.execute_reply": "2022-06-03T20:44:00.687941Z",
     "shell.execute_reply.started": "2022-06-03T20:44:00.682921Z"
    }
   },
   "outputs": [],
   "source": [
    "test = test_raw.copy()"
   ]
  },
  {
   "cell_type": "code",
   "execution_count": 33,
   "metadata": {
    "execution": {
     "iopub.execute_input": "2022-06-03T20:44:02.560751Z",
     "iopub.status.busy": "2022-06-03T20:44:02.560180Z",
     "iopub.status.idle": "2022-06-03T20:44:02.576184Z",
     "shell.execute_reply": "2022-06-03T20:44:02.575385Z",
     "shell.execute_reply.started": "2022-06-03T20:44:02.560719Z"
    }
   },
   "outputs": [
    {
     "data": {
      "text/html": [
       "<div>\n",
       "<style scoped>\n",
       "    .dataframe tbody tr th:only-of-type {\n",
       "        vertical-align: middle;\n",
       "    }\n",
       "\n",
       "    .dataframe tbody tr th {\n",
       "        vertical-align: top;\n",
       "    }\n",
       "\n",
       "    .dataframe thead th {\n",
       "        text-align: right;\n",
       "    }\n",
       "</style>\n",
       "<table border=\"1\" class=\"dataframe\">\n",
       "  <thead>\n",
       "    <tr style=\"text-align: right;\">\n",
       "      <th></th>\n",
       "      <th>country</th>\n",
       "      <th>year</th>\n",
       "      <th>uniqueid</th>\n",
       "      <th>location_type</th>\n",
       "      <th>cellphone_access</th>\n",
       "      <th>household_size</th>\n",
       "      <th>age_of_respondent</th>\n",
       "      <th>gender_of_respondent</th>\n",
       "      <th>relationship_with_head</th>\n",
       "      <th>marital_status</th>\n",
       "      <th>education_level</th>\n",
       "      <th>job_type</th>\n",
       "      <th>uid</th>\n",
       "    </tr>\n",
       "  </thead>\n",
       "  <tbody>\n",
       "    <tr>\n",
       "      <th>10901</th>\n",
       "      <td>Rwanda</td>\n",
       "      <td>2016</td>\n",
       "      <td>uniqueid_1736</td>\n",
       "      <td>Rural</td>\n",
       "      <td>Yes</td>\n",
       "      <td>3</td>\n",
       "      <td>50</td>\n",
       "      <td>Male</td>\n",
       "      <td>Head of Household</td>\n",
       "      <td>Single/Never Married</td>\n",
       "      <td>Secondary education</td>\n",
       "      <td>Farming and Fishing</td>\n",
       "      <td>Rwanda_uniqueid_1736</td>\n",
       "    </tr>\n",
       "  </tbody>\n",
       "</table>\n",
       "</div>"
      ],
      "text/plain": [
       "      country  year       uniqueid location_type cellphone_access  household_size  age_of_respondent gender_of_respondent relationship_with_head        marital_status      education_level             job_type                   uid\n",
       "10901  Rwanda  2016  uniqueid_1736         Rural              Yes               3                 50                 Male      Head of Household  Single/Never Married  Secondary education  Farming and Fishing  Rwanda_uniqueid_1736"
      ]
     },
     "execution_count": 33,
     "metadata": {},
     "output_type": "execute_result"
    }
   ],
   "source": [
    "test.sample()"
   ]
  },
  {
   "attachments": {},
   "cell_type": "markdown",
   "metadata": {},
   "source": [
    "## 5.1 Variable Encoding"
   ]
  },
  {
   "cell_type": "code",
   "execution_count": 34,
   "metadata": {
    "execution": {
     "iopub.execute_input": "2022-06-03T20:44:04.623970Z",
     "iopub.status.busy": "2022-06-03T20:44:04.623444Z",
     "iopub.status.idle": "2022-06-03T20:44:04.634108Z",
     "shell.execute_reply": "2022-06-03T20:44:04.633104Z",
     "shell.execute_reply.started": "2022-06-03T20:44:04.623938Z"
    }
   },
   "outputs": [],
   "source": [
    "test['age_of_respondent'] = test['age_of_respondent'].map(idade)"
   ]
  },
  {
   "cell_type": "code",
   "execution_count": 35,
   "metadata": {
    "execution": {
     "iopub.execute_input": "2022-06-03T20:44:06.437281Z",
     "iopub.status.busy": "2022-06-03T20:44:06.436872Z",
     "iopub.status.idle": "2022-06-03T20:44:06.522636Z",
     "shell.execute_reply": "2022-06-03T20:44:06.521593Z",
     "shell.execute_reply.started": "2022-06-03T20:44:06.437246Z"
    }
   },
   "outputs": [],
   "source": [
    "\n",
    "test['gender_of_respondent']=test['gender_of_respondent'].apply(lambda x: 1 if x=='Male' else 0)\n",
    "test['location_type']=test['location_type'].apply(lambda x:1 if x=='Rural' else 0)\n",
    "test['cellphone_access']=test['cellphone_access'].apply(lambda x:1 if x=='Yes' else 0)\n",
    "\n",
    "test = pd.get_dummies(test, columns=['relationship_with_head'], prefix = ['rwh'])\n",
    "test = pd.get_dummies(test, columns=['age_of_respondent'], prefix = ['aor'])\n",
    "\n",
    "test = pd.get_dummies(test, columns=['marital_status'], prefix = ['ms'])\n",
    "test = pd.get_dummies(test, columns=['job_type'], prefix = ['jt'])\n",
    "test = pd.get_dummies(test, columns=['country'], prefix = ['c'])\n",
    "\n",
    "test['education_level'] = LabelEncoder().fit_transform(test['education_level'].astype(str))\n"
   ]
  },
  {
   "cell_type": "code",
   "execution_count": 36,
   "metadata": {
    "execution": {
     "iopub.execute_input": "2022-06-03T20:44:17.255569Z",
     "iopub.status.busy": "2022-06-03T20:44:17.255101Z",
     "iopub.status.idle": "2022-06-03T20:44:17.261927Z",
     "shell.execute_reply": "2022-06-03T20:44:17.261164Z",
     "shell.execute_reply.started": "2022-06-03T20:44:17.255469Z"
    }
   },
   "outputs": [],
   "source": [
    "test['household_size'] = np.log(test.household_size)"
   ]
  },
  {
   "attachments": {},
   "cell_type": "markdown",
   "metadata": {},
   "source": [
    "## 5.2 Feature Selection"
   ]
  },
  {
   "cell_type": "code",
   "execution_count": 37,
   "metadata": {},
   "outputs": [],
   "source": [
    "df_test = test[cols_selected]\n",
    "df_test.columns = ['household_size', 'education_level', 'location_type',\n",
    "       'jt_formally_employed_private', 'cellphone_access',\n",
    "       'gender_of_respondent', 'jt_formally_employed_government', 'c_kenya',\n",
    "       'jt_self_employed', 'aor_jovem_adulto', 'aor_jovem', 'aor_adulto',\n",
    "       'rwh_head_of_household', 'jt_informally_employed', 'aor_Velho']"
   ]
  },
  {
   "attachments": {},
   "cell_type": "markdown",
   "metadata": {},
   "source": [
    "## 5.2 Training Model"
   ]
  },
  {
   "cell_type": "code",
   "execution_count": 38,
   "metadata": {
    "execution": {
     "iopub.execute_input": "2022-06-03T20:15:59.146745Z",
     "iopub.status.busy": "2022-06-03T20:15:59.146383Z",
     "iopub.status.idle": "2022-06-03T20:15:59.189739Z",
     "shell.execute_reply": "2022-06-03T20:15:59.188634Z",
     "shell.execute_reply.started": "2022-06-03T20:15:59.146716Z"
    }
   },
   "outputs": [],
   "source": [
    "# Make a prediction using the XGboost model on the wanted columns\n",
    "predictions = model3.predict(df_test)"
   ]
  },
  {
   "cell_type": "code",
   "execution_count": 39,
   "metadata": {
    "execution": {
     "iopub.execute_input": "2022-06-03T20:16:25.970800Z",
     "iopub.status.busy": "2022-06-03T20:16:25.970175Z",
     "iopub.status.idle": "2022-06-03T20:16:25.977457Z",
     "shell.execute_reply": "2022-06-03T20:16:25.976752Z",
     "shell.execute_reply.started": "2022-06-03T20:16:25.970759Z"
    }
   },
   "outputs": [],
   "source": [
    "submission = pd.DataFrame({'uid': test.uid, 'bank_account': predictions})"
   ]
  },
  {
   "cell_type": "code",
   "execution_count": 40,
   "metadata": {
    "execution": {
     "iopub.execute_input": "2022-06-03T20:16:44.535189Z",
     "iopub.status.busy": "2022-06-03T20:16:44.534602Z",
     "iopub.status.idle": "2022-06-03T20:16:44.543675Z",
     "shell.execute_reply": "2022-06-03T20:16:44.542518Z",
     "shell.execute_reply.started": "2022-06-03T20:16:44.535138Z"
    }
   },
   "outputs": [
    {
     "data": {
      "text/plain": [
       "uid             object\n",
       "bank_account     int64\n",
       "dtype: object"
      ]
     },
     "execution_count": 40,
     "metadata": {},
     "output_type": "execute_result"
    }
   ],
   "source": [
    "submission.dtypes"
   ]
  },
  {
   "cell_type": "code",
   "execution_count": 41,
   "metadata": {
    "execution": {
     "iopub.execute_input": "2022-06-03T20:16:50.364021Z",
     "iopub.status.busy": "2022-06-03T20:16:50.363631Z",
     "iopub.status.idle": "2022-06-03T20:16:50.372405Z",
     "shell.execute_reply": "2022-06-03T20:16:50.371474Z",
     "shell.execute_reply.started": "2022-06-03T20:16:50.363991Z"
    }
   },
   "outputs": [
    {
     "data": {
      "text/plain": [
       "0    10952\n",
       "1      810\n",
       "Name: bank_account, dtype: int64"
      ]
     },
     "execution_count": 41,
     "metadata": {},
     "output_type": "execute_result"
    }
   ],
   "source": [
    "submission['bank_account'].value_counts()"
   ]
  },
  {
   "cell_type": "code",
   "execution_count": 42,
   "metadata": {
    "execution": {
     "iopub.execute_input": "2022-06-03T20:19:24.085676Z",
     "iopub.status.busy": "2022-06-03T20:19:24.085276Z",
     "iopub.status.idle": "2022-06-03T20:19:24.090638Z",
     "shell.execute_reply": "2022-06-03T20:19:24.089671Z",
     "shell.execute_reply.started": "2022-06-03T20:19:24.085646Z"
    }
   },
   "outputs": [],
   "source": [
    "def yesno(coluna):\n",
    "    if coluna == 0:\n",
    "        return \"No\"\n",
    "    else:\n",
    "        return \"Yes\""
   ]
  },
  {
   "cell_type": "code",
   "execution_count": 43,
   "metadata": {
    "execution": {
     "iopub.execute_input": "2022-06-03T20:19:26.786674Z",
     "iopub.status.busy": "2022-06-03T20:19:26.786290Z",
     "iopub.status.idle": "2022-06-03T20:19:26.795677Z",
     "shell.execute_reply": "2022-06-03T20:19:26.794551Z",
     "shell.execute_reply.started": "2022-06-03T20:19:26.786644Z"
    }
   },
   "outputs": [],
   "source": [
    "submission['bank_account'] = submission['bank_account'].map(yesno)"
   ]
  },
  {
   "cell_type": "code",
   "execution_count": 44,
   "metadata": {
    "execution": {
     "iopub.execute_input": "2022-06-03T20:19:28.506704Z",
     "iopub.status.busy": "2022-06-03T20:19:28.505979Z",
     "iopub.status.idle": "2022-06-03T20:19:28.525665Z",
     "shell.execute_reply": "2022-06-03T20:19:28.524872Z",
     "shell.execute_reply.started": "2022-06-03T20:19:28.506666Z"
    }
   },
   "outputs": [
    {
     "data": {
      "text/html": [
       "<div>\n",
       "<style scoped>\n",
       "    .dataframe tbody tr th:only-of-type {\n",
       "        vertical-align: middle;\n",
       "    }\n",
       "\n",
       "    .dataframe tbody tr th {\n",
       "        vertical-align: top;\n",
       "    }\n",
       "\n",
       "    .dataframe thead th {\n",
       "        text-align: right;\n",
       "    }\n",
       "</style>\n",
       "<table border=\"1\" class=\"dataframe\">\n",
       "  <thead>\n",
       "    <tr style=\"text-align: right;\">\n",
       "      <th></th>\n",
       "      <th>uid</th>\n",
       "      <th>bank_account</th>\n",
       "    </tr>\n",
       "  </thead>\n",
       "  <tbody>\n",
       "    <tr>\n",
       "      <th>6258</th>\n",
       "      <td>Kenya_uniqueid_3580</td>\n",
       "      <td>No</td>\n",
       "    </tr>\n",
       "    <tr>\n",
       "      <th>7431</th>\n",
       "      <td>Kenya_uniqueid_3380</td>\n",
       "      <td>No</td>\n",
       "    </tr>\n",
       "    <tr>\n",
       "      <th>2173</th>\n",
       "      <td>Kenya_uniqueid_425</td>\n",
       "      <td>No</td>\n",
       "    </tr>\n",
       "    <tr>\n",
       "      <th>5310</th>\n",
       "      <td>Tanzania_uniqueid_5889</td>\n",
       "      <td>No</td>\n",
       "    </tr>\n",
       "    <tr>\n",
       "      <th>715</th>\n",
       "      <td>Rwanda_uniqueid_821</td>\n",
       "      <td>No</td>\n",
       "    </tr>\n",
       "    <tr>\n",
       "      <th>252</th>\n",
       "      <td>Rwanda_uniqueid_1953</td>\n",
       "      <td>No</td>\n",
       "    </tr>\n",
       "    <tr>\n",
       "      <th>7231</th>\n",
       "      <td>Rwanda_uniqueid_2984</td>\n",
       "      <td>No</td>\n",
       "    </tr>\n",
       "    <tr>\n",
       "      <th>7806</th>\n",
       "      <td>Tanzania_uniqueid_5379</td>\n",
       "      <td>No</td>\n",
       "    </tr>\n",
       "    <tr>\n",
       "      <th>2941</th>\n",
       "      <td>Rwanda_uniqueid_6726</td>\n",
       "      <td>No</td>\n",
       "    </tr>\n",
       "    <tr>\n",
       "      <th>5395</th>\n",
       "      <td>Rwanda_uniqueid_6725</td>\n",
       "      <td>No</td>\n",
       "    </tr>\n",
       "    <tr>\n",
       "      <th>4005</th>\n",
       "      <td>Tanzania_uniqueid_252</td>\n",
       "      <td>No</td>\n",
       "    </tr>\n",
       "    <tr>\n",
       "      <th>11257</th>\n",
       "      <td>Rwanda_uniqueid_1473</td>\n",
       "      <td>No</td>\n",
       "    </tr>\n",
       "    <tr>\n",
       "      <th>7009</th>\n",
       "      <td>Tanzania_uniqueid_4693</td>\n",
       "      <td>No</td>\n",
       "    </tr>\n",
       "    <tr>\n",
       "      <th>5724</th>\n",
       "      <td>Rwanda_uniqueid_7430</td>\n",
       "      <td>No</td>\n",
       "    </tr>\n",
       "    <tr>\n",
       "      <th>2584</th>\n",
       "      <td>Rwanda_uniqueid_2239</td>\n",
       "      <td>No</td>\n",
       "    </tr>\n",
       "    <tr>\n",
       "      <th>4738</th>\n",
       "      <td>Kenya_uniqueid_5941</td>\n",
       "      <td>No</td>\n",
       "    </tr>\n",
       "    <tr>\n",
       "      <th>4394</th>\n",
       "      <td>Kenya_uniqueid_2695</td>\n",
       "      <td>No</td>\n",
       "    </tr>\n",
       "    <tr>\n",
       "      <th>4502</th>\n",
       "      <td>Kenya_uniqueid_1259</td>\n",
       "      <td>No</td>\n",
       "    </tr>\n",
       "    <tr>\n",
       "      <th>10651</th>\n",
       "      <td>Rwanda_uniqueid_773</td>\n",
       "      <td>No</td>\n",
       "    </tr>\n",
       "    <tr>\n",
       "      <th>1905</th>\n",
       "      <td>Uganda_uniqueid_524</td>\n",
       "      <td>No</td>\n",
       "    </tr>\n",
       "    <tr>\n",
       "      <th>3921</th>\n",
       "      <td>Rwanda_uniqueid_4073</td>\n",
       "      <td>No</td>\n",
       "    </tr>\n",
       "    <tr>\n",
       "      <th>2334</th>\n",
       "      <td>Kenya_uniqueid_2239</td>\n",
       "      <td>Yes</td>\n",
       "    </tr>\n",
       "    <tr>\n",
       "      <th>4691</th>\n",
       "      <td>Rwanda_uniqueid_6837</td>\n",
       "      <td>No</td>\n",
       "    </tr>\n",
       "    <tr>\n",
       "      <th>2825</th>\n",
       "      <td>Kenya_uniqueid_908</td>\n",
       "      <td>No</td>\n",
       "    </tr>\n",
       "    <tr>\n",
       "      <th>11559</th>\n",
       "      <td>Rwanda_uniqueid_1313</td>\n",
       "      <td>No</td>\n",
       "    </tr>\n",
       "    <tr>\n",
       "      <th>297</th>\n",
       "      <td>Kenya_uniqueid_1531</td>\n",
       "      <td>No</td>\n",
       "    </tr>\n",
       "    <tr>\n",
       "      <th>8849</th>\n",
       "      <td>Rwanda_uniqueid_3170</td>\n",
       "      <td>No</td>\n",
       "    </tr>\n",
       "    <tr>\n",
       "      <th>1854</th>\n",
       "      <td>Rwanda_uniqueid_7978</td>\n",
       "      <td>No</td>\n",
       "    </tr>\n",
       "    <tr>\n",
       "      <th>6305</th>\n",
       "      <td>Rwanda_uniqueid_7390</td>\n",
       "      <td>No</td>\n",
       "    </tr>\n",
       "    <tr>\n",
       "      <th>3740</th>\n",
       "      <td>Rwanda_uniqueid_4061</td>\n",
       "      <td>No</td>\n",
       "    </tr>\n",
       "    <tr>\n",
       "      <th>495</th>\n",
       "      <td>Kenya_uniqueid_2291</td>\n",
       "      <td>No</td>\n",
       "    </tr>\n",
       "    <tr>\n",
       "      <th>9662</th>\n",
       "      <td>Uganda_uniqueid_1957</td>\n",
       "      <td>No</td>\n",
       "    </tr>\n",
       "    <tr>\n",
       "      <th>7225</th>\n",
       "      <td>Tanzania_uniqueid_659</td>\n",
       "      <td>No</td>\n",
       "    </tr>\n",
       "    <tr>\n",
       "      <th>11558</th>\n",
       "      <td>Rwanda_uniqueid_563</td>\n",
       "      <td>No</td>\n",
       "    </tr>\n",
       "    <tr>\n",
       "      <th>6183</th>\n",
       "      <td>Uganda_uniqueid_1707</td>\n",
       "      <td>No</td>\n",
       "    </tr>\n",
       "    <tr>\n",
       "      <th>5829</th>\n",
       "      <td>Rwanda_uniqueid_2806</td>\n",
       "      <td>No</td>\n",
       "    </tr>\n",
       "    <tr>\n",
       "      <th>752</th>\n",
       "      <td>Tanzania_uniqueid_450</td>\n",
       "      <td>No</td>\n",
       "    </tr>\n",
       "    <tr>\n",
       "      <th>5372</th>\n",
       "      <td>Rwanda_uniqueid_7016</td>\n",
       "      <td>No</td>\n",
       "    </tr>\n",
       "    <tr>\n",
       "      <th>8976</th>\n",
       "      <td>Uganda_uniqueid_70</td>\n",
       "      <td>No</td>\n",
       "    </tr>\n",
       "    <tr>\n",
       "      <th>1233</th>\n",
       "      <td>Tanzania_uniqueid_4076</td>\n",
       "      <td>No</td>\n",
       "    </tr>\n",
       "    <tr>\n",
       "      <th>4662</th>\n",
       "      <td>Kenya_uniqueid_1012</td>\n",
       "      <td>No</td>\n",
       "    </tr>\n",
       "    <tr>\n",
       "      <th>3290</th>\n",
       "      <td>Kenya_uniqueid_3814</td>\n",
       "      <td>No</td>\n",
       "    </tr>\n",
       "    <tr>\n",
       "      <th>5837</th>\n",
       "      <td>Kenya_uniqueid_412</td>\n",
       "      <td>No</td>\n",
       "    </tr>\n",
       "    <tr>\n",
       "      <th>5647</th>\n",
       "      <td>Uganda_uniqueid_1378</td>\n",
       "      <td>No</td>\n",
       "    </tr>\n",
       "    <tr>\n",
       "      <th>10539</th>\n",
       "      <td>Kenya_uniqueid_5090</td>\n",
       "      <td>No</td>\n",
       "    </tr>\n",
       "    <tr>\n",
       "      <th>7037</th>\n",
       "      <td>Rwanda_uniqueid_4686</td>\n",
       "      <td>No</td>\n",
       "    </tr>\n",
       "    <tr>\n",
       "      <th>2534</th>\n",
       "      <td>Uganda_uniqueid_798</td>\n",
       "      <td>No</td>\n",
       "    </tr>\n",
       "    <tr>\n",
       "      <th>6529</th>\n",
       "      <td>Rwanda_uniqueid_1930</td>\n",
       "      <td>No</td>\n",
       "    </tr>\n",
       "    <tr>\n",
       "      <th>773</th>\n",
       "      <td>Rwanda_uniqueid_1907</td>\n",
       "      <td>No</td>\n",
       "    </tr>\n",
       "    <tr>\n",
       "      <th>2619</th>\n",
       "      <td>Rwanda_uniqueid_4263</td>\n",
       "      <td>No</td>\n",
       "    </tr>\n",
       "    <tr>\n",
       "      <th>2146</th>\n",
       "      <td>Kenya_uniqueid_2128</td>\n",
       "      <td>No</td>\n",
       "    </tr>\n",
       "    <tr>\n",
       "      <th>163</th>\n",
       "      <td>Kenya_uniqueid_5729</td>\n",
       "      <td>No</td>\n",
       "    </tr>\n",
       "    <tr>\n",
       "      <th>10825</th>\n",
       "      <td>Rwanda_uniqueid_7331</td>\n",
       "      <td>No</td>\n",
       "    </tr>\n",
       "    <tr>\n",
       "      <th>11304</th>\n",
       "      <td>Rwanda_uniqueid_6019</td>\n",
       "      <td>No</td>\n",
       "    </tr>\n",
       "    <tr>\n",
       "      <th>3246</th>\n",
       "      <td>Kenya_uniqueid_1348</td>\n",
       "      <td>No</td>\n",
       "    </tr>\n",
       "    <tr>\n",
       "      <th>7643</th>\n",
       "      <td>Tanzania_uniqueid_1161</td>\n",
       "      <td>No</td>\n",
       "    </tr>\n",
       "    <tr>\n",
       "      <th>11758</th>\n",
       "      <td>Rwanda_uniqueid_2344</td>\n",
       "      <td>No</td>\n",
       "    </tr>\n",
       "    <tr>\n",
       "      <th>2068</th>\n",
       "      <td>Uganda_uniqueid_617</td>\n",
       "      <td>No</td>\n",
       "    </tr>\n",
       "    <tr>\n",
       "      <th>2039</th>\n",
       "      <td>Kenya_uniqueid_1035</td>\n",
       "      <td>Yes</td>\n",
       "    </tr>\n",
       "    <tr>\n",
       "      <th>5528</th>\n",
       "      <td>Rwanda_uniqueid_4600</td>\n",
       "      <td>No</td>\n",
       "    </tr>\n",
       "    <tr>\n",
       "      <th>1897</th>\n",
       "      <td>Kenya_uniqueid_4195</td>\n",
       "      <td>No</td>\n",
       "    </tr>\n",
       "    <tr>\n",
       "      <th>8898</th>\n",
       "      <td>Tanzania_uniqueid_3467</td>\n",
       "      <td>No</td>\n",
       "    </tr>\n",
       "    <tr>\n",
       "      <th>4926</th>\n",
       "      <td>Rwanda_uniqueid_8713</td>\n",
       "      <td>No</td>\n",
       "    </tr>\n",
       "    <tr>\n",
       "      <th>10739</th>\n",
       "      <td>Rwanda_uniqueid_4214</td>\n",
       "      <td>No</td>\n",
       "    </tr>\n",
       "    <tr>\n",
       "      <th>3938</th>\n",
       "      <td>Kenya_uniqueid_1367</td>\n",
       "      <td>Yes</td>\n",
       "    </tr>\n",
       "    <tr>\n",
       "      <th>2282</th>\n",
       "      <td>Rwanda_uniqueid_2536</td>\n",
       "      <td>No</td>\n",
       "    </tr>\n",
       "    <tr>\n",
       "      <th>1268</th>\n",
       "      <td>Kenya_uniqueid_4631</td>\n",
       "      <td>No</td>\n",
       "    </tr>\n",
       "    <tr>\n",
       "      <th>11496</th>\n",
       "      <td>Kenya_uniqueid_289</td>\n",
       "      <td>No</td>\n",
       "    </tr>\n",
       "    <tr>\n",
       "      <th>2181</th>\n",
       "      <td>Rwanda_uniqueid_7247</td>\n",
       "      <td>No</td>\n",
       "    </tr>\n",
       "    <tr>\n",
       "      <th>266</th>\n",
       "      <td>Kenya_uniqueid_829</td>\n",
       "      <td>Yes</td>\n",
       "    </tr>\n",
       "    <tr>\n",
       "      <th>5420</th>\n",
       "      <td>Tanzania_uniqueid_3606</td>\n",
       "      <td>No</td>\n",
       "    </tr>\n",
       "    <tr>\n",
       "      <th>3652</th>\n",
       "      <td>Tanzania_uniqueid_3070</td>\n",
       "      <td>No</td>\n",
       "    </tr>\n",
       "    <tr>\n",
       "      <th>5931</th>\n",
       "      <td>Kenya_uniqueid_3539</td>\n",
       "      <td>No</td>\n",
       "    </tr>\n",
       "    <tr>\n",
       "      <th>7926</th>\n",
       "      <td>Rwanda_uniqueid_2027</td>\n",
       "      <td>No</td>\n",
       "    </tr>\n",
       "    <tr>\n",
       "      <th>5472</th>\n",
       "      <td>Rwanda_uniqueid_1654</td>\n",
       "      <td>No</td>\n",
       "    </tr>\n",
       "    <tr>\n",
       "      <th>4892</th>\n",
       "      <td>Rwanda_uniqueid_2160</td>\n",
       "      <td>No</td>\n",
       "    </tr>\n",
       "    <tr>\n",
       "      <th>10450</th>\n",
       "      <td>Kenya_uniqueid_3206</td>\n",
       "      <td>Yes</td>\n",
       "    </tr>\n",
       "    <tr>\n",
       "      <th>4143</th>\n",
       "      <td>Tanzania_uniqueid_3200</td>\n",
       "      <td>No</td>\n",
       "    </tr>\n",
       "    <tr>\n",
       "      <th>5631</th>\n",
       "      <td>Tanzania_uniqueid_1797</td>\n",
       "      <td>No</td>\n",
       "    </tr>\n",
       "    <tr>\n",
       "      <th>431</th>\n",
       "      <td>Tanzania_uniqueid_3532</td>\n",
       "      <td>No</td>\n",
       "    </tr>\n",
       "    <tr>\n",
       "      <th>11292</th>\n",
       "      <td>Rwanda_uniqueid_4422</td>\n",
       "      <td>No</td>\n",
       "    </tr>\n",
       "    <tr>\n",
       "      <th>5059</th>\n",
       "      <td>Tanzania_uniqueid_3211</td>\n",
       "      <td>No</td>\n",
       "    </tr>\n",
       "    <tr>\n",
       "      <th>7912</th>\n",
       "      <td>Kenya_uniqueid_5223</td>\n",
       "      <td>No</td>\n",
       "    </tr>\n",
       "    <tr>\n",
       "      <th>100</th>\n",
       "      <td>Uganda_uniqueid_658</td>\n",
       "      <td>No</td>\n",
       "    </tr>\n",
       "    <tr>\n",
       "      <th>433</th>\n",
       "      <td>Rwanda_uniqueid_5665</td>\n",
       "      <td>No</td>\n",
       "    </tr>\n",
       "    <tr>\n",
       "      <th>10585</th>\n",
       "      <td>Rwanda_uniqueid_2453</td>\n",
       "      <td>No</td>\n",
       "    </tr>\n",
       "    <tr>\n",
       "      <th>3078</th>\n",
       "      <td>Uganda_uniqueid_1582</td>\n",
       "      <td>No</td>\n",
       "    </tr>\n",
       "    <tr>\n",
       "      <th>9509</th>\n",
       "      <td>Rwanda_uniqueid_6656</td>\n",
       "      <td>No</td>\n",
       "    </tr>\n",
       "    <tr>\n",
       "      <th>5898</th>\n",
       "      <td>Uganda_uniqueid_1485</td>\n",
       "      <td>No</td>\n",
       "    </tr>\n",
       "    <tr>\n",
       "      <th>5386</th>\n",
       "      <td>Kenya_uniqueid_2456</td>\n",
       "      <td>No</td>\n",
       "    </tr>\n",
       "    <tr>\n",
       "      <th>7639</th>\n",
       "      <td>Kenya_uniqueid_5997</td>\n",
       "      <td>No</td>\n",
       "    </tr>\n",
       "    <tr>\n",
       "      <th>6073</th>\n",
       "      <td>Rwanda_uniqueid_8208</td>\n",
       "      <td>No</td>\n",
       "    </tr>\n",
       "    <tr>\n",
       "      <th>8707</th>\n",
       "      <td>Rwanda_uniqueid_5192</td>\n",
       "      <td>No</td>\n",
       "    </tr>\n",
       "    <tr>\n",
       "      <th>1218</th>\n",
       "      <td>Kenya_uniqueid_4443</td>\n",
       "      <td>No</td>\n",
       "    </tr>\n",
       "    <tr>\n",
       "      <th>6892</th>\n",
       "      <td>Tanzania_uniqueid_4925</td>\n",
       "      <td>No</td>\n",
       "    </tr>\n",
       "    <tr>\n",
       "      <th>6286</th>\n",
       "      <td>Rwanda_uniqueid_807</td>\n",
       "      <td>No</td>\n",
       "    </tr>\n",
       "    <tr>\n",
       "      <th>2105</th>\n",
       "      <td>Kenya_uniqueid_5392</td>\n",
       "      <td>No</td>\n",
       "    </tr>\n",
       "    <tr>\n",
       "      <th>5169</th>\n",
       "      <td>Uganda_uniqueid_1100</td>\n",
       "      <td>No</td>\n",
       "    </tr>\n",
       "    <tr>\n",
       "      <th>465</th>\n",
       "      <td>Tanzania_uniqueid_2876</td>\n",
       "      <td>No</td>\n",
       "    </tr>\n",
       "    <tr>\n",
       "      <th>5675</th>\n",
       "      <td>Tanzania_uniqueid_4507</td>\n",
       "      <td>No</td>\n",
       "    </tr>\n",
       "  </tbody>\n",
       "</table>\n",
       "</div>"
      ],
      "text/plain": [
       "                          uid bank_account\n",
       "6258      Kenya_uniqueid_3580           No\n",
       "7431      Kenya_uniqueid_3380           No\n",
       "2173       Kenya_uniqueid_425           No\n",
       "5310   Tanzania_uniqueid_5889           No\n",
       "715       Rwanda_uniqueid_821           No\n",
       "252      Rwanda_uniqueid_1953           No\n",
       "7231     Rwanda_uniqueid_2984           No\n",
       "7806   Tanzania_uniqueid_5379           No\n",
       "2941     Rwanda_uniqueid_6726           No\n",
       "5395     Rwanda_uniqueid_6725           No\n",
       "4005    Tanzania_uniqueid_252           No\n",
       "11257    Rwanda_uniqueid_1473           No\n",
       "7009   Tanzania_uniqueid_4693           No\n",
       "5724     Rwanda_uniqueid_7430           No\n",
       "2584     Rwanda_uniqueid_2239           No\n",
       "4738      Kenya_uniqueid_5941           No\n",
       "4394      Kenya_uniqueid_2695           No\n",
       "4502      Kenya_uniqueid_1259           No\n",
       "10651     Rwanda_uniqueid_773           No\n",
       "1905      Uganda_uniqueid_524           No\n",
       "3921     Rwanda_uniqueid_4073           No\n",
       "2334      Kenya_uniqueid_2239          Yes\n",
       "4691     Rwanda_uniqueid_6837           No\n",
       "2825       Kenya_uniqueid_908           No\n",
       "11559    Rwanda_uniqueid_1313           No\n",
       "297       Kenya_uniqueid_1531           No\n",
       "8849     Rwanda_uniqueid_3170           No\n",
       "1854     Rwanda_uniqueid_7978           No\n",
       "6305     Rwanda_uniqueid_7390           No\n",
       "3740     Rwanda_uniqueid_4061           No\n",
       "495       Kenya_uniqueid_2291           No\n",
       "9662     Uganda_uniqueid_1957           No\n",
       "7225    Tanzania_uniqueid_659           No\n",
       "11558     Rwanda_uniqueid_563           No\n",
       "6183     Uganda_uniqueid_1707           No\n",
       "5829     Rwanda_uniqueid_2806           No\n",
       "752     Tanzania_uniqueid_450           No\n",
       "5372     Rwanda_uniqueid_7016           No\n",
       "8976       Uganda_uniqueid_70           No\n",
       "1233   Tanzania_uniqueid_4076           No\n",
       "4662      Kenya_uniqueid_1012           No\n",
       "3290      Kenya_uniqueid_3814           No\n",
       "5837       Kenya_uniqueid_412           No\n",
       "5647     Uganda_uniqueid_1378           No\n",
       "10539     Kenya_uniqueid_5090           No\n",
       "7037     Rwanda_uniqueid_4686           No\n",
       "2534      Uganda_uniqueid_798           No\n",
       "6529     Rwanda_uniqueid_1930           No\n",
       "773      Rwanda_uniqueid_1907           No\n",
       "2619     Rwanda_uniqueid_4263           No\n",
       "2146      Kenya_uniqueid_2128           No\n",
       "163       Kenya_uniqueid_5729           No\n",
       "10825    Rwanda_uniqueid_7331           No\n",
       "11304    Rwanda_uniqueid_6019           No\n",
       "3246      Kenya_uniqueid_1348           No\n",
       "7643   Tanzania_uniqueid_1161           No\n",
       "11758    Rwanda_uniqueid_2344           No\n",
       "2068      Uganda_uniqueid_617           No\n",
       "2039      Kenya_uniqueid_1035          Yes\n",
       "5528     Rwanda_uniqueid_4600           No\n",
       "1897      Kenya_uniqueid_4195           No\n",
       "8898   Tanzania_uniqueid_3467           No\n",
       "4926     Rwanda_uniqueid_8713           No\n",
       "10739    Rwanda_uniqueid_4214           No\n",
       "3938      Kenya_uniqueid_1367          Yes\n",
       "2282     Rwanda_uniqueid_2536           No\n",
       "1268      Kenya_uniqueid_4631           No\n",
       "11496      Kenya_uniqueid_289           No\n",
       "2181     Rwanda_uniqueid_7247           No\n",
       "266        Kenya_uniqueid_829          Yes\n",
       "5420   Tanzania_uniqueid_3606           No\n",
       "3652   Tanzania_uniqueid_3070           No\n",
       "5931      Kenya_uniqueid_3539           No\n",
       "7926     Rwanda_uniqueid_2027           No\n",
       "5472     Rwanda_uniqueid_1654           No\n",
       "4892     Rwanda_uniqueid_2160           No\n",
       "10450     Kenya_uniqueid_3206          Yes\n",
       "4143   Tanzania_uniqueid_3200           No\n",
       "5631   Tanzania_uniqueid_1797           No\n",
       "431    Tanzania_uniqueid_3532           No\n",
       "11292    Rwanda_uniqueid_4422           No\n",
       "5059   Tanzania_uniqueid_3211           No\n",
       "7912      Kenya_uniqueid_5223           No\n",
       "100       Uganda_uniqueid_658           No\n",
       "433      Rwanda_uniqueid_5665           No\n",
       "10585    Rwanda_uniqueid_2453           No\n",
       "3078     Uganda_uniqueid_1582           No\n",
       "9509     Rwanda_uniqueid_6656           No\n",
       "5898     Uganda_uniqueid_1485           No\n",
       "5386      Kenya_uniqueid_2456           No\n",
       "7639      Kenya_uniqueid_5997           No\n",
       "6073     Rwanda_uniqueid_8208           No\n",
       "8707     Rwanda_uniqueid_5192           No\n",
       "1218      Kenya_uniqueid_4443           No\n",
       "6892   Tanzania_uniqueid_4925           No\n",
       "6286      Rwanda_uniqueid_807           No\n",
       "2105      Kenya_uniqueid_5392           No\n",
       "5169     Uganda_uniqueid_1100           No\n",
       "465    Tanzania_uniqueid_2876           No\n",
       "5675   Tanzania_uniqueid_4507           No"
      ]
     },
     "execution_count": 44,
     "metadata": {},
     "output_type": "execute_result"
    }
   ],
   "source": [
    "submission.sample(100)"
   ]
  },
  {
   "cell_type": "code",
   "execution_count": null,
   "metadata": {
    "execution": {
     "iopub.execute_input": "2022-06-03T20:19:43.558105Z",
     "iopub.status.busy": "2022-06-03T20:19:43.557414Z",
     "iopub.status.idle": "2022-06-03T20:19:43.591861Z",
     "shell.execute_reply": "2022-06-03T20:19:43.590828Z",
     "shell.execute_reply.started": "2022-06-03T20:19:43.558055Z"
    }
   },
   "outputs": [],
   "source": [
    "# Convert submisison dataframe to csv for submission to csv \n",
    "# for Kaggle submisison\n",
    "submission.to_csv('/kaggle/working/submission.csv', index=False)\n",
    "print('Submission CSV is ready!')"
   ]
  }
 ],
 "metadata": {
  "kernelspec": {
   "display_name": "1hackday",
   "language": "python",
   "name": "python3"
  },
  "language_info": {
   "codemirror_mode": {
    "name": "ipython",
    "version": 3
   },
   "file_extension": ".py",
   "mimetype": "text/x-python",
   "name": "python",
   "nbconvert_exporter": "python",
   "pygments_lexer": "ipython3",
   "version": "3.10.7+"
  },
  "varInspector": {
   "cols": {
    "lenName": 16,
    "lenType": 16,
    "lenVar": 40
   },
   "kernels_config": {
    "python": {
     "delete_cmd_postfix": "",
     "delete_cmd_prefix": "del ",
     "library": "var_list.py",
     "varRefreshCmd": "print(var_dic_list())"
    },
    "r": {
     "delete_cmd_postfix": ") ",
     "delete_cmd_prefix": "rm(",
     "library": "var_list.r",
     "varRefreshCmd": "cat(var_dic_list()) "
    }
   },
   "types_to_exclude": [
    "module",
    "function",
    "builtin_function_or_method",
    "instance",
    "_Feature"
   ],
   "window_display": false
  },
  "vscode": {
   "interpreter": {
    "hash": "ebf24d83f4ad19f7f1dfb4fd2d03f185a3397beb1694e77f8541773919d45592"
   }
  }
 },
 "nbformat": 4,
 "nbformat_minor": 4
}

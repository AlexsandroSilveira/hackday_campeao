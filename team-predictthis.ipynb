{
 "cells": [
  {
   "cell_type": "code",
   "execution_count": null,
   "metadata": {
    "execution": {
     "iopub.execute_input": "2022-06-03T19:51:17.283326Z",
     "iopub.status.busy": "2022-06-03T19:51:17.282876Z",
     "iopub.status.idle": "2022-06-03T19:51:30.846462Z",
     "shell.execute_reply": "2022-06-03T19:51:30.845240Z",
     "shell.execute_reply.started": "2022-06-03T19:51:17.283240Z"
    }
   },
   "outputs": [],
   "source": [
    "!pip install sweetviz"
   ]
  },
  {
   "cell_type": "code",
   "execution_count": null,
   "metadata": {
    "_cell_guid": "b1076dfc-b9ad-4769-8c92-a6c4dae69d19",
    "_uuid": "8f2839f25d086af736a60e9eeb907d3b93b6e0e5",
    "execution": {
     "iopub.execute_input": "2022-06-03T20:33:53.996120Z",
     "iopub.status.busy": "2022-06-03T20:33:53.995673Z",
     "iopub.status.idle": "2022-06-03T20:33:54.010281Z",
     "shell.execute_reply": "2022-06-03T20:33:54.009442Z",
     "shell.execute_reply.started": "2022-06-03T20:33:53.996083Z"
    }
   },
   "outputs": [],
   "source": [
    "import numpy as np # linear algebra\n",
    "import pandas as pd # data processing, CSV file I/O (e.g. pd.read_csv)\n",
    "import scipy.stats as stats # t\n",
    "\n",
    "from sklearn import model_selection as ms\n",
    "from sklearn import preprocessing   as pp\n",
    "from sklearn.preprocessing import LabelEncoder, OrdinalEncoder\n",
    "\n",
    "#Visualization\n",
    "from matplotlib import pyplot as plt\n",
    "import seaborn as sns\n",
    "import sweetviz as sv\n",
    "\n",
    "\n",
    "#Others\n",
    "import pickle\n",
    "import warnings\n",
    "\n",
    "from IPython.display       import Image\n",
    "from IPython.core.display  import HTML\n",
    "\n",
    "warnings.filterwarnings( 'ignore' )\n",
    "\n",
    "pd.set_option('display.max_rows', 500)\n",
    "pd.set_option('display.max_columns', 500)\n",
    "pd.set_option('display.width', 1000)\n",
    "\n",
    "import os\n",
    "for dirname, _, filenames in os.walk('/kaggle/input'):\n",
    "    for filename in filenames:\n",
    "        print(os.path.join(dirname, filename))\n",
    "\n",
    "#Paths handlers\n",
    "data_path = '/kaggle/input/inclusao-financeira-na-africa/'"
   ]
  },
  {
   "cell_type": "markdown",
   "metadata": {},
   "source": [
    "## 0.1. Helper Functions"
   ]
  },
  {
   "cell_type": "code",
   "execution_count": null,
   "metadata": {
    "execution": {
     "iopub.execute_input": "2022-06-03T19:51:42.954191Z",
     "iopub.status.busy": "2022-06-03T19:51:42.952945Z",
     "iopub.status.idle": "2022-06-03T19:51:42.993702Z",
     "shell.execute_reply": "2022-06-03T19:51:42.992611Z",
     "shell.execute_reply.started": "2022-06-03T19:51:42.954137Z"
    }
   },
   "outputs": [],
   "source": [
    "def jupyter_settings():\n",
    "    %matplotlib inline\n",
    "    %pylab inline\n",
    "    plt.style.use( 'bmh' )\n",
    "    plt.rcParams['figure.figsize'] = [25, 12]\n",
    "    plt.rcParams['font.size'] = 24\n",
    "    display( HTML( '<style>.container { width:100% !important; }</style>') )\n",
    "    pd.options.display.max_columns = None\n",
    "    pd.options.display.max_rows = None\n",
    "    pd.set_option( 'display.expand_frame_repr', False )\n",
    "    sns.set()\n",
    "    \n",
    "# Plots the disribution of a variable colored by value of the target\n",
    "def kde_target(var_name, df):\n",
    "    \n",
    "    # Calculate the correlation coefficient between the new variable and the target\n",
    "    corr = df['TARGET'].corr(df[var_name])\n",
    "    \n",
    "    # Calculate medians for repaid vs not repaid\n",
    "    avg_repaid = df.ix[df['TARGET'] == 0, var_name].median()\n",
    "    avg_not_repaid = df.ix[df['TARGET'] == 1, var_name].median()\n",
    "    \n",
    "    plt.figure(figsize = (12, 6))\n",
    "    \n",
    "    # Plot the distribution for target == 0 and target == 1\n",
    "    sns.kdeplot(df.ix[df['TARGET'] == 0, var_name], label = 'TARGET == 0')\n",
    "    sns.kdeplot(df.ix[df['TARGET'] == 1, var_name], label = 'TARGET == 1')\n",
    "    \n",
    "    # label the plot\n",
    "    plt.xlabel(var_name); plt.ylabel('Density'); plt.title('%s Distribution' % var_name)\n",
    "    plt.legend();\n",
    "    \n",
    "    # print out the correlation\n",
    "    print('The correlation between %s and the TARGET is %0.4f' % (var_name, corr))\n",
    "    # Print out average values\n",
    "    print('Median value for loan that was not repaid = %0.4f' % avg_not_repaid)\n",
    "    print('Median value for loan that was repaid =     %0.4f' % avg_repaid)\n",
    "\n",
    "\n",
    "def diagnostic_plots(df, variable):\n",
    "    # plot the histograms to have a quick look at the distributions\n",
    "    # we can plot Q-Q plots to visualise if the variable is normally distributed\n",
    "    # function to plot a histogram and a Q-Q plot\n",
    "    # side by side, for a certain variable\n",
    "    \n",
    "    plt.figure(figsize=(15,6))\n",
    "    plt.subplot(1, 2, 1)\n",
    "    df[variable].hist()\n",
    "\n",
    "    plt.subplot(1, 2, 2)\n",
    "    stats.probplot(df[variable], dist=\"norm\", plot=pylab)\n",
    "\n",
    "    plt.show()\n",
    "    \n",
    "\n",
    "jupyter_settings()"
   ]
  },
  {
   "cell_type": "markdown",
   "metadata": {},
   "source": [
    "## 0.2 Loading Data"
   ]
  },
  {
   "cell_type": "code",
   "execution_count": null,
   "metadata": {
    "execution": {
     "iopub.execute_input": "2022-06-03T19:51:45.920659Z",
     "iopub.status.busy": "2022-06-03T19:51:45.920258Z",
     "iopub.status.idle": "2022-06-03T19:51:46.051376Z",
     "shell.execute_reply": "2022-06-03T19:51:46.050366Z",
     "shell.execute_reply.started": "2022-06-03T19:51:45.920626Z"
    }
   },
   "outputs": [],
   "source": [
    "df_raw=pd.read_csv(data_path+'train.csv',low_memory=False)\n",
    "test_raw = pd.read_csv(data_path+'test.csv',low_memory=False)"
   ]
  },
  {
   "cell_type": "markdown",
   "metadata": {},
   "source": [
    "# 1.0. Descrição dos Dados"
   ]
  },
  {
   "cell_type": "markdown",
   "metadata": {},
   "source": [
    "## 1.1 Loading Data"
   ]
  },
  {
   "cell_type": "code",
   "execution_count": null,
   "metadata": {
    "execution": {
     "iopub.execute_input": "2022-06-03T19:54:21.544031Z",
     "iopub.status.busy": "2022-06-03T19:54:21.543618Z",
     "iopub.status.idle": "2022-06-03T19:54:21.550546Z",
     "shell.execute_reply": "2022-06-03T19:54:21.549483Z",
     "shell.execute_reply.started": "2022-06-03T19:54:21.544001Z"
    }
   },
   "outputs": [],
   "source": [
    "df1 = df_raw.copy()"
   ]
  },
  {
   "cell_type": "code",
   "execution_count": null,
   "metadata": {
    "execution": {
     "iopub.execute_input": "2022-06-03T19:54:23.978165Z",
     "iopub.status.busy": "2022-06-03T19:54:23.977735Z",
     "iopub.status.idle": "2022-06-03T19:54:24.009802Z",
     "shell.execute_reply": "2022-06-03T19:54:24.008855Z",
     "shell.execute_reply.started": "2022-06-03T19:54:23.978130Z"
    }
   },
   "outputs": [],
   "source": [
    "df1.sample()"
   ]
  },
  {
   "cell_type": "markdown",
   "metadata": {},
   "source": [
    "## 1.2. Data Dimensions and Columns"
   ]
  },
  {
   "cell_type": "code",
   "execution_count": null,
   "metadata": {
    "execution": {
     "iopub.execute_input": "2022-06-03T19:54:31.032469Z",
     "iopub.status.busy": "2022-06-03T19:54:31.031943Z",
     "iopub.status.idle": "2022-06-03T19:54:31.039400Z",
     "shell.execute_reply": "2022-06-03T19:54:31.038595Z",
     "shell.execute_reply.started": "2022-06-03T19:54:31.032438Z"
    }
   },
   "outputs": [],
   "source": [
    "print(f'number of rows: {df1.shape[0]}')\n",
    "print(f'number of columns: {df1.shape[1]}')\n",
    "\n",
    "df1.columns  # already in snake case! :)"
   ]
  },
  {
   "cell_type": "markdown",
   "metadata": {},
   "source": [
    "## 1.3. Data Types"
   ]
  },
  {
   "cell_type": "code",
   "execution_count": null,
   "metadata": {
    "execution": {
     "iopub.execute_input": "2022-06-03T19:54:37.994883Z",
     "iopub.status.busy": "2022-06-03T19:54:37.994125Z",
     "iopub.status.idle": "2022-06-03T19:54:38.036190Z",
     "shell.execute_reply": "2022-06-03T19:54:38.035146Z",
     "shell.execute_reply.started": "2022-06-03T19:54:37.994838Z"
    }
   },
   "outputs": [],
   "source": [
    "df1.info()"
   ]
  },
  {
   "cell_type": "markdown",
   "metadata": {},
   "source": [
    "## 1.4. Check NA"
   ]
  },
  {
   "cell_type": "code",
   "execution_count": null,
   "metadata": {
    "execution": {
     "iopub.execute_input": "2022-06-03T19:54:54.344244Z",
     "iopub.status.busy": "2022-06-03T19:54:54.343483Z",
     "iopub.status.idle": "2022-06-03T19:54:54.369467Z",
     "shell.execute_reply": "2022-06-03T19:54:54.368346Z",
     "shell.execute_reply.started": "2022-06-03T19:54:54.344199Z"
    }
   },
   "outputs": [],
   "source": [
    "df1.isna().sum()"
   ]
  },
  {
   "cell_type": "markdown",
   "metadata": {},
   "source": [
    "## 1.5 Descriptive Statistical"
   ]
  },
  {
   "cell_type": "code",
   "execution_count": null,
   "metadata": {
    "execution": {
     "iopub.execute_input": "2022-06-03T19:55:00.978283Z",
     "iopub.status.busy": "2022-06-03T19:55:00.977508Z",
     "iopub.status.idle": "2022-06-03T19:55:08.346227Z",
     "shell.execute_reply": "2022-06-03T19:55:08.345334Z",
     "shell.execute_reply.started": "2022-06-03T19:55:00.978233Z"
    }
   },
   "outputs": [],
   "source": [
    "# Analyse Dataset\n",
    "report = sv.analyze(df1)\n",
    "# View\n",
    "report.show_notebook(w=\"100%\", h=\"full\") # if working in Kaggle"
   ]
  },
  {
   "cell_type": "markdown",
   "metadata": {},
   "source": [
    "# 2.0 EDA"
   ]
  },
  {
   "cell_type": "code",
   "execution_count": null,
   "metadata": {
    "execution": {
     "iopub.execute_input": "2022-06-03T19:55:53.997338Z",
     "iopub.status.busy": "2022-06-03T19:55:53.996900Z",
     "iopub.status.idle": "2022-06-03T19:55:54.002677Z",
     "shell.execute_reply": "2022-06-03T19:55:54.001530Z",
     "shell.execute_reply.started": "2022-06-03T19:55:53.997299Z"
    }
   },
   "outputs": [],
   "source": [
    "df2 = df1.copy()"
   ]
  },
  {
   "cell_type": "markdown",
   "metadata": {},
   "source": [
    "# 3.0. FEATURE ENGINEERING"
   ]
  },
  {
   "cell_type": "code",
   "execution_count": null,
   "metadata": {
    "execution": {
     "iopub.execute_input": "2022-06-03T20:27:33.581815Z",
     "iopub.status.busy": "2022-06-03T20:27:33.581290Z",
     "iopub.status.idle": "2022-06-03T20:27:33.598379Z",
     "shell.execute_reply": "2022-06-03T20:27:33.597623Z",
     "shell.execute_reply.started": "2022-06-03T20:27:33.581784Z"
    }
   },
   "outputs": [],
   "source": [
    "df3 = df2.copy()\n",
    "df3.sample()"
   ]
  },
  {
   "cell_type": "code",
   "execution_count": null,
   "metadata": {
    "execution": {
     "iopub.execute_input": "2022-06-03T20:27:35.188405Z",
     "iopub.status.busy": "2022-06-03T20:27:35.188020Z",
     "iopub.status.idle": "2022-06-03T20:27:35.194495Z",
     "shell.execute_reply": "2022-06-03T20:27:35.193491Z",
     "shell.execute_reply.started": "2022-06-03T20:27:35.188374Z"
    }
   },
   "outputs": [],
   "source": [
    "def idade(coluna):\n",
    "    if coluna <= 26:\n",
    "        return \"Jovem\"\n",
    "    elif 26<coluna<=35:\n",
    "        return \"Adulto\"\n",
    "    elif 35<coluna<=48:\n",
    "        return \"Velho\"\n",
    "    else:\n",
    "        return \"Ultra Velho\""
   ]
  },
  {
   "cell_type": "code",
   "execution_count": null,
   "metadata": {
    "execution": {
     "iopub.execute_input": "2022-06-03T20:27:36.407748Z",
     "iopub.status.busy": "2022-06-03T20:27:36.406877Z",
     "iopub.status.idle": "2022-06-03T20:27:36.417932Z",
     "shell.execute_reply": "2022-06-03T20:27:36.417028Z",
     "shell.execute_reply.started": "2022-06-03T20:27:36.407705Z"
    }
   },
   "outputs": [],
   "source": [
    "df3['age_of_respondent'] = df3['age_of_respondent'].map(idade)"
   ]
  },
  {
   "cell_type": "markdown",
   "metadata": {},
   "source": [
    "## 3.1 Encoding Variables"
   ]
  },
  {
   "cell_type": "code",
   "execution_count": null,
   "metadata": {
    "execution": {
     "iopub.execute_input": "2022-06-03T20:27:41.451953Z",
     "iopub.status.busy": "2022-06-03T20:27:41.451537Z",
     "iopub.status.idle": "2022-06-03T20:27:41.543904Z",
     "shell.execute_reply": "2022-06-03T20:27:41.542931Z",
     "shell.execute_reply.started": "2022-06-03T20:27:41.451916Z"
    }
   },
   "outputs": [],
   "source": [
    "df3['bank_account']=df3['bank_account'].apply(lambda x: 1 if x=='Yes' else 0)\n",
    "df3['gender_of_respondent']=df3['gender_of_respondent'].apply(lambda x: 1 if x=='Male' else 0)\n",
    "df3['location_type']=df3['location_type'].apply(lambda x:1 if x=='Rural' else 0)\n",
    "df3['cellphone_access']=df3['cellphone_access'].apply(lambda x:1 if x=='Yes' else 0)\n",
    "#One Hot Encoding\n",
    "# enc = OrdinalEncoder()\n",
    "# enc.fit(df3[['age_of_respondent', 'education_level']])\n",
    "# df3[['age_of_respondent', 'education_level']] = enc.transform(df3[['age_of_respondent', 'education_level']])\n",
    "df3 = pd.get_dummies(df3, columns=['relationship_with_head'], prefix = ['rwh'])\n",
    "df3 = pd.get_dummies(df3, columns=['age_of_respondent'], prefix = ['aor'])\n",
    "# df3 = pd.get_dummies(df3, columns=['year'], prefix = ['y'])\n",
    "df3 = pd.get_dummies(df3, columns=['marital_status'], prefix = ['ms'])\n",
    "df3 = pd.get_dummies(df3, columns=['job_type'], prefix = ['jt'])\n",
    "df3 = pd.get_dummies(df3, columns=['country'], prefix = ['c'])\n",
    "#Label Encoder\n",
    "df3['education_level'] = LabelEncoder().fit_transform(df3['education_level'].astype(str))\n"
   ]
  },
  {
   "cell_type": "code",
   "execution_count": null,
   "metadata": {
    "execution": {
     "iopub.execute_input": "2022-06-03T20:27:43.657133Z",
     "iopub.status.busy": "2022-06-03T20:27:43.656250Z",
     "iopub.status.idle": "2022-06-03T20:27:43.662751Z",
     "shell.execute_reply": "2022-06-03T20:27:43.661662Z",
     "shell.execute_reply.started": "2022-06-03T20:27:43.657088Z"
    }
   },
   "outputs": [],
   "source": [
    "df3['household_size'] = np.log(df3.household_size)"
   ]
  },
  {
   "cell_type": "code",
   "execution_count": null,
   "metadata": {
    "execution": {
     "iopub.execute_input": "2022-06-03T20:27:44.893544Z",
     "iopub.status.busy": "2022-06-03T20:27:44.893167Z",
     "iopub.status.idle": "2022-06-03T20:27:44.897437Z",
     "shell.execute_reply": "2022-06-03T20:27:44.896442Z",
     "shell.execute_reply.started": "2022-06-03T20:27:44.893514Z"
    }
   },
   "outputs": [],
   "source": [
    "#df3 = pd.get_dummies(df3, columns=['education_level'], prefix = ['e'])"
   ]
  },
  {
   "cell_type": "code",
   "execution_count": null,
   "metadata": {
    "execution": {
     "iopub.execute_input": "2022-06-03T20:27:46.415883Z",
     "iopub.status.busy": "2022-06-03T20:27:46.414826Z",
     "iopub.status.idle": "2022-06-03T20:27:46.439779Z",
     "shell.execute_reply": "2022-06-03T20:27:46.438919Z",
     "shell.execute_reply.started": "2022-06-03T20:27:46.415834Z"
    }
   },
   "outputs": [],
   "source": [
    "df3.head()"
   ]
  },
  {
   "cell_type": "markdown",
   "metadata": {},
   "source": [
    "## 3.2 Discretization"
   ]
  },
  {
   "cell_type": "markdown",
   "metadata": {},
   "source": [
    "# 4.0. Data Preparation"
   ]
  },
  {
   "cell_type": "code",
   "execution_count": null,
   "metadata": {
    "execution": {
     "iopub.execute_input": "2022-06-03T20:27:49.776302Z",
     "iopub.status.busy": "2022-06-03T20:27:49.774980Z",
     "iopub.status.idle": "2022-06-03T20:27:49.783869Z",
     "shell.execute_reply": "2022-06-03T20:27:49.782790Z",
     "shell.execute_reply.started": "2022-06-03T20:27:49.776247Z"
    }
   },
   "outputs": [],
   "source": [
    "df4 = df3.copy()"
   ]
  },
  {
   "cell_type": "code",
   "execution_count": null,
   "metadata": {
    "execution": {
     "iopub.execute_input": "2022-06-03T20:27:51.241939Z",
     "iopub.status.busy": "2022-06-03T20:27:51.241530Z",
     "iopub.status.idle": "2022-06-03T20:27:51.267236Z",
     "shell.execute_reply": "2022-06-03T20:27:51.266130Z",
     "shell.execute_reply.started": "2022-06-03T20:27:51.241904Z"
    }
   },
   "outputs": [],
   "source": [
    "df4.head()"
   ]
  },
  {
   "cell_type": "markdown",
   "metadata": {},
   "source": [
    "## 4.1. Split dataframe  into training and testing"
   ]
  },
  {
   "cell_type": "code",
   "execution_count": null,
   "metadata": {
    "execution": {
     "iopub.execute_input": "2022-06-03T20:27:54.374312Z",
     "iopub.status.busy": "2022-06-03T20:27:54.373914Z",
     "iopub.status.idle": "2022-06-03T20:27:54.382112Z",
     "shell.execute_reply": "2022-06-03T20:27:54.381129Z",
     "shell.execute_reply.started": "2022-06-03T20:27:54.374280Z"
    }
   },
   "outputs": [],
   "source": [
    "from sklearn.model_selection import train_test_split\n",
    "Y = df4['bank_account'].copy()\n",
    "X = df4.drop(['uniqueid', 'bank_account','uid','year','rwh_Head of Household', 'rwh_Other non-relatives', 'rwh_Other relative', 'rwh_Other relative', 'rwh_Parent', 'rwh_Spouse'],axis=1)"
   ]
  },
  {
   "cell_type": "code",
   "execution_count": null,
   "metadata": {
    "execution": {
     "iopub.execute_input": "2022-06-03T20:29:35.299689Z",
     "iopub.status.busy": "2022-06-03T20:29:35.298668Z",
     "iopub.status.idle": "2022-06-03T20:29:35.313937Z",
     "shell.execute_reply": "2022-06-03T20:29:35.312910Z",
     "shell.execute_reply.started": "2022-06-03T20:29:35.299653Z"
    }
   },
   "outputs": [],
   "source": [
    "#x_train,x_validation,y_train,y_validation = ms.train_test_split(X, y,test_size=0.75)\n",
    "X_train, X_test, y_train,y_test=train_test_split(X,Y,train_size=0.75,stratify=Y,random_state=123)\n",
    "\n",
    "#df5 = pd.concat([X_train,y_train],axis=1)"
   ]
  },
  {
   "cell_type": "code",
   "execution_count": null,
   "metadata": {
    "execution": {
     "iopub.execute_input": "2022-06-03T20:34:14.341077Z",
     "iopub.status.busy": "2022-06-03T20:34:14.340421Z",
     "iopub.status.idle": "2022-06-03T20:34:23.901442Z",
     "shell.execute_reply": "2022-06-03T20:34:23.899523Z",
     "shell.execute_reply.started": "2022-06-03T20:34:14.341011Z"
    }
   },
   "outputs": [],
   "source": [
    "from boruta import BorutaPy\n",
    "from sklearn.ensemble import RandomForestRegressor\n",
    "# training and test dataset for Boruta\n",
    "X_train_n = X_train.values\n",
    "y_train_n = y_train.values.ravel()\n",
    "\n",
    "\n",
    "# define RandomForest Regressor\n",
    "rf = RandomForestRegressor( n_jobs=-1 )\n",
    "\n",
    "# define boruta\n",
    "boruta = BorutaPy( rf, n_estimators='auto', verbose=2, random_state=42 ).fit( X_train_n, y_train_n)\n"
   ]
  },
  {
   "cell_type": "code",
   "execution_count": null,
   "metadata": {
    "execution": {
     "iopub.execute_input": "2022-06-03T20:34:38.966070Z",
     "iopub.status.busy": "2022-06-03T20:34:38.965668Z",
     "iopub.status.idle": "2022-06-03T20:34:38.972853Z",
     "shell.execute_reply": "2022-06-03T20:34:38.971853Z",
     "shell.execute_reply.started": "2022-06-03T20:34:38.966006Z"
    }
   },
   "outputs": [],
   "source": [
    "cols_selected = boruta.support_.tolist()\n",
    "\n",
    "# best features\n",
    "X_train_fs = X_train\n",
    "cols_selected_boruta = X_train_fs.iloc[:, cols_selected].columns.to_list()\n",
    "\n",
    "cols_not_selected_boruta = list(np.setdiff1d(X_train_fs.columns, cols_selected_boruta))"
   ]
  },
  {
   "cell_type": "code",
   "execution_count": null,
   "metadata": {
    "execution": {
     "iopub.execute_input": "2022-06-03T20:39:35.240691Z",
     "iopub.status.busy": "2022-06-03T20:39:35.240296Z",
     "iopub.status.idle": "2022-06-03T20:39:35.247757Z",
     "shell.execute_reply": "2022-06-03T20:39:35.246996Z",
     "shell.execute_reply.started": "2022-06-03T20:39:35.240660Z"
    }
   },
   "outputs": [],
   "source": [
    "cols_selected_boruta = ['aor_Adulto', 'aor_Jovem', 'aor_Ultra Velho', \n",
    "                            'aor_Velho', 'c_Kenya', 'c_Rwanda', 'c_Tanzania', \n",
    "                            'c_Uganda', 'cellphone_access', 'gender_of_respondent', \n",
    "                            'household_size', 'jt_Dont Know/Refuse to answer', \n",
    "                            'jt_Farming and Fishing', \n",
    "                            'jt_Formally employed Government', \n",
    "                            'jt_Formally employed Private', \n",
    "                            'jt_Government Dependent', 'jt_Informally employed', \n",
    "                            'jt_No Income', 'jt_Other Income', \n",
    "                            'jt_Remittance Dependent', 'jt_Self employed', \n",
    "                            'location_type', 'ms_Divorced/Seperated', \n",
    "                            'ms_Dont know', 'ms_Married/Living together', \n",
    "                            'ms_Single/Never Married', 'ms_Widowed', 'rwh_Child']"
   ]
  },
  {
   "cell_type": "code",
   "execution_count": null,
   "metadata": {
    "execution": {
     "iopub.execute_input": "2022-06-03T20:39:40.422307Z",
     "iopub.status.busy": "2022-06-03T20:39:40.421657Z",
     "iopub.status.idle": "2022-06-03T20:39:40.430429Z",
     "shell.execute_reply": "2022-06-03T20:39:40.429480Z",
     "shell.execute_reply.started": "2022-06-03T20:39:40.422255Z"
    }
   },
   "outputs": [],
   "source": [
    "X_train = X_train[cols_selected_boruta]\n",
    "X_test = X_test[cols_selected_boruta]"
   ]
  },
  {
   "cell_type": "code",
   "execution_count": null,
   "metadata": {
    "execution": {
     "iopub.execute_input": "2022-06-03T20:39:46.662642Z",
     "iopub.status.busy": "2022-06-03T20:39:46.662116Z",
     "iopub.status.idle": "2022-06-03T20:39:48.985516Z",
     "shell.execute_reply": "2022-06-03T20:39:48.984461Z",
     "shell.execute_reply.started": "2022-06-03T20:39:46.662609Z"
    }
   },
   "outputs": [],
   "source": [
    "from sklearn.ensemble import RandomForestClassifier\n",
    "clf =  RandomForestClassifier(bootstrap=False, criterion=\"entropy\", max_features=0.55, min_samples_leaf=9, min_samples_split=12, n_estimators=200)\n",
    "clf.fit(X_train, y_train)"
   ]
  },
  {
   "cell_type": "code",
   "execution_count": null,
   "metadata": {
    "execution": {
     "iopub.execute_input": "2022-06-03T20:40:01.681039Z",
     "iopub.status.busy": "2022-06-03T20:40:01.680004Z",
     "iopub.status.idle": "2022-06-03T20:40:01.822045Z",
     "shell.execute_reply": "2022-06-03T20:40:01.820936Z",
     "shell.execute_reply.started": "2022-06-03T20:40:01.680995Z"
    }
   },
   "outputs": [],
   "source": [
    "y_pred=clf.predict(X_test)\n",
    "\n",
    "from sklearn.metrics import accuracy_score, f1_score, precision_score, recall_score, classification_report, confusion_matrix\n",
    "print(\"Accuracy: %.2f%%\" % (accuracy_score(y_test, y_pred)*100))\n",
    "print(\"F1: %.2f%%\" % (f1_score(y_test, y_pred)*100))"
   ]
  },
  {
   "cell_type": "code",
   "execution_count": null,
   "metadata": {
    "execution": {
     "iopub.execute_input": "2022-06-03T20:40:11.317164Z",
     "iopub.status.busy": "2022-06-03T20:40:11.316717Z",
     "iopub.status.idle": "2022-06-03T20:40:11.323553Z",
     "shell.execute_reply": "2022-06-03T20:40:11.322742Z",
     "shell.execute_reply.started": "2022-06-03T20:40:11.317128Z"
    }
   },
   "outputs": [],
   "source": [
    "import xgboost as xgb\n",
    "\n",
    "model1 = xgb.XGBClassifier()\n",
    "model2 = xgb.XGBClassifier(n_estimators=100, max_depth=8, learning_rate=0.1, subsample=0.5)\n",
    "model3 = xgb.XGBClassifier(learning_rate= 0.01,\n",
    "                            n_estimators=1500,\n",
    "                            max_depth= 4,\n",
    "                            subsample= 0.8,\n",
    "                            colsample_bytree= 1,\n",
    "                            gamma= 1)"
   ]
  },
  {
   "cell_type": "code",
   "execution_count": null,
   "metadata": {
    "execution": {
     "iopub.execute_input": "2022-06-03T20:40:14.375232Z",
     "iopub.status.busy": "2022-06-03T20:40:14.374599Z",
     "iopub.status.idle": "2022-06-03T20:40:15.245366Z",
     "shell.execute_reply": "2022-06-03T20:40:15.244585Z",
     "shell.execute_reply.started": "2022-06-03T20:40:14.375195Z"
    }
   },
   "outputs": [],
   "source": [
    "model1.fit(X_train, y_train)\n",
    "y_pred=model1.predict(X_test)\n",
    "from sklearn.metrics import accuracy_score, f1_score, precision_score, recall_score, classification_report, confusion_matrix\n",
    "print(\"Accuracy: %.2f%%\" % (accuracy_score(y_test, y_pred)*100))\n",
    "print(\"F1: %.2f%%\" % (f1_score(y_test, y_pred)*100))"
   ]
  },
  {
   "cell_type": "code",
   "execution_count": null,
   "metadata": {
    "execution": {
     "iopub.execute_input": "2022-06-03T20:40:19.668830Z",
     "iopub.status.busy": "2022-06-03T20:40:19.668408Z",
     "iopub.status.idle": "2022-06-03T20:40:30.815890Z",
     "shell.execute_reply": "2022-06-03T20:40:30.814797Z",
     "shell.execute_reply.started": "2022-06-03T20:40:19.668797Z"
    }
   },
   "outputs": [],
   "source": [
    "model3.fit(X_train, y_train)\n",
    "y_pred=model3.predict(X_test)\n",
    "\n",
    "from sklearn.metrics import accuracy_score, f1_score, precision_score, recall_score, classification_report, confusion_matrix\n",
    "print(\"Accuracy: %.2f%%\" % (accuracy_score(y_test, y_pred)*100))\n",
    "print(\"F1: %.2f%%\" % (f1_score(y_test, y_pred)*100))"
   ]
  },
  {
   "cell_type": "markdown",
   "metadata": {},
   "source": [
    "# Test Submission"
   ]
  },
  {
   "cell_type": "code",
   "execution_count": null,
   "metadata": {
    "execution": {
     "iopub.execute_input": "2022-06-03T20:44:00.682957Z",
     "iopub.status.busy": "2022-06-03T20:44:00.682532Z",
     "iopub.status.idle": "2022-06-03T20:44:00.689081Z",
     "shell.execute_reply": "2022-06-03T20:44:00.687941Z",
     "shell.execute_reply.started": "2022-06-03T20:44:00.682921Z"
    }
   },
   "outputs": [],
   "source": [
    "test = test_raw.copy()"
   ]
  },
  {
   "cell_type": "code",
   "execution_count": null,
   "metadata": {
    "execution": {
     "iopub.execute_input": "2022-06-03T20:44:02.560751Z",
     "iopub.status.busy": "2022-06-03T20:44:02.560180Z",
     "iopub.status.idle": "2022-06-03T20:44:02.576184Z",
     "shell.execute_reply": "2022-06-03T20:44:02.575385Z",
     "shell.execute_reply.started": "2022-06-03T20:44:02.560719Z"
    }
   },
   "outputs": [],
   "source": [
    "test.sample()"
   ]
  },
  {
   "cell_type": "markdown",
   "metadata": {},
   "source": [
    "## Variable Encoding"
   ]
  },
  {
   "cell_type": "code",
   "execution_count": null,
   "metadata": {
    "execution": {
     "iopub.execute_input": "2022-06-03T20:44:04.623970Z",
     "iopub.status.busy": "2022-06-03T20:44:04.623444Z",
     "iopub.status.idle": "2022-06-03T20:44:04.634108Z",
     "shell.execute_reply": "2022-06-03T20:44:04.633104Z",
     "shell.execute_reply.started": "2022-06-03T20:44:04.623938Z"
    }
   },
   "outputs": [],
   "source": [
    "test['age_of_respondent'] = test['age_of_respondent'].map(idade)"
   ]
  },
  {
   "cell_type": "code",
   "execution_count": null,
   "metadata": {
    "execution": {
     "iopub.execute_input": "2022-06-03T20:44:06.437281Z",
     "iopub.status.busy": "2022-06-03T20:44:06.436872Z",
     "iopub.status.idle": "2022-06-03T20:44:06.522636Z",
     "shell.execute_reply": "2022-06-03T20:44:06.521593Z",
     "shell.execute_reply.started": "2022-06-03T20:44:06.437246Z"
    }
   },
   "outputs": [],
   "source": [
    "# test['bank_account']=test['bank_account'].apply(lambda x: 1 if x=='Yes' else 0)\n",
    "test['gender_of_respondent']=test['gender_of_respondent'].apply(lambda x: 1 if x=='Male' else 0)\n",
    "test['location_type']=test['location_type'].apply(lambda x:1 if x=='Rural' else 0)\n",
    "test['cellphone_access']=test['cellphone_access'].apply(lambda x:1 if x=='Yes' else 0)\n",
    "#One Hot Encoding\n",
    "# enc = OrdinalEncoder()\n",
    "# enc.fit(test[['age_of_respondent', 'education_level']])\n",
    "# test[['age_of_respondent', 'education_level']] = enc.transform(test[['age_of_respondent', 'education_level']])\n",
    "test = pd.get_dummies(test, columns=['relationship_with_head'], prefix = ['rwh'])\n",
    "test = pd.get_dummies(test, columns=['age_of_respondent'], prefix = ['aor'])\n",
    "#df3 = pd.get_dummies(df3, columns=['year'], prefix = ['y'])\n",
    "test = pd.get_dummies(test, columns=['marital_status'], prefix = ['ms'])\n",
    "test = pd.get_dummies(test, columns=['job_type'], prefix = ['jt'])\n",
    "test = pd.get_dummies(test, columns=['country'], prefix = ['c'])\n",
    "#Label Encoder\n",
    "test['education_level'] = LabelEncoder().fit_transform(test['education_level'].astype(str))\n",
    "# df3['age_of_respondent'] = LabelEncoder().fit_transform(df3['age_of_respondent'].astype(str))\n"
   ]
  },
  {
   "cell_type": "code",
   "execution_count": null,
   "metadata": {
    "execution": {
     "iopub.execute_input": "2022-06-03T20:15:45.617493Z",
     "iopub.status.busy": "2022-06-03T20:15:45.617104Z",
     "iopub.status.idle": "2022-06-03T20:15:45.621608Z",
     "shell.execute_reply": "2022-06-03T20:15:45.620854Z",
     "shell.execute_reply.started": "2022-06-03T20:15:45.617463Z"
    }
   },
   "outputs": [],
   "source": [
    "# #test['bank_account']=test['bank_account'].apply(lambda x: 1 if x=='Yes' else 0)\n",
    "# test['gender_of_respondent']=test['gender_of_respondent'].apply(lambda x: 1 if x=='Male' else 0)\n",
    "# test['location_type']=test['location_type'].apply(lambda x:1 if x=='Rural' else 0)\n",
    "# test['cellphone_access']=test['cellphone_access'].apply(lambda x:1 if x=='Yes' else 0)\n",
    "# #One Hot Encoding\n",
    "# test = pd.get_dummies(test, columns=['relationship_with_head'], prefix = ['rwh'])\n",
    "# test = pd.get_dummies(test, columns=['age_of_respondent'], prefix = ['aor'])\n",
    "# #test = pd.get_dummies(test, columns=['year'], prefix = ['y'])\n",
    "# test = pd.get_dummies(test, columns=['marital_status'], prefix = ['ms'])\n",
    "# test = pd.get_dummies(test, columns=['job_type'], prefix = ['jt'])\n",
    "# test = pd.get_dummies(test, columns=['country'], prefix = ['c'])\n",
    "# #Label Encoder\n",
    "# test['education_level'] = LabelEncoder().fit_transform(test['education_level'].astype(str))"
   ]
  },
  {
   "cell_type": "code",
   "execution_count": null,
   "metadata": {
    "execution": {
     "iopub.execute_input": "2022-06-03T20:44:17.255569Z",
     "iopub.status.busy": "2022-06-03T20:44:17.255101Z",
     "iopub.status.idle": "2022-06-03T20:44:17.261927Z",
     "shell.execute_reply": "2022-06-03T20:44:17.261164Z",
     "shell.execute_reply.started": "2022-06-03T20:44:17.255469Z"
    }
   },
   "outputs": [],
   "source": [
    "test['household_size'] = np.log(test.household_size)"
   ]
  },
  {
   "cell_type": "markdown",
   "metadata": {},
   "source": [
    "## Training Model"
   ]
  },
  {
   "cell_type": "code",
   "execution_count": null,
   "metadata": {
    "execution": {
     "iopub.execute_input": "2022-06-03T20:45:59.717907Z",
     "iopub.status.busy": "2022-06-03T20:45:59.717349Z",
     "iopub.status.idle": "2022-06-03T20:45:59.761092Z",
     "shell.execute_reply": "2022-06-03T20:45:59.759770Z",
     "shell.execute_reply.started": "2022-06-03T20:45:59.717861Z"
    }
   },
   "outputs": [],
   "source": [
    "#for submission\n",
    "#df5 = pd.concat([X_train,y_train],axis=1)\n",
    "\n",
    "Y = df4['bank_account'].copy()\n",
    "X = df4.drop(['uniqueid', 'bank_account','uid','year'],axis=1)\n",
    "\n",
    "X_train = X[cols_selected_boruta]\n",
    "y_train = Y[cols_selected_boruta]\n",
    "model3 = xgb.XGBClassifier(learning_rate= 0.01,\n",
    "                            n_estimators=1500,\n",
    "                            max_depth= 4,\n",
    "                            subsample= 0.8,\n",
    "                            colsample_bytree= 1,\n",
    "                            gamma= 1)\n",
    "model3.fit(X_train, y_train)\n",
    "#y_pred=model3.predict(X_test)\n"
   ]
  },
  {
   "cell_type": "code",
   "execution_count": null,
   "metadata": {
    "execution": {
     "iopub.execute_input": "2022-06-03T20:15:59.138484Z",
     "iopub.status.busy": "2022-06-03T20:15:59.138107Z",
     "iopub.status.idle": "2022-06-03T20:15:59.145190Z",
     "shell.execute_reply": "2022-06-03T20:15:59.144297Z",
     "shell.execute_reply.started": "2022-06-03T20:15:59.138452Z"
    }
   },
   "outputs": [],
   "source": [
    "# Create a list of columns to be used for the predictions\n",
    "wanted_test_columns = X_train.columns\n",
    "wanted_test_columns"
   ]
  },
  {
   "cell_type": "code",
   "execution_count": null,
   "metadata": {
    "execution": {
     "iopub.execute_input": "2022-06-03T20:15:59.146745Z",
     "iopub.status.busy": "2022-06-03T20:15:59.146383Z",
     "iopub.status.idle": "2022-06-03T20:15:59.189739Z",
     "shell.execute_reply": "2022-06-03T20:15:59.188634Z",
     "shell.execute_reply.started": "2022-06-03T20:15:59.146716Z"
    }
   },
   "outputs": [],
   "source": [
    "# Make a prediction using the XGboost model on the wanted columns\n",
    "predictions = model3.predict(test[wanted_test_columns])"
   ]
  },
  {
   "cell_type": "code",
   "execution_count": null,
   "metadata": {
    "execution": {
     "iopub.execute_input": "2022-06-03T20:16:25.970800Z",
     "iopub.status.busy": "2022-06-03T20:16:25.970175Z",
     "iopub.status.idle": "2022-06-03T20:16:25.977457Z",
     "shell.execute_reply": "2022-06-03T20:16:25.976752Z",
     "shell.execute_reply.started": "2022-06-03T20:16:25.970759Z"
    }
   },
   "outputs": [],
   "source": [
    "submission = pd.DataFrame({'uid': test.uid, 'bank_account': predictions})"
   ]
  },
  {
   "cell_type": "code",
   "execution_count": null,
   "metadata": {
    "execution": {
     "iopub.execute_input": "2022-06-03T20:16:44.535189Z",
     "iopub.status.busy": "2022-06-03T20:16:44.534602Z",
     "iopub.status.idle": "2022-06-03T20:16:44.543675Z",
     "shell.execute_reply": "2022-06-03T20:16:44.542518Z",
     "shell.execute_reply.started": "2022-06-03T20:16:44.535138Z"
    }
   },
   "outputs": [],
   "source": [
    "submission.dtypes"
   ]
  },
  {
   "cell_type": "code",
   "execution_count": null,
   "metadata": {
    "execution": {
     "iopub.execute_input": "2022-06-03T20:16:50.364021Z",
     "iopub.status.busy": "2022-06-03T20:16:50.363631Z",
     "iopub.status.idle": "2022-06-03T20:16:50.372405Z",
     "shell.execute_reply": "2022-06-03T20:16:50.371474Z",
     "shell.execute_reply.started": "2022-06-03T20:16:50.363991Z"
    }
   },
   "outputs": [],
   "source": [
    "submission['bank_account'].value_counts()"
   ]
  },
  {
   "cell_type": "code",
   "execution_count": null,
   "metadata": {
    "execution": {
     "iopub.execute_input": "2022-06-03T20:19:24.085676Z",
     "iopub.status.busy": "2022-06-03T20:19:24.085276Z",
     "iopub.status.idle": "2022-06-03T20:19:24.090638Z",
     "shell.execute_reply": "2022-06-03T20:19:24.089671Z",
     "shell.execute_reply.started": "2022-06-03T20:19:24.085646Z"
    }
   },
   "outputs": [],
   "source": [
    "def yesno(coluna):\n",
    "    if coluna == 0:\n",
    "        return \"No\"\n",
    "    else:\n",
    "        return \"Yes\""
   ]
  },
  {
   "cell_type": "code",
   "execution_count": null,
   "metadata": {
    "execution": {
     "iopub.execute_input": "2022-06-03T20:19:26.786674Z",
     "iopub.status.busy": "2022-06-03T20:19:26.786290Z",
     "iopub.status.idle": "2022-06-03T20:19:26.795677Z",
     "shell.execute_reply": "2022-06-03T20:19:26.794551Z",
     "shell.execute_reply.started": "2022-06-03T20:19:26.786644Z"
    }
   },
   "outputs": [],
   "source": [
    "submission['bank_account'] = submission['bank_account'].map(yesno)"
   ]
  },
  {
   "cell_type": "code",
   "execution_count": null,
   "metadata": {
    "execution": {
     "iopub.execute_input": "2022-06-03T20:19:28.506704Z",
     "iopub.status.busy": "2022-06-03T20:19:28.505979Z",
     "iopub.status.idle": "2022-06-03T20:19:28.525665Z",
     "shell.execute_reply": "2022-06-03T20:19:28.524872Z",
     "shell.execute_reply.started": "2022-06-03T20:19:28.506666Z"
    }
   },
   "outputs": [],
   "source": [
    "submission.sample(100)"
   ]
  },
  {
   "cell_type": "code",
   "execution_count": null,
   "metadata": {
    "execution": {
     "iopub.execute_input": "2022-06-03T20:19:43.558105Z",
     "iopub.status.busy": "2022-06-03T20:19:43.557414Z",
     "iopub.status.idle": "2022-06-03T20:19:43.591861Z",
     "shell.execute_reply": "2022-06-03T20:19:43.590828Z",
     "shell.execute_reply.started": "2022-06-03T20:19:43.558055Z"
    }
   },
   "outputs": [],
   "source": [
    "# Convert submisison dataframe to csv for submission to csv \n",
    "# for Kaggle submisison\n",
    "submission.to_csv('/kaggle/working/submission.csv', index=False)\n",
    "print('Submission CSV is ready!')"
   ]
  },
  {
   "cell_type": "code",
   "execution_count": null,
   "metadata": {},
   "outputs": [],
   "source": []
  }
 ],
 "metadata": {
  "kernelspec": {
   "display_name": "Python 3 (ipykernel)",
   "language": "python",
   "name": "python3"
  },
  "language_info": {
   "codemirror_mode": {
    "name": "ipython",
    "version": 3
   },
   "file_extension": ".py",
   "mimetype": "text/x-python",
   "name": "python",
   "nbconvert_exporter": "python",
   "pygments_lexer": "ipython3",
   "version": "3.8.10"
  },
  "varInspector": {
   "cols": {
    "lenName": 16,
    "lenType": 16,
    "lenVar": 40
   },
   "kernels_config": {
    "python": {
     "delete_cmd_postfix": "",
     "delete_cmd_prefix": "del ",
     "library": "var_list.py",
     "varRefreshCmd": "print(var_dic_list())"
    },
    "r": {
     "delete_cmd_postfix": ") ",
     "delete_cmd_prefix": "rm(",
     "library": "var_list.r",
     "varRefreshCmd": "cat(var_dic_list()) "
    }
   },
   "types_to_exclude": [
    "module",
    "function",
    "builtin_function_or_method",
    "instance",
    "_Feature"
   ],
   "window_display": false
  }
 },
 "nbformat": 4,
 "nbformat_minor": 4
}

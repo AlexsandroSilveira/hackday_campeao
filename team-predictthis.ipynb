{
 "cells": [
  {
   "cell_type": "markdown",
   "metadata": {},
   "source": [
    "# 0.0 Imports"
   ]
  },
  {
   "cell_type": "code",
   "execution_count": 8,
   "metadata": {
    "_cell_guid": "b1076dfc-b9ad-4769-8c92-a6c4dae69d19",
    "_uuid": "8f2839f25d086af736a60e9eeb907d3b93b6e0e5",
    "execution": {
     "iopub.execute_input": "2022-06-03T20:33:53.996120Z",
     "iopub.status.busy": "2022-06-03T20:33:53.995673Z",
     "iopub.status.idle": "2022-06-03T20:33:54.010281Z",
     "shell.execute_reply": "2022-06-03T20:33:54.009442Z",
     "shell.execute_reply.started": "2022-06-03T20:33:53.996083Z"
    }
   },
   "outputs": [
    {
     "data": {
      "text/plain": [
       "\"pd.set_option('display.max_rows', 500)\\npd.set_option('display.max_columns', 500)\\npd.set_option('display.width', 1000)\\n\\nimport os\\nfor dirname, _, filenames in os.walk('/kaggle/input'):\\n    for filename in filenames:\\n        print(os.path.join(dirname, filename))\\n\\n#Paths handlers\\ndata_path = '/kaggle/input/inclusao-financeira-na-africa/' \""
      ]
     },
     "execution_count": 8,
     "metadata": {},
     "output_type": "execute_result"
    }
   ],
   "source": [
    "import numpy as np\n",
    "import pandas as pd\n",
    "import scipy.stats as stats\n",
    "\n",
    "from sklearn import model_selection as ms\n",
    "from sklearn import preprocessing   as pp\n",
    "from sklearn.preprocessing import LabelEncoder, OrdinalEncoder\n",
    "\n",
    "#Visualization\n",
    "from pandas_profiling import ProfileReport\n",
    "from matplotlib import pyplot as plt\n",
    "import seaborn as sns\n",
    "\n",
    "#Others\n",
    "import pickle\n",
    "import warnings\n",
    "\n",
    "from IPython.display       import Image\n",
    "from IPython.core.display  import HTML\n",
    "\n",
    "warnings.filterwarnings( 'ignore' )\n",
    "\n",
    "\"\"\"pd.set_option('display.max_rows', 500)\n",
    "pd.set_option('display.max_columns', 500)\n",
    "pd.set_option('display.width', 1000)\n",
    "\n",
    "import os\n",
    "for dirname, _, filenames in os.walk('/kaggle/input'):\n",
    "    for filename in filenames:\n",
    "        print(os.path.join(dirname, filename))\n",
    "\n",
    "#Paths handlers\n",
    "data_path = '/kaggle/input/inclusao-financeira-na-africa/' \"\"\""
   ]
  },
  {
   "cell_type": "markdown",
   "metadata": {},
   "source": [
    "## 0.1. Helper Functions"
   ]
  },
  {
   "cell_type": "code",
   "execution_count": 18,
   "metadata": {
    "execution": {
     "iopub.execute_input": "2022-06-03T19:51:42.954191Z",
     "iopub.status.busy": "2022-06-03T19:51:42.952945Z",
     "iopub.status.idle": "2022-06-03T19:51:42.993702Z",
     "shell.execute_reply": "2022-06-03T19:51:42.992611Z",
     "shell.execute_reply.started": "2022-06-03T19:51:42.954137Z"
    }
   },
   "outputs": [
    {
     "data": {
      "text/html": [
       "<style>.container { width:100% !important; }</style>"
      ],
      "text/plain": [
       "<IPython.core.display.HTML object>"
      ]
     },
     "metadata": {},
     "output_type": "display_data"
    }
   ],
   "source": [
    "def jupyter_settings():\n",
    "    %matplotlib inline\n",
    "    plt.style.use( 'bmh' )\n",
    "    plt.rcParams['figure.figsize'] = [25, 12]\n",
    "    plt.rcParams['font.size'] = 24\n",
    "    display( HTML( '<style>.container { width:100% !important; }</style>') )\n",
    "    pd.options.display.max_columns = None\n",
    "    pd.options.display.max_rows = None\n",
    "    pd.set_option( 'display.expand_frame_repr', False )\n",
    "    sns.set()\n",
    "    \n",
    "# Plots the disribution of a variable colored by value of the target\n",
    "def kde_target(var_name, df):\n",
    "    \n",
    "    # Calculate the correlation coefficient between the new variable and the target\n",
    "    corr = df['TARGET'].corr(df[var_name])\n",
    "    \n",
    "    # Calculate medians for repaid vs not repaid\n",
    "    avg_repaid = df.ix[df['TARGET'] == 0, var_name].median()\n",
    "    avg_not_repaid = df.ix[df['TARGET'] == 1, var_name].median()\n",
    "    \n",
    "    plt.figure(figsize = (12, 6))\n",
    "    \n",
    "    # Plot the distribution for target == 0 and target == 1\n",
    "    sns.kdeplot(df.ix[df['TARGET'] == 0, var_name], label = 'TARGET == 0')\n",
    "    sns.kdeplot(df.ix[df['TARGET'] == 1, var_name], label = 'TARGET == 1')\n",
    "    \n",
    "    # label the plot\n",
    "    plt.xlabel(var_name); plt.ylabel('Density'); plt.title('%s Distribution' % var_name)\n",
    "    plt.legend();\n",
    "    \n",
    "    # print out the correlation\n",
    "    print('The correlation between %s and the TARGET is %0.4f' % (var_name, corr))\n",
    "    # Print out average values\n",
    "    print('Median value for loan that was not repaid = %0.4f' % avg_not_repaid)\n",
    "    print('Median value for loan that was repaid =     %0.4f' % avg_repaid)\n",
    "\n",
    "\n",
    "def diagnostic_plots(df, variable):\n",
    "    # plot the histograms to have a quick look at the distributions\n",
    "    # we can plot Q-Q plots to visualise if the variable is normally distributed\n",
    "    # function to plot a histogram and a Q-Q plot\n",
    "    # side by side, for a certain variable\n",
    "    \n",
    "    plt.figure(figsize=(15,6))\n",
    "    plt.subplot(1, 2, 1)\n",
    "    df[variable].hist()\n",
    "\n",
    "    plt.subplot(1, 2, 2)\n",
    "    stats.probplot(df[variable], dist=\"norm\", plot=pylab)\n",
    "\n",
    "    plt.show()\n",
    "    \n",
    "\n",
    "jupyter_settings()"
   ]
  },
  {
   "cell_type": "markdown",
   "metadata": {},
   "source": [
    "## 0.2 Loading Data"
   ]
  },
  {
   "cell_type": "code",
   "execution_count": 9,
   "metadata": {
    "execution": {
     "iopub.execute_input": "2022-06-03T19:51:45.920659Z",
     "iopub.status.busy": "2022-06-03T19:51:45.920258Z",
     "iopub.status.idle": "2022-06-03T19:51:46.051376Z",
     "shell.execute_reply": "2022-06-03T19:51:46.050366Z",
     "shell.execute_reply.started": "2022-06-03T19:51:45.920626Z"
    }
   },
   "outputs": [],
   "source": [
    "df_raw = pd.read_csv('csv/train.csv',low_memory=False)\n",
    "test_raw = pd.read_csv('csv/test.csv',low_memory=False)"
   ]
  },
  {
   "cell_type": "markdown",
   "metadata": {},
   "source": [
    "# 1.0. Descrição dos Dados"
   ]
  },
  {
   "cell_type": "code",
   "execution_count": 11,
   "metadata": {
    "execution": {
     "iopub.execute_input": "2022-06-03T19:54:21.544031Z",
     "iopub.status.busy": "2022-06-03T19:54:21.543618Z",
     "iopub.status.idle": "2022-06-03T19:54:21.550546Z",
     "shell.execute_reply": "2022-06-03T19:54:21.549483Z",
     "shell.execute_reply.started": "2022-06-03T19:54:21.544001Z"
    }
   },
   "outputs": [
    {
     "data": {
      "text/html": [
       "<div>\n",
       "<style scoped>\n",
       "    .dataframe tbody tr th:only-of-type {\n",
       "        vertical-align: middle;\n",
       "    }\n",
       "\n",
       "    .dataframe tbody tr th {\n",
       "        vertical-align: top;\n",
       "    }\n",
       "\n",
       "    .dataframe thead th {\n",
       "        text-align: right;\n",
       "    }\n",
       "</style>\n",
       "<table border=\"1\" class=\"dataframe\">\n",
       "  <thead>\n",
       "    <tr style=\"text-align: right;\">\n",
       "      <th></th>\n",
       "      <th>country</th>\n",
       "      <th>year</th>\n",
       "      <th>uniqueid</th>\n",
       "      <th>location_type</th>\n",
       "      <th>cellphone_access</th>\n",
       "      <th>household_size</th>\n",
       "      <th>age_of_respondent</th>\n",
       "      <th>gender_of_respondent</th>\n",
       "      <th>relationship_with_head</th>\n",
       "      <th>marital_status</th>\n",
       "      <th>education_level</th>\n",
       "      <th>job_type</th>\n",
       "      <th>uid</th>\n",
       "      <th>bank_account</th>\n",
       "    </tr>\n",
       "  </thead>\n",
       "  <tbody>\n",
       "    <tr>\n",
       "      <th>0</th>\n",
       "      <td>Rwanda</td>\n",
       "      <td>2016</td>\n",
       "      <td>uniqueid_4858</td>\n",
       "      <td>Rural</td>\n",
       "      <td>Yes</td>\n",
       "      <td>6</td>\n",
       "      <td>45</td>\n",
       "      <td>Male</td>\n",
       "      <td>Head of Household</td>\n",
       "      <td>Divorced/Seperated</td>\n",
       "      <td>Primary education</td>\n",
       "      <td>Farming and Fishing</td>\n",
       "      <td>Rwanda_uniqueid_4858</td>\n",
       "      <td>No</td>\n",
       "    </tr>\n",
       "    <tr>\n",
       "      <th>1</th>\n",
       "      <td>Tanzania</td>\n",
       "      <td>2017</td>\n",
       "      <td>uniqueid_3015</td>\n",
       "      <td>Urban</td>\n",
       "      <td>No</td>\n",
       "      <td>4</td>\n",
       "      <td>33</td>\n",
       "      <td>Female</td>\n",
       "      <td>Head of Household</td>\n",
       "      <td>Single/Never Married</td>\n",
       "      <td>Primary education</td>\n",
       "      <td>Self employed</td>\n",
       "      <td>Tanzania_uniqueid_3015</td>\n",
       "      <td>No</td>\n",
       "    </tr>\n",
       "    <tr>\n",
       "      <th>2</th>\n",
       "      <td>Rwanda</td>\n",
       "      <td>2016</td>\n",
       "      <td>uniqueid_103</td>\n",
       "      <td>Rural</td>\n",
       "      <td>Yes</td>\n",
       "      <td>7</td>\n",
       "      <td>43</td>\n",
       "      <td>Male</td>\n",
       "      <td>Head of Household</td>\n",
       "      <td>Married/Living together</td>\n",
       "      <td>Secondary education</td>\n",
       "      <td>Farming and Fishing</td>\n",
       "      <td>Rwanda_uniqueid_103</td>\n",
       "      <td>No</td>\n",
       "    </tr>\n",
       "    <tr>\n",
       "      <th>3</th>\n",
       "      <td>Rwanda</td>\n",
       "      <td>2016</td>\n",
       "      <td>uniqueid_4582</td>\n",
       "      <td>Rural</td>\n",
       "      <td>No</td>\n",
       "      <td>6</td>\n",
       "      <td>35</td>\n",
       "      <td>Female</td>\n",
       "      <td>Head of Household</td>\n",
       "      <td>Married/Living together</td>\n",
       "      <td>Primary education</td>\n",
       "      <td>Farming and Fishing</td>\n",
       "      <td>Rwanda_uniqueid_4582</td>\n",
       "      <td>No</td>\n",
       "    </tr>\n",
       "    <tr>\n",
       "      <th>4</th>\n",
       "      <td>Tanzania</td>\n",
       "      <td>2017</td>\n",
       "      <td>uniqueid_2854</td>\n",
       "      <td>Urban</td>\n",
       "      <td>Yes</td>\n",
       "      <td>2</td>\n",
       "      <td>30</td>\n",
       "      <td>Male</td>\n",
       "      <td>Head of Household</td>\n",
       "      <td>Single/Never Married</td>\n",
       "      <td>Primary education</td>\n",
       "      <td>Informally employed</td>\n",
       "      <td>Tanzania_uniqueid_2854</td>\n",
       "      <td>No</td>\n",
       "    </tr>\n",
       "  </tbody>\n",
       "</table>\n",
       "</div>"
      ],
      "text/plain": [
       "    country  year       uniqueid location_type cellphone_access  \\\n",
       "0    Rwanda  2016  uniqueid_4858         Rural              Yes   \n",
       "1  Tanzania  2017  uniqueid_3015         Urban               No   \n",
       "2    Rwanda  2016   uniqueid_103         Rural              Yes   \n",
       "3    Rwanda  2016  uniqueid_4582         Rural               No   \n",
       "4  Tanzania  2017  uniqueid_2854         Urban              Yes   \n",
       "\n",
       "   household_size  age_of_respondent gender_of_respondent  \\\n",
       "0               6                 45                 Male   \n",
       "1               4                 33               Female   \n",
       "2               7                 43                 Male   \n",
       "3               6                 35               Female   \n",
       "4               2                 30                 Male   \n",
       "\n",
       "  relationship_with_head           marital_status      education_level  \\\n",
       "0      Head of Household       Divorced/Seperated    Primary education   \n",
       "1      Head of Household     Single/Never Married    Primary education   \n",
       "2      Head of Household  Married/Living together  Secondary education   \n",
       "3      Head of Household  Married/Living together    Primary education   \n",
       "4      Head of Household     Single/Never Married    Primary education   \n",
       "\n",
       "              job_type                     uid bank_account  \n",
       "0  Farming and Fishing    Rwanda_uniqueid_4858           No  \n",
       "1        Self employed  Tanzania_uniqueid_3015           No  \n",
       "2  Farming and Fishing     Rwanda_uniqueid_103           No  \n",
       "3  Farming and Fishing    Rwanda_uniqueid_4582           No  \n",
       "4  Informally employed  Tanzania_uniqueid_2854           No  "
      ]
     },
     "execution_count": 11,
     "metadata": {},
     "output_type": "execute_result"
    }
   ],
   "source": [
    "df_raw.head()"
   ]
  },
  {
   "attachments": {},
   "cell_type": "markdown",
   "metadata": {},
   "source": [
    "## 1.1. Data Dimensions and Columns"
   ]
  },
  {
   "cell_type": "code",
   "execution_count": 10,
   "metadata": {
    "execution": {
     "iopub.execute_input": "2022-06-03T19:54:31.032469Z",
     "iopub.status.busy": "2022-06-03T19:54:31.031943Z",
     "iopub.status.idle": "2022-06-03T19:54:31.039400Z",
     "shell.execute_reply": "2022-06-03T19:54:31.038595Z",
     "shell.execute_reply.started": "2022-06-03T19:54:31.032438Z"
    }
   },
   "outputs": [
    {
     "name": "stdout",
     "output_type": "stream",
     "text": [
      "number of rows: 11762\n",
      "number of columns: 14\n"
     ]
    }
   ],
   "source": [
    "print(f'number of rows: {df_raw.shape[0]}')\n",
    "print(f'number of columns: {df_raw.shape[1]}')\n",
    "\n",
    "#df_raw.columns  # already in snake case! :)"
   ]
  },
  {
   "attachments": {},
   "cell_type": "markdown",
   "metadata": {},
   "source": [
    "## 1.2. Data Types"
   ]
  },
  {
   "cell_type": "code",
   "execution_count": 13,
   "metadata": {
    "execution": {
     "iopub.execute_input": "2022-06-03T19:54:37.994883Z",
     "iopub.status.busy": "2022-06-03T19:54:37.994125Z",
     "iopub.status.idle": "2022-06-03T19:54:38.036190Z",
     "shell.execute_reply": "2022-06-03T19:54:38.035146Z",
     "shell.execute_reply.started": "2022-06-03T19:54:37.994838Z"
    }
   },
   "outputs": [
    {
     "name": "stdout",
     "output_type": "stream",
     "text": [
      "<class 'pandas.core.frame.DataFrame'>\n",
      "RangeIndex: 11762 entries, 0 to 11761\n",
      "Data columns (total 14 columns):\n",
      " #   Column                  Non-Null Count  Dtype \n",
      "---  ------                  --------------  ----- \n",
      " 0   country                 11762 non-null  object\n",
      " 1   year                    11762 non-null  int64 \n",
      " 2   uniqueid                11762 non-null  object\n",
      " 3   location_type           11762 non-null  object\n",
      " 4   cellphone_access        11762 non-null  object\n",
      " 5   household_size          11762 non-null  int64 \n",
      " 6   age_of_respondent       11762 non-null  int64 \n",
      " 7   gender_of_respondent    11762 non-null  object\n",
      " 8   relationship_with_head  11762 non-null  object\n",
      " 9   marital_status          11762 non-null  object\n",
      " 10  education_level         11762 non-null  object\n",
      " 11  job_type                11762 non-null  object\n",
      " 12  uid                     11762 non-null  object\n",
      " 13  bank_account            11762 non-null  object\n",
      "dtypes: int64(3), object(11)\n",
      "memory usage: 1.3+ MB\n"
     ]
    }
   ],
   "source": [
    "df_raw.info()"
   ]
  },
  {
   "attachments": {},
   "cell_type": "markdown",
   "metadata": {},
   "source": [
    "## 1.3. Check NA"
   ]
  },
  {
   "cell_type": "code",
   "execution_count": 14,
   "metadata": {
    "execution": {
     "iopub.execute_input": "2022-06-03T19:54:54.344244Z",
     "iopub.status.busy": "2022-06-03T19:54:54.343483Z",
     "iopub.status.idle": "2022-06-03T19:54:54.369467Z",
     "shell.execute_reply": "2022-06-03T19:54:54.368346Z",
     "shell.execute_reply.started": "2022-06-03T19:54:54.344199Z"
    }
   },
   "outputs": [
    {
     "data": {
      "text/plain": [
       "country                   0\n",
       "year                      0\n",
       "uniqueid                  0\n",
       "location_type             0\n",
       "cellphone_access          0\n",
       "household_size            0\n",
       "age_of_respondent         0\n",
       "gender_of_respondent      0\n",
       "relationship_with_head    0\n",
       "marital_status            0\n",
       "education_level           0\n",
       "job_type                  0\n",
       "uid                       0\n",
       "bank_account              0\n",
       "dtype: int64"
      ]
     },
     "execution_count": 14,
     "metadata": {},
     "output_type": "execute_result"
    }
   ],
   "source": [
    "df_raw.isna().sum()"
   ]
  },
  {
   "attachments": {},
   "cell_type": "markdown",
   "metadata": {},
   "source": [
    "## 1.4 EDA"
   ]
  },
  {
   "cell_type": "code",
   "execution_count": 30,
   "metadata": {},
   "outputs": [
    {
     "name": "stderr",
     "output_type": "stream",
     "text": [
      "Summarize dataset: 100%|██████████| 27/27 [00:02<00:00, 11.59it/s, Completed]                                   \n",
      "Generate report structure: 100%|██████████| 1/1 [00:03<00:00,  3.56s/it]\n",
      "Render HTML: 100%|██████████| 1/1 [00:00<00:00,  1.98it/s]\n",
      "Export report to file: 100%|██████████| 1/1 [00:00<00:00, 142.76it/s]\n"
     ]
    }
   ],
   "source": [
    "#EDA using pandas-profiling\n",
    "profile = ProfileReport(df_raw, explorative=True)\n",
    "\n",
    "#Saving results to a HTML file\n",
    "profile.to_file(\"output.html\")"
   ]
  },
  {
   "attachments": {},
   "cell_type": "markdown",
   "metadata": {},
   "source": [
    "# 2.0 FEATURE ENGINEERING"
   ]
  },
  {
   "cell_type": "code",
   "execution_count": 31,
   "metadata": {
    "execution": {
     "iopub.execute_input": "2022-06-03T20:27:33.581815Z",
     "iopub.status.busy": "2022-06-03T20:27:33.581290Z",
     "iopub.status.idle": "2022-06-03T20:27:33.598379Z",
     "shell.execute_reply": "2022-06-03T20:27:33.597623Z",
     "shell.execute_reply.started": "2022-06-03T20:27:33.581784Z"
    }
   },
   "outputs": [
    {
     "data": {
      "text/html": [
       "<div>\n",
       "<style scoped>\n",
       "    .dataframe tbody tr th:only-of-type {\n",
       "        vertical-align: middle;\n",
       "    }\n",
       "\n",
       "    .dataframe tbody tr th {\n",
       "        vertical-align: top;\n",
       "    }\n",
       "\n",
       "    .dataframe thead th {\n",
       "        text-align: right;\n",
       "    }\n",
       "</style>\n",
       "<table border=\"1\" class=\"dataframe\">\n",
       "  <thead>\n",
       "    <tr style=\"text-align: right;\">\n",
       "      <th></th>\n",
       "      <th>country</th>\n",
       "      <th>year</th>\n",
       "      <th>uniqueid</th>\n",
       "      <th>location_type</th>\n",
       "      <th>cellphone_access</th>\n",
       "      <th>household_size</th>\n",
       "      <th>age_of_respondent</th>\n",
       "      <th>gender_of_respondent</th>\n",
       "      <th>relationship_with_head</th>\n",
       "      <th>marital_status</th>\n",
       "      <th>education_level</th>\n",
       "      <th>job_type</th>\n",
       "      <th>uid</th>\n",
       "      <th>bank_account</th>\n",
       "    </tr>\n",
       "  </thead>\n",
       "  <tbody>\n",
       "    <tr>\n",
       "      <th>0</th>\n",
       "      <td>Rwanda</td>\n",
       "      <td>2016</td>\n",
       "      <td>uniqueid_4858</td>\n",
       "      <td>Rural</td>\n",
       "      <td>Yes</td>\n",
       "      <td>6</td>\n",
       "      <td>45</td>\n",
       "      <td>Male</td>\n",
       "      <td>Head of Household</td>\n",
       "      <td>Divorced/Seperated</td>\n",
       "      <td>Primary education</td>\n",
       "      <td>Farming and Fishing</td>\n",
       "      <td>Rwanda_uniqueid_4858</td>\n",
       "      <td>No</td>\n",
       "    </tr>\n",
       "    <tr>\n",
       "      <th>1</th>\n",
       "      <td>Tanzania</td>\n",
       "      <td>2017</td>\n",
       "      <td>uniqueid_3015</td>\n",
       "      <td>Urban</td>\n",
       "      <td>No</td>\n",
       "      <td>4</td>\n",
       "      <td>33</td>\n",
       "      <td>Female</td>\n",
       "      <td>Head of Household</td>\n",
       "      <td>Single/Never Married</td>\n",
       "      <td>Primary education</td>\n",
       "      <td>Self employed</td>\n",
       "      <td>Tanzania_uniqueid_3015</td>\n",
       "      <td>No</td>\n",
       "    </tr>\n",
       "    <tr>\n",
       "      <th>2</th>\n",
       "      <td>Rwanda</td>\n",
       "      <td>2016</td>\n",
       "      <td>uniqueid_103</td>\n",
       "      <td>Rural</td>\n",
       "      <td>Yes</td>\n",
       "      <td>7</td>\n",
       "      <td>43</td>\n",
       "      <td>Male</td>\n",
       "      <td>Head of Household</td>\n",
       "      <td>Married/Living together</td>\n",
       "      <td>Secondary education</td>\n",
       "      <td>Farming and Fishing</td>\n",
       "      <td>Rwanda_uniqueid_103</td>\n",
       "      <td>No</td>\n",
       "    </tr>\n",
       "    <tr>\n",
       "      <th>3</th>\n",
       "      <td>Rwanda</td>\n",
       "      <td>2016</td>\n",
       "      <td>uniqueid_4582</td>\n",
       "      <td>Rural</td>\n",
       "      <td>No</td>\n",
       "      <td>6</td>\n",
       "      <td>35</td>\n",
       "      <td>Female</td>\n",
       "      <td>Head of Household</td>\n",
       "      <td>Married/Living together</td>\n",
       "      <td>Primary education</td>\n",
       "      <td>Farming and Fishing</td>\n",
       "      <td>Rwanda_uniqueid_4582</td>\n",
       "      <td>No</td>\n",
       "    </tr>\n",
       "    <tr>\n",
       "      <th>4</th>\n",
       "      <td>Tanzania</td>\n",
       "      <td>2017</td>\n",
       "      <td>uniqueid_2854</td>\n",
       "      <td>Urban</td>\n",
       "      <td>Yes</td>\n",
       "      <td>2</td>\n",
       "      <td>30</td>\n",
       "      <td>Male</td>\n",
       "      <td>Head of Household</td>\n",
       "      <td>Single/Never Married</td>\n",
       "      <td>Primary education</td>\n",
       "      <td>Informally employed</td>\n",
       "      <td>Tanzania_uniqueid_2854</td>\n",
       "      <td>No</td>\n",
       "    </tr>\n",
       "  </tbody>\n",
       "</table>\n",
       "</div>"
      ],
      "text/plain": [
       "    country  year       uniqueid location_type cellphone_access  household_size  age_of_respondent gender_of_respondent relationship_with_head           marital_status      education_level             job_type                     uid bank_account\n",
       "0    Rwanda  2016  uniqueid_4858         Rural              Yes               6                 45                 Male      Head of Household       Divorced/Seperated    Primary education  Farming and Fishing    Rwanda_uniqueid_4858           No\n",
       "1  Tanzania  2017  uniqueid_3015         Urban               No               4                 33               Female      Head of Household     Single/Never Married    Primary education        Self employed  Tanzania_uniqueid_3015           No\n",
       "2    Rwanda  2016   uniqueid_103         Rural              Yes               7                 43                 Male      Head of Household  Married/Living together  Secondary education  Farming and Fishing     Rwanda_uniqueid_103           No\n",
       "3    Rwanda  2016  uniqueid_4582         Rural               No               6                 35               Female      Head of Household  Married/Living together    Primary education  Farming and Fishing    Rwanda_uniqueid_4582           No\n",
       "4  Tanzania  2017  uniqueid_2854         Urban              Yes               2                 30                 Male      Head of Household     Single/Never Married    Primary education  Informally employed  Tanzania_uniqueid_2854           No"
      ]
     },
     "execution_count": 31,
     "metadata": {},
     "output_type": "execute_result"
    }
   ],
   "source": [
    "df1 = df_raw.copy()\n",
    "df1.head()"
   ]
  },
  {
   "cell_type": "code",
   "execution_count": 32,
   "metadata": {
    "execution": {
     "iopub.execute_input": "2022-06-03T20:27:35.188405Z",
     "iopub.status.busy": "2022-06-03T20:27:35.188020Z",
     "iopub.status.idle": "2022-06-03T20:27:35.194495Z",
     "shell.execute_reply": "2022-06-03T20:27:35.193491Z",
     "shell.execute_reply.started": "2022-06-03T20:27:35.188374Z"
    }
   },
   "outputs": [],
   "source": [
    "def idade(coluna):\n",
    "    if coluna <= 26:\n",
    "        return \"Jovem\"\n",
    "    elif 26<coluna<=35:\n",
    "        return \"Jovem_Adulto\"\n",
    "    elif 35<coluna<=48:\n",
    "        return \"Adulto\"\n",
    "    else:\n",
    "        return \"Velho\""
   ]
  },
  {
   "cell_type": "code",
   "execution_count": 33,
   "metadata": {
    "execution": {
     "iopub.execute_input": "2022-06-03T20:27:36.407748Z",
     "iopub.status.busy": "2022-06-03T20:27:36.406877Z",
     "iopub.status.idle": "2022-06-03T20:27:36.417932Z",
     "shell.execute_reply": "2022-06-03T20:27:36.417028Z",
     "shell.execute_reply.started": "2022-06-03T20:27:36.407705Z"
    }
   },
   "outputs": [],
   "source": [
    "df1['age_of_respondent'] = df1['age_of_respondent'].map(idade)"
   ]
  },
  {
   "attachments": {},
   "cell_type": "markdown",
   "metadata": {},
   "source": [
    "## 2.1 Encoding Variables"
   ]
  },
  {
   "cell_type": "code",
   "execution_count": 34,
   "metadata": {
    "execution": {
     "iopub.execute_input": "2022-06-03T20:27:41.451953Z",
     "iopub.status.busy": "2022-06-03T20:27:41.451537Z",
     "iopub.status.idle": "2022-06-03T20:27:41.543904Z",
     "shell.execute_reply": "2022-06-03T20:27:41.542931Z",
     "shell.execute_reply.started": "2022-06-03T20:27:41.451916Z"
    }
   },
   "outputs": [],
   "source": [
    "df1['bank_account'] = df1['bank_account'].apply(lambda x: 1 if x=='Yes' else 0)\n",
    "df1['gender_of_respondent'] = df1['gender_of_respondent'].apply(lambda x: 1 if x=='Male' else 0)\n",
    "df1['location_type'] = df1['location_type'].apply(lambda x:1 if x=='Rural' else 0)\n",
    "df1['cellphone_access'] = df1['cellphone_access'].apply(lambda x:1 if x=='Yes' else 0)\n",
    "\n",
    "df1 = pd.get_dummies(df1, columns=['relationship_with_head'], prefix = ['rwh'])\n",
    "df1 = pd.get_dummies(df1, columns=['age_of_respondent'], prefix = ['aor'])\n",
    "df1 = pd.get_dummies(df1, columns=['marital_status'], prefix = ['ms'])\n",
    "df1 = pd.get_dummies(df1, columns=['job_type'], prefix = ['jt'])\n",
    "df1 = pd.get_dummies(df1, columns=['country'], prefix = ['c'])\n",
    "#Label Encoder\n",
    "df1['education_level'] = LabelEncoder().fit_transform(df1['education_level'].astype(str))\n"
   ]
  },
  {
   "cell_type": "code",
   "execution_count": 35,
   "metadata": {
    "execution": {
     "iopub.execute_input": "2022-06-03T20:27:43.657133Z",
     "iopub.status.busy": "2022-06-03T20:27:43.656250Z",
     "iopub.status.idle": "2022-06-03T20:27:43.662751Z",
     "shell.execute_reply": "2022-06-03T20:27:43.661662Z",
     "shell.execute_reply.started": "2022-06-03T20:27:43.657088Z"
    }
   },
   "outputs": [],
   "source": [
    "df1['household_size'] = np.log(df1.household_size)"
   ]
  },
  {
   "cell_type": "code",
   "execution_count": 36,
   "metadata": {
    "execution": {
     "iopub.execute_input": "2022-06-03T20:27:46.415883Z",
     "iopub.status.busy": "2022-06-03T20:27:46.414826Z",
     "iopub.status.idle": "2022-06-03T20:27:46.439779Z",
     "shell.execute_reply": "2022-06-03T20:27:46.438919Z",
     "shell.execute_reply.started": "2022-06-03T20:27:46.415834Z"
    }
   },
   "outputs": [
    {
     "data": {
      "text/html": [
       "<div>\n",
       "<style scoped>\n",
       "    .dataframe tbody tr th:only-of-type {\n",
       "        vertical-align: middle;\n",
       "    }\n",
       "\n",
       "    .dataframe tbody tr th {\n",
       "        vertical-align: top;\n",
       "    }\n",
       "\n",
       "    .dataframe thead th {\n",
       "        text-align: right;\n",
       "    }\n",
       "</style>\n",
       "<table border=\"1\" class=\"dataframe\">\n",
       "  <thead>\n",
       "    <tr style=\"text-align: right;\">\n",
       "      <th></th>\n",
       "      <th>year</th>\n",
       "      <th>uniqueid</th>\n",
       "      <th>location_type</th>\n",
       "      <th>cellphone_access</th>\n",
       "      <th>household_size</th>\n",
       "      <th>gender_of_respondent</th>\n",
       "      <th>education_level</th>\n",
       "      <th>uid</th>\n",
       "      <th>bank_account</th>\n",
       "      <th>rwh_Child</th>\n",
       "      <th>rwh_Head of Household</th>\n",
       "      <th>rwh_Other non-relatives</th>\n",
       "      <th>rwh_Other relative</th>\n",
       "      <th>rwh_Parent</th>\n",
       "      <th>rwh_Spouse</th>\n",
       "      <th>aor_Adulto</th>\n",
       "      <th>aor_Jovem</th>\n",
       "      <th>aor_Jovem_Adulto</th>\n",
       "      <th>aor_Velho</th>\n",
       "      <th>ms_Divorced/Seperated</th>\n",
       "      <th>ms_Dont know</th>\n",
       "      <th>ms_Married/Living together</th>\n",
       "      <th>ms_Single/Never Married</th>\n",
       "      <th>ms_Widowed</th>\n",
       "      <th>jt_Dont Know/Refuse to answer</th>\n",
       "      <th>jt_Farming and Fishing</th>\n",
       "      <th>jt_Formally employed Government</th>\n",
       "      <th>jt_Formally employed Private</th>\n",
       "      <th>jt_Government Dependent</th>\n",
       "      <th>jt_Informally employed</th>\n",
       "      <th>jt_No Income</th>\n",
       "      <th>jt_Other Income</th>\n",
       "      <th>jt_Remittance Dependent</th>\n",
       "      <th>jt_Self employed</th>\n",
       "      <th>c_Kenya</th>\n",
       "      <th>c_Rwanda</th>\n",
       "      <th>c_Tanzania</th>\n",
       "      <th>c_Uganda</th>\n",
       "    </tr>\n",
       "  </thead>\n",
       "  <tbody>\n",
       "    <tr>\n",
       "      <th>0</th>\n",
       "      <td>2016</td>\n",
       "      <td>uniqueid_4858</td>\n",
       "      <td>1</td>\n",
       "      <td>1</td>\n",
       "      <td>1.791759</td>\n",
       "      <td>1</td>\n",
       "      <td>2</td>\n",
       "      <td>Rwanda_uniqueid_4858</td>\n",
       "      <td>0</td>\n",
       "      <td>0</td>\n",
       "      <td>1</td>\n",
       "      <td>0</td>\n",
       "      <td>0</td>\n",
       "      <td>0</td>\n",
       "      <td>0</td>\n",
       "      <td>1</td>\n",
       "      <td>0</td>\n",
       "      <td>0</td>\n",
       "      <td>0</td>\n",
       "      <td>1</td>\n",
       "      <td>0</td>\n",
       "      <td>0</td>\n",
       "      <td>0</td>\n",
       "      <td>0</td>\n",
       "      <td>0</td>\n",
       "      <td>1</td>\n",
       "      <td>0</td>\n",
       "      <td>0</td>\n",
       "      <td>0</td>\n",
       "      <td>0</td>\n",
       "      <td>0</td>\n",
       "      <td>0</td>\n",
       "      <td>0</td>\n",
       "      <td>0</td>\n",
       "      <td>0</td>\n",
       "      <td>1</td>\n",
       "      <td>0</td>\n",
       "      <td>0</td>\n",
       "    </tr>\n",
       "    <tr>\n",
       "      <th>1</th>\n",
       "      <td>2017</td>\n",
       "      <td>uniqueid_3015</td>\n",
       "      <td>0</td>\n",
       "      <td>0</td>\n",
       "      <td>1.386294</td>\n",
       "      <td>0</td>\n",
       "      <td>2</td>\n",
       "      <td>Tanzania_uniqueid_3015</td>\n",
       "      <td>0</td>\n",
       "      <td>0</td>\n",
       "      <td>1</td>\n",
       "      <td>0</td>\n",
       "      <td>0</td>\n",
       "      <td>0</td>\n",
       "      <td>0</td>\n",
       "      <td>0</td>\n",
       "      <td>0</td>\n",
       "      <td>1</td>\n",
       "      <td>0</td>\n",
       "      <td>0</td>\n",
       "      <td>0</td>\n",
       "      <td>0</td>\n",
       "      <td>1</td>\n",
       "      <td>0</td>\n",
       "      <td>0</td>\n",
       "      <td>0</td>\n",
       "      <td>0</td>\n",
       "      <td>0</td>\n",
       "      <td>0</td>\n",
       "      <td>0</td>\n",
       "      <td>0</td>\n",
       "      <td>0</td>\n",
       "      <td>0</td>\n",
       "      <td>1</td>\n",
       "      <td>0</td>\n",
       "      <td>0</td>\n",
       "      <td>1</td>\n",
       "      <td>0</td>\n",
       "    </tr>\n",
       "    <tr>\n",
       "      <th>2</th>\n",
       "      <td>2016</td>\n",
       "      <td>uniqueid_103</td>\n",
       "      <td>1</td>\n",
       "      <td>1</td>\n",
       "      <td>1.945910</td>\n",
       "      <td>1</td>\n",
       "      <td>3</td>\n",
       "      <td>Rwanda_uniqueid_103</td>\n",
       "      <td>0</td>\n",
       "      <td>0</td>\n",
       "      <td>1</td>\n",
       "      <td>0</td>\n",
       "      <td>0</td>\n",
       "      <td>0</td>\n",
       "      <td>0</td>\n",
       "      <td>1</td>\n",
       "      <td>0</td>\n",
       "      <td>0</td>\n",
       "      <td>0</td>\n",
       "      <td>0</td>\n",
       "      <td>0</td>\n",
       "      <td>1</td>\n",
       "      <td>0</td>\n",
       "      <td>0</td>\n",
       "      <td>0</td>\n",
       "      <td>1</td>\n",
       "      <td>0</td>\n",
       "      <td>0</td>\n",
       "      <td>0</td>\n",
       "      <td>0</td>\n",
       "      <td>0</td>\n",
       "      <td>0</td>\n",
       "      <td>0</td>\n",
       "      <td>0</td>\n",
       "      <td>0</td>\n",
       "      <td>1</td>\n",
       "      <td>0</td>\n",
       "      <td>0</td>\n",
       "    </tr>\n",
       "    <tr>\n",
       "      <th>3</th>\n",
       "      <td>2016</td>\n",
       "      <td>uniqueid_4582</td>\n",
       "      <td>1</td>\n",
       "      <td>0</td>\n",
       "      <td>1.791759</td>\n",
       "      <td>0</td>\n",
       "      <td>2</td>\n",
       "      <td>Rwanda_uniqueid_4582</td>\n",
       "      <td>0</td>\n",
       "      <td>0</td>\n",
       "      <td>1</td>\n",
       "      <td>0</td>\n",
       "      <td>0</td>\n",
       "      <td>0</td>\n",
       "      <td>0</td>\n",
       "      <td>0</td>\n",
       "      <td>0</td>\n",
       "      <td>1</td>\n",
       "      <td>0</td>\n",
       "      <td>0</td>\n",
       "      <td>0</td>\n",
       "      <td>1</td>\n",
       "      <td>0</td>\n",
       "      <td>0</td>\n",
       "      <td>0</td>\n",
       "      <td>1</td>\n",
       "      <td>0</td>\n",
       "      <td>0</td>\n",
       "      <td>0</td>\n",
       "      <td>0</td>\n",
       "      <td>0</td>\n",
       "      <td>0</td>\n",
       "      <td>0</td>\n",
       "      <td>0</td>\n",
       "      <td>0</td>\n",
       "      <td>1</td>\n",
       "      <td>0</td>\n",
       "      <td>0</td>\n",
       "    </tr>\n",
       "    <tr>\n",
       "      <th>4</th>\n",
       "      <td>2017</td>\n",
       "      <td>uniqueid_2854</td>\n",
       "      <td>0</td>\n",
       "      <td>1</td>\n",
       "      <td>0.693147</td>\n",
       "      <td>1</td>\n",
       "      <td>2</td>\n",
       "      <td>Tanzania_uniqueid_2854</td>\n",
       "      <td>0</td>\n",
       "      <td>0</td>\n",
       "      <td>1</td>\n",
       "      <td>0</td>\n",
       "      <td>0</td>\n",
       "      <td>0</td>\n",
       "      <td>0</td>\n",
       "      <td>0</td>\n",
       "      <td>0</td>\n",
       "      <td>1</td>\n",
       "      <td>0</td>\n",
       "      <td>0</td>\n",
       "      <td>0</td>\n",
       "      <td>0</td>\n",
       "      <td>1</td>\n",
       "      <td>0</td>\n",
       "      <td>0</td>\n",
       "      <td>0</td>\n",
       "      <td>0</td>\n",
       "      <td>0</td>\n",
       "      <td>0</td>\n",
       "      <td>1</td>\n",
       "      <td>0</td>\n",
       "      <td>0</td>\n",
       "      <td>0</td>\n",
       "      <td>0</td>\n",
       "      <td>0</td>\n",
       "      <td>0</td>\n",
       "      <td>1</td>\n",
       "      <td>0</td>\n",
       "    </tr>\n",
       "  </tbody>\n",
       "</table>\n",
       "</div>"
      ],
      "text/plain": [
       "   year       uniqueid  location_type  cellphone_access  household_size  gender_of_respondent  education_level                     uid  bank_account  rwh_Child  rwh_Head of Household  rwh_Other non-relatives  rwh_Other relative  rwh_Parent  rwh_Spouse  aor_Adulto  aor_Jovem  aor_Jovem_Adulto  aor_Velho  ms_Divorced/Seperated  ms_Dont know  ms_Married/Living together  ms_Single/Never Married  ms_Widowed  jt_Dont Know/Refuse to answer  jt_Farming and Fishing  jt_Formally employed Government  jt_Formally employed Private  jt_Government Dependent  jt_Informally employed  jt_No Income  jt_Other Income  jt_Remittance Dependent  jt_Self employed  c_Kenya  c_Rwanda  c_Tanzania  c_Uganda\n",
       "0  2016  uniqueid_4858              1                 1        1.791759                     1                2    Rwanda_uniqueid_4858             0          0                      1                        0                   0           0           0           1          0                 0          0                      1             0                           0                        0           0                              0                       1                                0                             0                        0                       0             0                0                        0                 0        0         1           0         0\n",
       "1  2017  uniqueid_3015              0                 0        1.386294                     0                2  Tanzania_uniqueid_3015             0          0                      1                        0                   0           0           0           0          0                 1          0                      0             0                           0                        1           0                              0                       0                                0                             0                        0                       0             0                0                        0                 1        0         0           1         0\n",
       "2  2016   uniqueid_103              1                 1        1.945910                     1                3     Rwanda_uniqueid_103             0          0                      1                        0                   0           0           0           1          0                 0          0                      0             0                           1                        0           0                              0                       1                                0                             0                        0                       0             0                0                        0                 0        0         1           0         0\n",
       "3  2016  uniqueid_4582              1                 0        1.791759                     0                2    Rwanda_uniqueid_4582             0          0                      1                        0                   0           0           0           0          0                 1          0                      0             0                           1                        0           0                              0                       1                                0                             0                        0                       0             0                0                        0                 0        0         1           0         0\n",
       "4  2017  uniqueid_2854              0                 1        0.693147                     1                2  Tanzania_uniqueid_2854             0          0                      1                        0                   0           0           0           0          0                 1          0                      0             0                           0                        1           0                              0                       0                                0                             0                        0                       1             0                0                        0                 0        0         0           1         0"
      ]
     },
     "execution_count": 36,
     "metadata": {},
     "output_type": "execute_result"
    }
   ],
   "source": [
    "df1.head()"
   ]
  },
  {
   "cell_type": "markdown",
   "metadata": {},
   "source": [
    "# 3.0 Data Preparation"
   ]
  },
  {
   "attachments": {},
   "cell_type": "markdown",
   "metadata": {},
   "source": [
    "## 3.1. Split dataframe  into training and testing"
   ]
  },
  {
   "cell_type": "code",
   "execution_count": 119,
   "metadata": {
    "execution": {
     "iopub.execute_input": "2022-06-03T20:27:54.374312Z",
     "iopub.status.busy": "2022-06-03T20:27:54.373914Z",
     "iopub.status.idle": "2022-06-03T20:27:54.382112Z",
     "shell.execute_reply": "2022-06-03T20:27:54.381129Z",
     "shell.execute_reply.started": "2022-06-03T20:27:54.374280Z"
    }
   },
   "outputs": [],
   "source": [
    "from sklearn.model_selection import train_test_split\n",
    "Y = df1['bank_account'].copy()\n",
    "X = df1.drop(['uniqueid', 'bank_account','uid','year','rwh_Head of Household',\n",
    "              'rwh_Other non-relatives', 'rwh_Other relative', 'rwh_Other relative', \n",
    "              'rwh_Parent', 'rwh_Spouse'],axis=1)"
   ]
  },
  {
   "cell_type": "code",
   "execution_count": 40,
   "metadata": {
    "execution": {
     "iopub.execute_input": "2022-06-03T20:29:35.299689Z",
     "iopub.status.busy": "2022-06-03T20:29:35.298668Z",
     "iopub.status.idle": "2022-06-03T20:29:35.313937Z",
     "shell.execute_reply": "2022-06-03T20:29:35.312910Z",
     "shell.execute_reply.started": "2022-06-03T20:29:35.299653Z"
    }
   },
   "outputs": [],
   "source": [
    "#x_train,x_validation,y_train,y_validation = ms.train_test_split(X, y,test_size=0.75)\n",
    "X_train, X_test, y_train,y_test = train_test_split(X,Y,train_size=0.75,stratify=Y,random_state=123)"
   ]
  },
  {
   "attachments": {},
   "cell_type": "markdown",
   "metadata": {},
   "source": [
    "## 3.2 Seleção de Features"
   ]
  },
  {
   "cell_type": "code",
   "execution_count": 84,
   "metadata": {},
   "outputs": [],
   "source": [
    "from sklearn.ensemble import RandomForestClassifier\n",
    "# Treinando modelo\n",
    "model  = RandomForestClassifier()\n",
    "model.fit(X_train, y_train)# Mostrando importância de cada feature\n",
    "model_feature_importances = model.feature_importances_\n",
    "model_feature_importances"
   ]
  },
  {
   "cell_type": "code",
   "execution_count": 94,
   "metadata": {},
   "outputs": [
    {
     "data": {
      "text/plain": [
       "Text(0.5, 1.0, 'Importância de cada feature')"
      ]
     },
     "execution_count": 94,
     "metadata": {},
     "output_type": "execute_result"
    },
    {
     "data": {
      "image/png": "[encoded data removed]",
      "text/plain": [
       "<Figure size 2500x1200 with 1 Axes>"
      ]
     },
     "metadata": {},
     "output_type": "display_data"
    }
   ],
   "source": [
    "df_feat = df1.drop(['uniqueid', 'bank_account','uid','year','rwh_Head of Household',\n",
    "              'rwh_Other non-relatives', 'rwh_Other relative', 'rwh_Other relative', \n",
    "              'rwh_Parent', 'rwh_Spouse'],axis=1)\n",
    "importances = pd.Series(model_feature_importances, index=df_feat.columns)\n",
    "importances = importances.sort_values(ascending=False)\n",
    "sns.barplot(x=importances, y=importances.index, orient='h').set_title('Importância de cada feature')"
   ]
  },
  {
   "cell_type": "code",
   "execution_count": 108,
   "metadata": {},
   "outputs": [],
   "source": [
    "#features selecionadas\n",
    "df2 = df1[['household_size', 'education_level', 'location_type', 'jt_Formally employed Private', 'gender_of_respondent', 'c_Kenya', 'cellphone_access', 'jt_Formally employed Government',\n",
    "'aor_Jovem', 'jt_Self employed', 'aor_Jovem_Adulto', 'aor_Adulto', 'ms_Married/Living together', 'aor_Velho', 'jt_Informally employed']]"
   ]
  },
  {
   "cell_type": "code",
   "execution_count": 128,
   "metadata": {},
   "outputs": [],
   "source": [
    "cols_selected = ['household_size', 'education_level', 'location_type',\n",
    "       'jt_Formally employed Private', 'gender_of_respondent', 'c_Kenya',\n",
    "       'cellphone_access', 'jt_Formally employed Government', 'aor_Jovem',\n",
    "       'jt_Self employed', 'aor_Jovem_Adulto', 'aor_Adulto',\n",
    "       'ms_Married/Living together', 'aor_Velho', 'jt_Informally employed']"
   ]
  },
  {
   "cell_type": "code",
   "execution_count": 129,
   "metadata": {},
   "outputs": [],
   "source": [
    "X_train = X_train[cols_selected]\n",
    "X_test = X_test[cols_selected]"
   ]
  },
  {
   "cell_type": "code",
   "execution_count": 131,
   "metadata": {
    "execution": {
     "iopub.execute_input": "2022-06-03T20:39:40.422307Z",
     "iopub.status.busy": "2022-06-03T20:39:40.421657Z",
     "iopub.status.idle": "2022-06-03T20:39:40.430429Z",
     "shell.execute_reply": "2022-06-03T20:39:40.429480Z",
     "shell.execute_reply.started": "2022-06-03T20:39:40.422255Z"
    }
   },
   "outputs": [],
   "source": [
    "X_train.columns = ['household_size', 'education_level', 'location_type',\n",
    "       'jt_formally_employed_private', 'gender_of_respondent', 'c_Kenya',\n",
    "       'cellphone_access', 'jt_formally_employed_government', 'aor_Jovem',\n",
    "       'jt_self_employed', 'aor_jovem_adulto', 'aor_adulto',\n",
    "       'ms_married/living_together', 'aor_velho', 'jt_informally_employed']\n",
    "\n",
    "X_test.columns = ['household_size', 'education_level', 'location_type',\n",
    "       'jt_formally_employed_private', 'gender_of_respondent', 'c_Kenya',\n",
    "       'cellphone_access', 'jt_formally_employed_government', 'aor_Jovem',\n",
    "       'jt_self_employed', 'aor_jovem_adulto', 'aor_adulto',\n",
    "       'ms_married/living_together', 'aor_velho', 'jt_informally_employed']"
   ]
  },
  {
   "cell_type": "markdown",
   "metadata": {},
   "source": [
    "# 4.0 Machine Learning"
   ]
  },
  {
   "cell_type": "code",
   "execution_count": 134,
   "metadata": {
    "execution": {
     "iopub.execute_input": "2022-06-03T20:39:46.662642Z",
     "iopub.status.busy": "2022-06-03T20:39:46.662116Z",
     "iopub.status.idle": "2022-06-03T20:39:48.985516Z",
     "shell.execute_reply": "2022-06-03T20:39:48.984461Z",
     "shell.execute_reply.started": "2022-06-03T20:39:46.662609Z"
    }
   },
   "outputs": [
    {
     "data": {
      "text/html": [
       "<style>#sk-container-id-2 {color: black;background-color: white;}#sk-container-id-2 pre{padding: 0;}#sk-container-id-2 div.sk-toggleable {background-color: white;}#sk-container-id-2 label.sk-toggleable__label {cursor: pointer;display: block;width: 100%;margin-bottom: 0;padding: 0.3em;box-sizing: border-box;text-align: center;}#sk-container-id-2 label.sk-toggleable__label-arrow:before {content: \"▸\";float: left;margin-right: 0.25em;color: #696969;}#sk-container-id-2 label.sk-toggleable__label-arrow:hover:before {color: black;}#sk-container-id-2 div.sk-estimator:hover label.sk-toggleable__label-arrow:before {color: black;}#sk-container-id-2 div.sk-toggleable__content {max-height: 0;max-width: 0;overflow: hidden;text-align: left;background-color: #f0f8ff;}#sk-container-id-2 div.sk-toggleable__content pre {margin: 0.2em;color: black;border-radius: 0.25em;background-color: #f0f8ff;}#sk-container-id-2 input.sk-toggleable__control:checked~div.sk-toggleable__content {max-height: 200px;max-width: 100%;overflow: auto;}#sk-container-id-2 input.sk-toggleable__control:checked~label.sk-toggleable__label-arrow:before {content: \"▾\";}#sk-container-id-2 div.sk-estimator input.sk-toggleable__control:checked~label.sk-toggleable__label {background-color: #d4ebff;}#sk-container-id-2 div.sk-label input.sk-toggleable__control:checked~label.sk-toggleable__label {background-color: #d4ebff;}#sk-container-id-2 input.sk-hidden--visually {border: 0;clip: rect(1px 1px 1px 1px);clip: rect(1px, 1px, 1px, 1px);height: 1px;margin: -1px;overflow: hidden;padding: 0;position: absolute;width: 1px;}#sk-container-id-2 div.sk-estimator {font-family: monospace;background-color: #f0f8ff;border: 1px dotted black;border-radius: 0.25em;box-sizing: border-box;margin-bottom: 0.5em;}#sk-container-id-2 div.sk-estimator:hover {background-color: #d4ebff;}#sk-container-id-2 div.sk-parallel-item::after {content: \"\";width: 100%;border-bottom: 1px solid gray;flex-grow: 1;}#sk-container-id-2 div.sk-label:hover label.sk-toggleable__label {background-color: #d4ebff;}#sk-container-id-2 div.sk-serial::before {content: \"\";position: absolute;border-left: 1px solid gray;box-sizing: border-box;top: 0;bottom: 0;left: 50%;z-index: 0;}#sk-container-id-2 div.sk-serial {display: flex;flex-direction: column;align-items: center;background-color: white;padding-right: 0.2em;padding-left: 0.2em;position: relative;}#sk-container-id-2 div.sk-item {position: relative;z-index: 1;}#sk-container-id-2 div.sk-parallel {display: flex;align-items: stretch;justify-content: center;background-color: white;position: relative;}#sk-container-id-2 div.sk-item::before, #sk-container-id-2 div.sk-parallel-item::before {content: \"\";position: absolute;border-left: 1px solid gray;box-sizing: border-box;top: 0;bottom: 0;left: 50%;z-index: -1;}#sk-container-id-2 div.sk-parallel-item {display: flex;flex-direction: column;z-index: 1;position: relative;background-color: white;}#sk-container-id-2 div.sk-parallel-item:first-child::after {align-self: flex-end;width: 50%;}#sk-container-id-2 div.sk-parallel-item:last-child::after {align-self: flex-start;width: 50%;}#sk-container-id-2 div.sk-parallel-item:only-child::after {width: 0;}#sk-container-id-2 div.sk-dashed-wrapped {border: 1px dashed gray;margin: 0 0.4em 0.5em 0.4em;box-sizing: border-box;padding-bottom: 0.4em;background-color: white;}#sk-container-id-2 div.sk-label label {font-family: monospace;font-weight: bold;display: inline-block;line-height: 1.2em;}#sk-container-id-2 div.sk-label-container {text-align: center;}#sk-container-id-2 div.sk-container {/* jupyter's `normalize.less` sets `[hidden] { display: none; }` but bootstrap.min.css set `[hidden] { display: none !important; }` so we also need the `!important` here to be able to override the default hidden behavior on the sphinx rendered scikit-learn.org. See: https://github.com/scikit-learn/scikit-learn/issues/21755 */display: inline-block !important;position: relative;}#sk-container-id-2 div.sk-text-repr-fallback {display: none;}</style><div id=\"sk-container-id-2\" class=\"sk-top-container\"><div class=\"sk-text-repr-fallback\"><pre>RandomForestClassifier(bootstrap=False, criterion=&#x27;entropy&#x27;, max_features=0.55,\n",
       "                       min_samples_leaf=9, min_samples_split=12,\n",
       "                       n_estimators=200)</pre><b>In a Jupyter environment, please rerun this cell to show the HTML representation or trust the notebook. <br />On GitHub, the HTML representation is unable to render, please try loading this page with nbviewer.org.</b></div><div class=\"sk-container\" hidden><div class=\"sk-item\"><div class=\"sk-estimator sk-toggleable\"><input class=\"sk-toggleable__control sk-hidden--visually\" id=\"sk-estimator-id-4\" type=\"checkbox\" checked><label for=\"sk-estimator-id-4\" class=\"sk-toggleable__label sk-toggleable__label-arrow\">RandomForestClassifier</label><div class=\"sk-toggleable__content\"><pre>RandomForestClassifier(bootstrap=False, criterion=&#x27;entropy&#x27;, max_features=0.55,\n",
       "                       min_samples_leaf=9, min_samples_split=12,\n",
       "                       n_estimators=200)</pre></div></div></div></div></div>"
      ],
      "text/plain": [
       "RandomForestClassifier(bootstrap=False, criterion='entropy', max_features=0.55,\n",
       "                       min_samples_leaf=9, min_samples_split=12,\n",
       "                       n_estimators=200)"
      ]
     },
     "execution_count": 134,
     "metadata": {},
     "output_type": "execute_result"
    }
   ],
   "source": [
    "from sklearn.ensemble import RandomForestClassifier\n",
    "clf =  RandomForestClassifier(bootstrap=False, criterion=\"entropy\", max_features=0.55, min_samples_leaf=9, min_samples_split=12, n_estimators=200)\n",
    "clf.fit(X_train, y_train)"
   ]
  },
  {
   "cell_type": "code",
   "execution_count": 135,
   "metadata": {
    "execution": {
     "iopub.execute_input": "2022-06-03T20:40:01.681039Z",
     "iopub.status.busy": "2022-06-03T20:40:01.680004Z",
     "iopub.status.idle": "2022-06-03T20:40:01.822045Z",
     "shell.execute_reply": "2022-06-03T20:40:01.820936Z",
     "shell.execute_reply.started": "2022-06-03T20:40:01.680995Z"
    }
   },
   "outputs": [
    {
     "name": "stdout",
     "output_type": "stream",
     "text": [
      "Accuracy: 88.24%\n",
      "F1: 45.43%\n"
     ]
    }
   ],
   "source": [
    "y_pred=clf.predict(X_test)\n",
    "\n",
    "from sklearn.metrics import accuracy_score, f1_score, precision_score, recall_score, classification_report, confusion_matrix\n",
    "print(\"Accuracy: %.2f%%\" % (accuracy_score(y_test, y_pred)*100))\n",
    "print(\"F1: %.2f%%\" % (f1_score(y_test, y_pred)*100))"
   ]
  },
  {
   "cell_type": "code",
   "execution_count": 137,
   "metadata": {
    "execution": {
     "iopub.execute_input": "2022-06-03T20:40:11.317164Z",
     "iopub.status.busy": "2022-06-03T20:40:11.316717Z",
     "iopub.status.idle": "2022-06-03T20:40:11.323553Z",
     "shell.execute_reply": "2022-06-03T20:40:11.322742Z",
     "shell.execute_reply.started": "2022-06-03T20:40:11.317128Z"
    }
   },
   "outputs": [],
   "source": [
    "import xgboost as xgb\n",
    "\n",
    "model1 = xgb.XGBClassifier()\n",
    "model2 = xgb.XGBClassifier(n_estimators=100, max_depth=8, learning_rate=0.1, subsample=0.5)\n",
    "model3 = xgb.XGBClassifier(learning_rate= 0.01,\n",
    "                            n_estimators=1500,\n",
    "                            max_depth= 4,\n",
    "                            subsample= 0.8,\n",
    "                            colsample_bytree= 1,\n",
    "                            gamma= 1)"
   ]
  },
  {
   "cell_type": "code",
   "execution_count": 141,
   "metadata": {},
   "outputs": [
    {
     "name": "stdout",
     "output_type": "stream",
     "text": [
      "Accuracy: 87.96%\n",
      "F1: 45.03%\n"
     ]
    }
   ],
   "source": [
    "model1.fit(X_train, y_train)\n",
    "y_pred=model1.predict(X_test)\n",
    "from sklearn.metrics import accuracy_score, f1_score, precision_score, recall_score, classification_report, confusion_matrix\n",
    "print(\"Accuracy: %.2f%%\" % (accuracy_score(y_test, y_pred)*100))\n",
    "print(\"F1: %.2f%%\" % (f1_score(y_test, y_pred)*100))"
   ]
  },
  {
   "cell_type": "code",
   "execution_count": 139,
   "metadata": {
    "execution": {
     "iopub.execute_input": "2022-06-03T20:40:14.375232Z",
     "iopub.status.busy": "2022-06-03T20:40:14.374599Z",
     "iopub.status.idle": "2022-06-03T20:40:15.245366Z",
     "shell.execute_reply": "2022-06-03T20:40:15.244585Z",
     "shell.execute_reply.started": "2022-06-03T20:40:14.375195Z"
    }
   },
   "outputs": [
    {
     "name": "stdout",
     "output_type": "stream",
     "text": [
      "Accuracy: 88.10%\n",
      "F1: 47.13%\n"
     ]
    }
   ],
   "source": [
    "model2.fit(X_train, y_train)\n",
    "y_pred=model2.predict(X_test)\n",
    "from sklearn.metrics import accuracy_score, f1_score, precision_score, recall_score, classification_report, confusion_matrix\n",
    "print(\"Accuracy: %.2f%%\" % (accuracy_score(y_test, y_pred)*100))\n",
    "print(\"F1: %.2f%%\" % (f1_score(y_test, y_pred)*100))"
   ]
  },
  {
   "cell_type": "code",
   "execution_count": 140,
   "metadata": {
    "execution": {
     "iopub.execute_input": "2022-06-03T20:40:19.668830Z",
     "iopub.status.busy": "2022-06-03T20:40:19.668408Z",
     "iopub.status.idle": "2022-06-03T20:40:30.815890Z",
     "shell.execute_reply": "2022-06-03T20:40:30.814797Z",
     "shell.execute_reply.started": "2022-06-03T20:40:19.668797Z"
    }
   },
   "outputs": [
    {
     "name": "stdout",
     "output_type": "stream",
     "text": [
      "Accuracy: 88.54%\n",
      "F1: 46.25%\n"
     ]
    }
   ],
   "source": [
    "model3.fit(X_train, y_train)\n",
    "y_pred=model3.predict(X_test)\n",
    "\n",
    "from sklearn.metrics import accuracy_score, f1_score, precision_score, recall_score, classification_report, confusion_matrix\n",
    "print(\"Accuracy: %.2f%%\" % (accuracy_score(y_test, y_pred)*100))\n",
    "print(\"F1: %.2f%%\" % (f1_score(y_test, y_pred)*100))"
   ]
  },
  {
   "attachments": {},
   "cell_type": "markdown",
   "metadata": {},
   "source": [
    "# 5.0 Test Submission"
   ]
  },
  {
   "cell_type": "code",
   "execution_count": 142,
   "metadata": {
    "execution": {
     "iopub.execute_input": "2022-06-03T20:44:00.682957Z",
     "iopub.status.busy": "2022-06-03T20:44:00.682532Z",
     "iopub.status.idle": "2022-06-03T20:44:00.689081Z",
     "shell.execute_reply": "2022-06-03T20:44:00.687941Z",
     "shell.execute_reply.started": "2022-06-03T20:44:00.682921Z"
    }
   },
   "outputs": [],
   "source": [
    "test = test_raw.copy()"
   ]
  },
  {
   "cell_type": "code",
   "execution_count": 143,
   "metadata": {
    "execution": {
     "iopub.execute_input": "2022-06-03T20:44:02.560751Z",
     "iopub.status.busy": "2022-06-03T20:44:02.560180Z",
     "iopub.status.idle": "2022-06-03T20:44:02.576184Z",
     "shell.execute_reply": "2022-06-03T20:44:02.575385Z",
     "shell.execute_reply.started": "2022-06-03T20:44:02.560719Z"
    }
   },
   "outputs": [
    {
     "data": {
      "text/html": [
       "<div>\n",
       "<style scoped>\n",
       "    .dataframe tbody tr th:only-of-type {\n",
       "        vertical-align: middle;\n",
       "    }\n",
       "\n",
       "    .dataframe tbody tr th {\n",
       "        vertical-align: top;\n",
       "    }\n",
       "\n",
       "    .dataframe thead th {\n",
       "        text-align: right;\n",
       "    }\n",
       "</style>\n",
       "<table border=\"1\" class=\"dataframe\">\n",
       "  <thead>\n",
       "    <tr style=\"text-align: right;\">\n",
       "      <th></th>\n",
       "      <th>country</th>\n",
       "      <th>year</th>\n",
       "      <th>uniqueid</th>\n",
       "      <th>location_type</th>\n",
       "      <th>cellphone_access</th>\n",
       "      <th>household_size</th>\n",
       "      <th>age_of_respondent</th>\n",
       "      <th>gender_of_respondent</th>\n",
       "      <th>relationship_with_head</th>\n",
       "      <th>marital_status</th>\n",
       "      <th>education_level</th>\n",
       "      <th>job_type</th>\n",
       "      <th>uid</th>\n",
       "    </tr>\n",
       "  </thead>\n",
       "  <tbody>\n",
       "    <tr>\n",
       "      <th>852</th>\n",
       "      <td>Kenya</td>\n",
       "      <td>2018</td>\n",
       "      <td>uniqueid_5457</td>\n",
       "      <td>Urban</td>\n",
       "      <td>No</td>\n",
       "      <td>3</td>\n",
       "      <td>58</td>\n",
       "      <td>Female</td>\n",
       "      <td>Head of Household</td>\n",
       "      <td>Divorced/Seperated</td>\n",
       "      <td>Secondary education</td>\n",
       "      <td>Remittance Dependent</td>\n",
       "      <td>Kenya_uniqueid_5457</td>\n",
       "    </tr>\n",
       "  </tbody>\n",
       "</table>\n",
       "</div>"
      ],
      "text/plain": [
       "    country  year       uniqueid location_type cellphone_access  household_size  age_of_respondent gender_of_respondent relationship_with_head      marital_status      education_level              job_type                  uid\n",
       "852   Kenya  2018  uniqueid_5457         Urban               No               3                 58               Female      Head of Household  Divorced/Seperated  Secondary education  Remittance Dependent  Kenya_uniqueid_5457"
      ]
     },
     "execution_count": 143,
     "metadata": {},
     "output_type": "execute_result"
    }
   ],
   "source": [
    "test.sample()"
   ]
  },
  {
   "attachments": {},
   "cell_type": "markdown",
   "metadata": {},
   "source": [
    "## 5.1 Variable Encoding"
   ]
  },
  {
   "cell_type": "code",
   "execution_count": 144,
   "metadata": {
    "execution": {
     "iopub.execute_input": "2022-06-03T20:44:04.623970Z",
     "iopub.status.busy": "2022-06-03T20:44:04.623444Z",
     "iopub.status.idle": "2022-06-03T20:44:04.634108Z",
     "shell.execute_reply": "2022-06-03T20:44:04.633104Z",
     "shell.execute_reply.started": "2022-06-03T20:44:04.623938Z"
    }
   },
   "outputs": [],
   "source": [
    "test['age_of_respondent'] = test['age_of_respondent'].map(idade)"
   ]
  },
  {
   "cell_type": "code",
   "execution_count": 145,
   "metadata": {
    "execution": {
     "iopub.execute_input": "2022-06-03T20:44:06.437281Z",
     "iopub.status.busy": "2022-06-03T20:44:06.436872Z",
     "iopub.status.idle": "2022-06-03T20:44:06.522636Z",
     "shell.execute_reply": "2022-06-03T20:44:06.521593Z",
     "shell.execute_reply.started": "2022-06-03T20:44:06.437246Z"
    }
   },
   "outputs": [],
   "source": [
    "\n",
    "test['gender_of_respondent']=test['gender_of_respondent'].apply(lambda x: 1 if x=='Male' else 0)\n",
    "test['location_type']=test['location_type'].apply(lambda x:1 if x=='Rural' else 0)\n",
    "test['cellphone_access']=test['cellphone_access'].apply(lambda x:1 if x=='Yes' else 0)\n",
    "\n",
    "test = pd.get_dummies(test, columns=['relationship_with_head'], prefix = ['rwh'])\n",
    "test = pd.get_dummies(test, columns=['age_of_respondent'], prefix = ['aor'])\n",
    "\n",
    "test = pd.get_dummies(test, columns=['marital_status'], prefix = ['ms'])\n",
    "test = pd.get_dummies(test, columns=['job_type'], prefix = ['jt'])\n",
    "test = pd.get_dummies(test, columns=['country'], prefix = ['c'])\n",
    "\n",
    "test['education_level'] = LabelEncoder().fit_transform(test['education_level'].astype(str))\n"
   ]
  },
  {
   "cell_type": "code",
   "execution_count": 146,
   "metadata": {
    "execution": {
     "iopub.execute_input": "2022-06-03T20:44:17.255569Z",
     "iopub.status.busy": "2022-06-03T20:44:17.255101Z",
     "iopub.status.idle": "2022-06-03T20:44:17.261927Z",
     "shell.execute_reply": "2022-06-03T20:44:17.261164Z",
     "shell.execute_reply.started": "2022-06-03T20:44:17.255469Z"
    }
   },
   "outputs": [],
   "source": [
    "test['household_size'] = np.log(test.household_size)"
   ]
  },
  {
   "attachments": {},
   "cell_type": "markdown",
   "metadata": {},
   "source": [
    "## 5.2 Training Model"
   ]
  },
  {
   "cell_type": "code",
   "execution_count": 148,
   "metadata": {
    "execution": {
     "iopub.execute_input": "2022-06-03T20:15:59.146745Z",
     "iopub.status.busy": "2022-06-03T20:15:59.146383Z",
     "iopub.status.idle": "2022-06-03T20:15:59.189739Z",
     "shell.execute_reply": "2022-06-03T20:15:59.188634Z",
     "shell.execute_reply.started": "2022-06-03T20:15:59.146716Z"
    }
   },
   "outputs": [
    {
     "ename": "KeyError",
     "evalue": "\"['jt_formally_employed_private', 'jt_formally_employed_government', 'jt_self_employed', 'aor_jovem_adulto', 'aor_adulto', 'ms_married/living_together', 'aor_velho', 'jt_informally_employed'] not in index\"",
     "output_type": "error",
     "traceback": [
      "\u001b[0;31m---------------------------------------------------------------------------\u001b[0m",
      "\u001b[0;31mKeyError\u001b[0m                                  Traceback (most recent call last)",
      "Cell \u001b[0;32mIn[148], line 2\u001b[0m\n\u001b[1;32m      1\u001b[0m \u001b[39m# Make a prediction using the XGboost model on the wanted columns\u001b[39;00m\n\u001b[0;32m----> 2\u001b[0m predictions \u001b[39m=\u001b[39m model3\u001b[39m.\u001b[39mpredict(test[wanted_test_columns])\n",
      "File \u001b[0;32m~/.pyenv/versions/3.10-dev/envs/1hackday/lib/python3.10/site-packages/pandas/core/frame.py:3813\u001b[0m, in \u001b[0;36mDataFrame.__getitem__\u001b[0;34m(self, key)\u001b[0m\n\u001b[1;32m   3811\u001b[0m     \u001b[39mif\u001b[39;00m is_iterator(key):\n\u001b[1;32m   3812\u001b[0m         key \u001b[39m=\u001b[39m \u001b[39mlist\u001b[39m(key)\n\u001b[0;32m-> 3813\u001b[0m     indexer \u001b[39m=\u001b[39m \u001b[39mself\u001b[39;49m\u001b[39m.\u001b[39;49mcolumns\u001b[39m.\u001b[39;49m_get_indexer_strict(key, \u001b[39m\"\u001b[39;49m\u001b[39mcolumns\u001b[39;49m\u001b[39m\"\u001b[39;49m)[\u001b[39m1\u001b[39m]\n\u001b[1;32m   3815\u001b[0m \u001b[39m# take() does not accept boolean indexers\u001b[39;00m\n\u001b[1;32m   3816\u001b[0m \u001b[39mif\u001b[39;00m \u001b[39mgetattr\u001b[39m(indexer, \u001b[39m\"\u001b[39m\u001b[39mdtype\u001b[39m\u001b[39m\"\u001b[39m, \u001b[39mNone\u001b[39;00m) \u001b[39m==\u001b[39m \u001b[39mbool\u001b[39m:\n",
      "File \u001b[0;32m~/.pyenv/versions/3.10-dev/envs/1hackday/lib/python3.10/site-packages/pandas/core/indexes/base.py:6070\u001b[0m, in \u001b[0;36mIndex._get_indexer_strict\u001b[0;34m(self, key, axis_name)\u001b[0m\n\u001b[1;32m   6067\u001b[0m \u001b[39melse\u001b[39;00m:\n\u001b[1;32m   6068\u001b[0m     keyarr, indexer, new_indexer \u001b[39m=\u001b[39m \u001b[39mself\u001b[39m\u001b[39m.\u001b[39m_reindex_non_unique(keyarr)\n\u001b[0;32m-> 6070\u001b[0m \u001b[39mself\u001b[39;49m\u001b[39m.\u001b[39;49m_raise_if_missing(keyarr, indexer, axis_name)\n\u001b[1;32m   6072\u001b[0m keyarr \u001b[39m=\u001b[39m \u001b[39mself\u001b[39m\u001b[39m.\u001b[39mtake(indexer)\n\u001b[1;32m   6073\u001b[0m \u001b[39mif\u001b[39;00m \u001b[39misinstance\u001b[39m(key, Index):\n\u001b[1;32m   6074\u001b[0m     \u001b[39m# GH 42790 - Preserve name from an Index\u001b[39;00m\n",
      "File \u001b[0;32m~/.pyenv/versions/3.10-dev/envs/1hackday/lib/python3.10/site-packages/pandas/core/indexes/base.py:6133\u001b[0m, in \u001b[0;36mIndex._raise_if_missing\u001b[0;34m(self, key, indexer, axis_name)\u001b[0m\n\u001b[1;32m   6130\u001b[0m     \u001b[39mraise\u001b[39;00m \u001b[39mKeyError\u001b[39;00m(\u001b[39mf\u001b[39m\u001b[39m\"\u001b[39m\u001b[39mNone of [\u001b[39m\u001b[39m{\u001b[39;00mkey\u001b[39m}\u001b[39;00m\u001b[39m] are in the [\u001b[39m\u001b[39m{\u001b[39;00maxis_name\u001b[39m}\u001b[39;00m\u001b[39m]\u001b[39m\u001b[39m\"\u001b[39m)\n\u001b[1;32m   6132\u001b[0m not_found \u001b[39m=\u001b[39m \u001b[39mlist\u001b[39m(ensure_index(key)[missing_mask\u001b[39m.\u001b[39mnonzero()[\u001b[39m0\u001b[39m]]\u001b[39m.\u001b[39munique())\n\u001b[0;32m-> 6133\u001b[0m \u001b[39mraise\u001b[39;00m \u001b[39mKeyError\u001b[39;00m(\u001b[39mf\u001b[39m\u001b[39m\"\u001b[39m\u001b[39m{\u001b[39;00mnot_found\u001b[39m}\u001b[39;00m\u001b[39m not in index\u001b[39m\u001b[39m\"\u001b[39m)\n",
      "\u001b[0;31mKeyError\u001b[0m: \"['jt_formally_employed_private', 'jt_formally_employed_government', 'jt_self_employed', 'aor_jovem_adulto', 'aor_adulto', 'ms_married/living_together', 'aor_velho', 'jt_informally_employed'] not in index\""
     ]
    }
   ],
   "source": [
    "# Make a prediction using the XGboost model on the wanted columns\n",
    "predictions = model3.predict(test[cols_selected])"
   ]
  },
  {
   "cell_type": "code",
   "execution_count": null,
   "metadata": {
    "execution": {
     "iopub.execute_input": "2022-06-03T20:16:25.970800Z",
     "iopub.status.busy": "2022-06-03T20:16:25.970175Z",
     "iopub.status.idle": "2022-06-03T20:16:25.977457Z",
     "shell.execute_reply": "2022-06-03T20:16:25.976752Z",
     "shell.execute_reply.started": "2022-06-03T20:16:25.970759Z"
    }
   },
   "outputs": [],
   "source": [
    "submission = pd.DataFrame({'uid': test.uid, 'bank_account': predictions})"
   ]
  },
  {
   "cell_type": "code",
   "execution_count": null,
   "metadata": {
    "execution": {
     "iopub.execute_input": "2022-06-03T20:16:44.535189Z",
     "iopub.status.busy": "2022-06-03T20:16:44.534602Z",
     "iopub.status.idle": "2022-06-03T20:16:44.543675Z",
     "shell.execute_reply": "2022-06-03T20:16:44.542518Z",
     "shell.execute_reply.started": "2022-06-03T20:16:44.535138Z"
    }
   },
   "outputs": [],
   "source": [
    "submission.dtypes"
   ]
  },
  {
   "cell_type": "code",
   "execution_count": null,
   "metadata": {
    "execution": {
     "iopub.execute_input": "2022-06-03T20:16:50.364021Z",
     "iopub.status.busy": "2022-06-03T20:16:50.363631Z",
     "iopub.status.idle": "2022-06-03T20:16:50.372405Z",
     "shell.execute_reply": "2022-06-03T20:16:50.371474Z",
     "shell.execute_reply.started": "2022-06-03T20:16:50.363991Z"
    }
   },
   "outputs": [],
   "source": [
    "submission['bank_account'].value_counts()"
   ]
  },
  {
   "cell_type": "code",
   "execution_count": null,
   "metadata": {
    "execution": {
     "iopub.execute_input": "2022-06-03T20:19:24.085676Z",
     "iopub.status.busy": "2022-06-03T20:19:24.085276Z",
     "iopub.status.idle": "2022-06-03T20:19:24.090638Z",
     "shell.execute_reply": "2022-06-03T20:19:24.089671Z",
     "shell.execute_reply.started": "2022-06-03T20:19:24.085646Z"
    }
   },
   "outputs": [],
   "source": [
    "def yesno(coluna):\n",
    "    if coluna == 0:\n",
    "        return \"No\"\n",
    "    else:\n",
    "        return \"Yes\""
   ]
  },
  {
   "cell_type": "code",
   "execution_count": null,
   "metadata": {
    "execution": {
     "iopub.execute_input": "2022-06-03T20:19:26.786674Z",
     "iopub.status.busy": "2022-06-03T20:19:26.786290Z",
     "iopub.status.idle": "2022-06-03T20:19:26.795677Z",
     "shell.execute_reply": "2022-06-03T20:19:26.794551Z",
     "shell.execute_reply.started": "2022-06-03T20:19:26.786644Z"
    }
   },
   "outputs": [],
   "source": [
    "submission['bank_account'] = submission['bank_account'].map(yesno)"
   ]
  },
  {
   "cell_type": "code",
   "execution_count": null,
   "metadata": {
    "execution": {
     "iopub.execute_input": "2022-06-03T20:19:28.506704Z",
     "iopub.status.busy": "2022-06-03T20:19:28.505979Z",
     "iopub.status.idle": "2022-06-03T20:19:28.525665Z",
     "shell.execute_reply": "2022-06-03T20:19:28.524872Z",
     "shell.execute_reply.started": "2022-06-03T20:19:28.506666Z"
    }
   },
   "outputs": [],
   "source": [
    "submission.sample(100)"
   ]
  },
  {
   "cell_type": "code",
   "execution_count": null,
   "metadata": {
    "execution": {
     "iopub.execute_input": "2022-06-03T20:19:43.558105Z",
     "iopub.status.busy": "2022-06-03T20:19:43.557414Z",
     "iopub.status.idle": "2022-06-03T20:19:43.591861Z",
     "shell.execute_reply": "2022-06-03T20:19:43.590828Z",
     "shell.execute_reply.started": "2022-06-03T20:19:43.558055Z"
    }
   },
   "outputs": [],
   "source": [
    "# Convert submisison dataframe to csv for submission to csv \n",
    "# for Kaggle submisison\n",
    "submission.to_csv('/kaggle/working/submission.csv', index=False)\n",
    "print('Submission CSV is ready!')"
   ]
  }
 ],
 "metadata": {
  "kernelspec": {
   "display_name": "1hackday",
   "language": "python",
   "name": "python3"
  },
  "language_info": {
   "codemirror_mode": {
    "name": "ipython",
    "version": 3
   },
   "file_extension": ".py",
   "mimetype": "text/x-python",
   "name": "python",
   "nbconvert_exporter": "python",
   "pygments_lexer": "ipython3",
   "version": "3.10.7+"
  },
  "varInspector": {
   "cols": {
    "lenName": 16,
    "lenType": 16,
    "lenVar": 40
   },
   "kernels_config": {
    "python": {
     "delete_cmd_postfix": "",
     "delete_cmd_prefix": "del ",
     "library": "var_list.py",
     "varRefreshCmd": "print(var_dic_list())"
    },
    "r": {
     "delete_cmd_postfix": ") ",
     "delete_cmd_prefix": "rm(",
     "library": "var_list.r",
     "varRefreshCmd": "cat(var_dic_list()) "
    }
   },
   "types_to_exclude": [
    "module",
    "function",
    "builtin_function_or_method",
    "instance",
    "_Feature"
   ],
   "window_display": false
  },
  "vscode": {
   "interpreter": {
    "hash": "ebf24d83f4ad19f7f1dfb4fd2d03f185a3397beb1694e77f8541773919d45592"
   }
  }
 },
 "nbformat": 4,
 "nbformat_minor": 4
}
